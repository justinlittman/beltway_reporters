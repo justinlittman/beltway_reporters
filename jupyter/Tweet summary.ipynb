{
 "cells": [
  {
   "cell_type": "markdown",
   "metadata": {},
   "source": [
    "# Tweet summary"
   ]
  },
  {
   "cell_type": "markdown",
   "metadata": {},
   "source": [
    "### Load the data"
   ]
  },
  {
   "cell_type": "code",
   "execution_count": 1,
   "metadata": {},
   "outputs": [
    {
     "name": "stderr",
     "output_type": "stream",
     "text": [
      "INFO:root:Loading from tweets/6eea2088e010437da4b6031c2abffdc9_001.json.gz\n",
      "DEBUG:root:Loaded 50000\n",
      "DEBUG:root:Loaded 100000\n",
      "DEBUG:root:Loaded 150000\n",
      "DEBUG:root:Loaded 200000\n",
      "DEBUG:root:Loaded 250000\n",
      "DEBUG:root:Loaded 300000\n",
      "INFO:root:Loading from tweets/a7bcdbde7a104285b92fe26e286f2543_001.json.gz\n",
      "DEBUG:root:Loaded 350000\n",
      "DEBUG:root:Loaded 400000\n",
      "DEBUG:root:Loaded 450000\n",
      "DEBUG:root:Loaded 500000\n",
      "DEBUG:root:Loaded 550000\n",
      "DEBUG:root:Loaded 600000\n",
      "INFO:root:Loading from tweets/e1c824ff2b3c4c5a9a93a16e5036d09a_001.json.gz\n",
      "DEBUG:root:Loaded 650000\n",
      "DEBUG:root:Loaded 700000\n",
      "DEBUG:root:Loaded 750000\n"
     ]
    },
    {
     "data": {
      "text/plain": [
       "tweet_id            765036\n",
       "user_id             765036\n",
       "screen_name         765036\n",
       "tweet_created_at    765036\n",
       "user_created_at     765036\n",
       "tweets_to_date      765036\n",
       "tweet_type          765036\n",
       "dtype: int64"
      ]
     },
     "execution_count": 1,
     "metadata": {},
     "output_type": "execute_result"
    }
   ],
   "source": [
    "%matplotlib inline\n",
    "import pandas as pd\n",
    "import numpy as np\n",
    "import logging\n",
    "from dateutil.parser import parse as date_parse\n",
    "from utils import tweet_load_iter, tweet_type\n",
    "import matplotlib.pyplot as plt\n",
    "\n",
    "\n",
    "logger = logging.getLogger()\n",
    "logger.setLevel(logging.DEBUG)\n",
    "\n",
    "def tweet_transform(tweet):\n",
    "    return {\n",
    "        'tweet_id': tweet['id_str'], \n",
    "        'tweet_created_at': date_parse(tweet['created_at']),\n",
    "        'user_id': tweet['user']['id_str'],\n",
    "        'screen_name': tweet['user']['screen_name'],\n",
    "        'user_created_at': date_parse(tweet['user']['created_at']),\n",
    "        'tweets_to_date': tweet['user']['statuses_count'],\n",
    "        'tweet_type': tweet_type(tweet)\n",
    "    }\n",
    "\n",
    "tweet_df = pd.DataFrame(tweet_load_iter(tweet_transform_func=tweet_transform), \n",
    "                        columns=['tweet_id', 'user_id', 'screen_name', 'tweet_created_at', \n",
    "                                 'user_created_at', 'tweets_to_date', 'tweet_type'])\n",
    "tweet_df.count()"
   ]
  },
  {
   "cell_type": "markdown",
   "metadata": {},
   "source": [
    "### View the top of the data."
   ]
  },
  {
   "cell_type": "code",
   "execution_count": 2,
   "metadata": {
    "scrolled": true
   },
   "outputs": [
    {
     "data": {
      "text/html": [
       "<div>\n",
       "<table border=\"1\" class=\"dataframe\">\n",
       "  <thead>\n",
       "    <tr style=\"text-align: right;\">\n",
       "      <th></th>\n",
       "      <th>tweet_id</th>\n",
       "      <th>user_id</th>\n",
       "      <th>screen_name</th>\n",
       "      <th>tweet_created_at</th>\n",
       "      <th>user_created_at</th>\n",
       "      <th>tweets_to_date</th>\n",
       "      <th>tweet_type</th>\n",
       "    </tr>\n",
       "  </thead>\n",
       "  <tbody>\n",
       "    <tr>\n",
       "      <th>0</th>\n",
       "      <td>847428582821449730</td>\n",
       "      <td>780221130</td>\n",
       "      <td>loren_duggan</td>\n",
       "      <td>2017-03-30 12:41:33+00:00</td>\n",
       "      <td>2012-08-25 12:32:20+00:00</td>\n",
       "      <td>886</td>\n",
       "      <td>reply</td>\n",
       "    </tr>\n",
       "    <tr>\n",
       "      <th>1</th>\n",
       "      <td>847787664963239936</td>\n",
       "      <td>285772181</td>\n",
       "      <td>akesslerdc</td>\n",
       "      <td>2017-03-31 12:28:25+00:00</td>\n",
       "      <td>2011-04-21 19:15:21+00:00</td>\n",
       "      <td>8604</td>\n",
       "      <td>retweet</td>\n",
       "    </tr>\n",
       "    <tr>\n",
       "      <th>2</th>\n",
       "      <td>847634105118318594</td>\n",
       "      <td>285772181</td>\n",
       "      <td>akesslerdc</td>\n",
       "      <td>2017-03-31 02:18:13+00:00</td>\n",
       "      <td>2011-04-21 19:15:21+00:00</td>\n",
       "      <td>8604</td>\n",
       "      <td>quote</td>\n",
       "    </tr>\n",
       "    <tr>\n",
       "      <th>3</th>\n",
       "      <td>847617579627630592</td>\n",
       "      <td>285772181</td>\n",
       "      <td>akesslerdc</td>\n",
       "      <td>2017-03-31 01:12:33+00:00</td>\n",
       "      <td>2011-04-21 19:15:21+00:00</td>\n",
       "      <td>8604</td>\n",
       "      <td>retweet</td>\n",
       "    </tr>\n",
       "    <tr>\n",
       "      <th>4</th>\n",
       "      <td>847601029654880258</td>\n",
       "      <td>285772181</td>\n",
       "      <td>akesslerdc</td>\n",
       "      <td>2017-03-31 00:06:47+00:00</td>\n",
       "      <td>2011-04-21 19:15:21+00:00</td>\n",
       "      <td>8604</td>\n",
       "      <td>retweet</td>\n",
       "    </tr>\n",
       "  </tbody>\n",
       "</table>\n",
       "</div>"
      ],
      "text/plain": [
       "             tweet_id    user_id   screen_name          tweet_created_at  \\\n",
       "0  847428582821449730  780221130  loren_duggan 2017-03-30 12:41:33+00:00   \n",
       "1  847787664963239936  285772181    akesslerdc 2017-03-31 12:28:25+00:00   \n",
       "2  847634105118318594  285772181    akesslerdc 2017-03-31 02:18:13+00:00   \n",
       "3  847617579627630592  285772181    akesslerdc 2017-03-31 01:12:33+00:00   \n",
       "4  847601029654880258  285772181    akesslerdc 2017-03-31 00:06:47+00:00   \n",
       "\n",
       "            user_created_at  tweets_to_date tweet_type  \n",
       "0 2012-08-25 12:32:20+00:00             886      reply  \n",
       "1 2011-04-21 19:15:21+00:00            8604    retweet  \n",
       "2 2011-04-21 19:15:21+00:00            8604      quote  \n",
       "3 2011-04-21 19:15:21+00:00            8604    retweet  \n",
       "4 2011-04-21 19:15:21+00:00            8604    retweet  "
      ]
     },
     "execution_count": 2,
     "metadata": {},
     "output_type": "execute_result"
    }
   ],
   "source": [
    "tweet_df.head()"
   ]
  },
  {
   "cell_type": "markdown",
   "metadata": {},
   "source": [
    "### Remove duplicates\n",
    "Dupes happen when collecting data from Twitter API and because some reporters may existing in multiple lists."
   ]
  },
  {
   "cell_type": "code",
   "execution_count": 3,
   "metadata": {},
   "outputs": [
    {
     "data": {
      "text/plain": [
       "761078"
      ]
     },
     "execution_count": 3,
     "metadata": {},
     "output_type": "execute_result"
    }
   ],
   "source": [
    "len(tweet_df['tweet_id'].unique())"
   ]
  },
  {
   "cell_type": "code",
   "execution_count": 4,
   "metadata": {},
   "outputs": [
    {
     "data": {
      "text/plain": [
       "761078"
      ]
     },
     "execution_count": 4,
     "metadata": {},
     "output_type": "execute_result"
    }
   ],
   "source": [
    "dedupe_tweet_df = tweet_df.drop_duplicates(['tweet_id'], keep='last')\n",
    "len(dedupe_tweet_df)"
   ]
  },
  {
   "cell_type": "markdown",
   "metadata": {
    "collapsed": true
   },
   "source": [
    "### Create lookup of screen names"
   ]
  },
  {
   "cell_type": "code",
   "execution_count": 6,
   "metadata": {},
   "outputs": [
    {
     "data": {
      "text/plain": [
       "screen_name    1951\n",
       "dtype: int64"
      ]
     },
     "execution_count": 6,
     "metadata": {},
     "output_type": "execute_result"
    }
   ],
   "source": [
    "# From the tweets, extract map of user ids to screen names\n",
    "user_id_lookup_df = dedupe_tweet_df.loc[dedupe_tweet_df.groupby('user_id')['tweet_created_at'].idxmax()].ix[:,['user_id', 'screen_name']].set_index(['user_id'])\n",
    "user_id_lookup_df.count()"
   ]
  },
  {
   "cell_type": "code",
   "execution_count": 7,
   "metadata": {},
   "outputs": [
    {
     "data": {
      "text/html": [
       "<div>\n",
       "<table border=\"1\" class=\"dataframe\">\n",
       "  <thead>\n",
       "    <tr style=\"text-align: right;\">\n",
       "      <th></th>\n",
       "      <th>screen_name</th>\n",
       "    </tr>\n",
       "    <tr>\n",
       "      <th>user_id</th>\n",
       "      <th></th>\n",
       "    </tr>\n",
       "  </thead>\n",
       "  <tbody>\n",
       "    <tr>\n",
       "      <th>100165378</th>\n",
       "      <td>ChristineSisto</td>\n",
       "    </tr>\n",
       "    <tr>\n",
       "      <th>1001991865</th>\n",
       "      <td>FredSchulte</td>\n",
       "    </tr>\n",
       "    <tr>\n",
       "      <th>1002229862</th>\n",
       "      <td>HMRothmandc</td>\n",
       "    </tr>\n",
       "    <tr>\n",
       "      <th>100802089</th>\n",
       "      <td>ayesharascoe</td>\n",
       "    </tr>\n",
       "    <tr>\n",
       "      <th>100860790</th>\n",
       "      <td>DionNissenbaum</td>\n",
       "    </tr>\n",
       "  </tbody>\n",
       "</table>\n",
       "</div>"
      ],
      "text/plain": [
       "               screen_name\n",
       "user_id                   \n",
       "100165378   ChristineSisto\n",
       "1001991865     FredSchulte\n",
       "1002229862     HMRothmandc\n",
       "100802089     ayesharascoe\n",
       "100860790   DionNissenbaum"
      ]
     },
     "execution_count": 7,
     "metadata": {},
     "output_type": "execute_result"
    }
   ],
   "source": [
    "user_id_lookup_df.head()"
   ]
  },
  {
   "cell_type": "code",
   "execution_count": null,
   "metadata": {
    "collapsed": true
   },
   "outputs": [],
   "source": []
  },
  {
   "cell_type": "markdown",
   "metadata": {},
   "source": [
    "## Tweets in dataset for each user"
   ]
  },
  {
   "cell_type": "code",
   "execution_count": 8,
   "metadata": {},
   "outputs": [
    {
     "data": {
      "text/html": [
       "<div>\n",
       "<table border=\"1\" class=\"dataframe\">\n",
       "  <thead>\n",
       "    <tr style=\"text-align: right;\">\n",
       "      <th>tweet_type</th>\n",
       "      <th>original</th>\n",
       "      <th>quote</th>\n",
       "      <th>reply</th>\n",
       "      <th>retweet</th>\n",
       "      <th>tweets_in_dataset</th>\n",
       "      <th>bin</th>\n",
       "    </tr>\n",
       "    <tr>\n",
       "      <th>user_id</th>\n",
       "      <th></th>\n",
       "      <th></th>\n",
       "      <th></th>\n",
       "      <th></th>\n",
       "      <th></th>\n",
       "      <th></th>\n",
       "    </tr>\n",
       "  </thead>\n",
       "  <tbody>\n",
       "    <tr>\n",
       "      <th>100165378</th>\n",
       "      <td>53.0</td>\n",
       "      <td>21.0</td>\n",
       "      <td>54.0</td>\n",
       "      <td>68.0</td>\n",
       "      <td>196.0</td>\n",
       "      <td>Bottom 90%</td>\n",
       "    </tr>\n",
       "    <tr>\n",
       "      <th>1001991865</th>\n",
       "      <td>12.0</td>\n",
       "      <td>0.0</td>\n",
       "      <td>2.0</td>\n",
       "      <td>21.0</td>\n",
       "      <td>35.0</td>\n",
       "      <td>Bottom 90%</td>\n",
       "    </tr>\n",
       "    <tr>\n",
       "      <th>1002229862</th>\n",
       "      <td>47.0</td>\n",
       "      <td>9.0</td>\n",
       "      <td>5.0</td>\n",
       "      <td>92.0</td>\n",
       "      <td>153.0</td>\n",
       "      <td>Bottom 90%</td>\n",
       "    </tr>\n",
       "    <tr>\n",
       "      <th>100802089</th>\n",
       "      <td>6.0</td>\n",
       "      <td>4.0</td>\n",
       "      <td>8.0</td>\n",
       "      <td>3.0</td>\n",
       "      <td>21.0</td>\n",
       "      <td>Bottom 90%</td>\n",
       "    </tr>\n",
       "    <tr>\n",
       "      <th>100860790</th>\n",
       "      <td>153.0</td>\n",
       "      <td>18.0</td>\n",
       "      <td>13.0</td>\n",
       "      <td>244.0</td>\n",
       "      <td>428.0</td>\n",
       "      <td>Bottom 90%</td>\n",
       "    </tr>\n",
       "  </tbody>\n",
       "</table>\n",
       "</div>"
      ],
      "text/plain": [
       "tweet_type  original  quote  reply  retweet  tweets_in_dataset         bin\n",
       "user_id                                                                   \n",
       "100165378       53.0   21.0   54.0     68.0              196.0  Bottom 90%\n",
       "1001991865      12.0    0.0    2.0     21.0               35.0  Bottom 90%\n",
       "1002229862      47.0    9.0    5.0     92.0              153.0  Bottom 90%\n",
       "100802089        6.0    4.0    8.0      3.0               21.0  Bottom 90%\n",
       "100860790      153.0   18.0   13.0    244.0              428.0  Bottom 90%"
      ]
     },
     "execution_count": 8,
     "metadata": {},
     "output_type": "execute_result"
    }
   ],
   "source": [
    "tweet_count_df = dedupe_tweet_df[['user_id', 'tweet_type']].groupby(['user_id', 'tweet_type']).size().unstack()\n",
    "tweet_count_df.fillna(0, inplace=True)\n",
    "tweet_count_df['tweets_in_dataset'] = tweet_count_df.original + tweet_count_df.quote + tweet_count_df.reply + tweet_count_df.retweet\n",
    "tweet_count_df['bin'] = pd.qcut(tweet_count_df.tweets_in_dataset, [0, .9, .99, 1.], labels=['Bottom 90%', 'Middle 9%', 'Top 1%'])\n",
    "tweet_count_df.head()"
   ]
  },
  {
   "cell_type": "markdown",
   "metadata": {},
   "source": [
    "### Statistics on number of tweets in dataset for each user"
   ]
  },
  {
   "cell_type": "code",
   "execution_count": 9,
   "metadata": {},
   "outputs": [
    {
     "data": {
      "text/html": [
       "<div>\n",
       "<table border=\"1\" class=\"dataframe\">\n",
       "  <thead>\n",
       "    <tr style=\"text-align: right;\">\n",
       "      <th>tweet_type</th>\n",
       "      <th>original</th>\n",
       "      <th>quote</th>\n",
       "      <th>reply</th>\n",
       "      <th>retweet</th>\n",
       "      <th>tweets_in_dataset</th>\n",
       "    </tr>\n",
       "  </thead>\n",
       "  <tbody>\n",
       "    <tr>\n",
       "      <th>count</th>\n",
       "      <td>1951.000000</td>\n",
       "      <td>1951.000000</td>\n",
       "      <td>1951.000000</td>\n",
       "      <td>1951.000000</td>\n",
       "      <td>1951.000000</td>\n",
       "    </tr>\n",
       "    <tr>\n",
       "      <th>mean</th>\n",
       "      <td>125.567914</td>\n",
       "      <td>49.897488</td>\n",
       "      <td>60.773962</td>\n",
       "      <td>153.856996</td>\n",
       "      <td>390.096361</td>\n",
       "    </tr>\n",
       "    <tr>\n",
       "      <th>std</th>\n",
       "      <td>204.256680</td>\n",
       "      <td>123.289215</td>\n",
       "      <td>257.559753</td>\n",
       "      <td>361.313261</td>\n",
       "      <td>717.134366</td>\n",
       "    </tr>\n",
       "    <tr>\n",
       "      <th>min</th>\n",
       "      <td>0.000000</td>\n",
       "      <td>0.000000</td>\n",
       "      <td>0.000000</td>\n",
       "      <td>0.000000</td>\n",
       "      <td>1.000000</td>\n",
       "    </tr>\n",
       "    <tr>\n",
       "      <th>25%</th>\n",
       "      <td>12.000000</td>\n",
       "      <td>1.000000</td>\n",
       "      <td>1.000000</td>\n",
       "      <td>8.000000</td>\n",
       "      <td>36.000000</td>\n",
       "    </tr>\n",
       "    <tr>\n",
       "      <th>50%</th>\n",
       "      <td>50.000000</td>\n",
       "      <td>8.000000</td>\n",
       "      <td>6.000000</td>\n",
       "      <td>42.000000</td>\n",
       "      <td>136.000000</td>\n",
       "    </tr>\n",
       "    <tr>\n",
       "      <th>75%</th>\n",
       "      <td>159.000000</td>\n",
       "      <td>46.000000</td>\n",
       "      <td>34.000000</td>\n",
       "      <td>145.500000</td>\n",
       "      <td>449.000000</td>\n",
       "    </tr>\n",
       "    <tr>\n",
       "      <th>max</th>\n",
       "      <td>3210.000000</td>\n",
       "      <td>1769.000000</td>\n",
       "      <td>8009.000000</td>\n",
       "      <td>5410.000000</td>\n",
       "      <td>10643.000000</td>\n",
       "    </tr>\n",
       "  </tbody>\n",
       "</table>\n",
       "</div>"
      ],
      "text/plain": [
       "tweet_type     original        quote        reply      retweet  \\\n",
       "count       1951.000000  1951.000000  1951.000000  1951.000000   \n",
       "mean         125.567914    49.897488    60.773962   153.856996   \n",
       "std          204.256680   123.289215   257.559753   361.313261   \n",
       "min            0.000000     0.000000     0.000000     0.000000   \n",
       "25%           12.000000     1.000000     1.000000     8.000000   \n",
       "50%           50.000000     8.000000     6.000000    42.000000   \n",
       "75%          159.000000    46.000000    34.000000   145.500000   \n",
       "max         3210.000000  1769.000000  8009.000000  5410.000000   \n",
       "\n",
       "tweet_type  tweets_in_dataset  \n",
       "count             1951.000000  \n",
       "mean               390.096361  \n",
       "std                717.134366  \n",
       "min                  1.000000  \n",
       "25%                 36.000000  \n",
       "50%                136.000000  \n",
       "75%                449.000000  \n",
       "max              10643.000000  "
      ]
     },
     "execution_count": 9,
     "metadata": {},
     "output_type": "execute_result"
    }
   ],
   "source": [
    "tweet_count_df.describe()"
   ]
  },
  {
   "cell_type": "markdown",
   "metadata": {},
   "source": [
    "## Types of tweets\n",
    "While all the tweets are loaded, summarize the types of tweets."
   ]
  },
  {
   "cell_type": "code",
   "execution_count": 10,
   "metadata": {},
   "outputs": [
    {
     "data": {
      "text/plain": [
       "retweet     300175\n",
       "original    244983\n",
       "reply       118570\n",
       "quote        97350\n",
       "Name: tweet_type, dtype: int64"
      ]
     },
     "execution_count": 10,
     "metadata": {},
     "output_type": "execute_result"
    }
   ],
   "source": [
    "dedupe_tweet_df['tweet_type'].value_counts()"
   ]
  },
  {
   "cell_type": "markdown",
   "metadata": {},
   "source": [
    "## 1/9/90 rule\n",
    "For top 1%, 9%, 90% of tweeters, the number of tweets and types of tweets they account for."
   ]
  },
  {
   "cell_type": "code",
   "execution_count": 11,
   "metadata": {},
   "outputs": [
    {
     "data": {
      "text/html": [
       "<div>\n",
       "<table border=\"1\" class=\"dataframe\">\n",
       "  <thead>\n",
       "    <tr style=\"text-align: right;\">\n",
       "      <th>tweet_type</th>\n",
       "      <th>original</th>\n",
       "      <th>quote</th>\n",
       "      <th>reply</th>\n",
       "      <th>retweet</th>\n",
       "      <th>tweets_in_dataset</th>\n",
       "      <th>bin</th>\n",
       "    </tr>\n",
       "    <tr>\n",
       "      <th>user_id</th>\n",
       "      <th></th>\n",
       "      <th></th>\n",
       "      <th></th>\n",
       "      <th></th>\n",
       "      <th></th>\n",
       "      <th></th>\n",
       "    </tr>\n",
       "  </thead>\n",
       "  <tbody>\n",
       "    <tr>\n",
       "      <th>103016675</th>\n",
       "      <td>448.0</td>\n",
       "      <td>780.0</td>\n",
       "      <td>1089.0</td>\n",
       "      <td>1341.0</td>\n",
       "      <td>3658.0</td>\n",
       "      <td>Top 1%</td>\n",
       "    </tr>\n",
       "    <tr>\n",
       "      <th>104299137</th>\n",
       "      <td>710.0</td>\n",
       "      <td>1391.0</td>\n",
       "      <td>768.0</td>\n",
       "      <td>1408.0</td>\n",
       "      <td>4277.0</td>\n",
       "      <td>Top 1%</td>\n",
       "    </tr>\n",
       "    <tr>\n",
       "      <th>13524182</th>\n",
       "      <td>898.0</td>\n",
       "      <td>960.0</td>\n",
       "      <td>303.0</td>\n",
       "      <td>2767.0</td>\n",
       "      <td>4928.0</td>\n",
       "      <td>Top 1%</td>\n",
       "    </tr>\n",
       "    <tr>\n",
       "      <th>14529929</th>\n",
       "      <td>1253.0</td>\n",
       "      <td>134.0</td>\n",
       "      <td>781.0</td>\n",
       "      <td>1220.0</td>\n",
       "      <td>3388.0</td>\n",
       "      <td>Top 1%</td>\n",
       "    </tr>\n",
       "    <tr>\n",
       "      <th>15146659</th>\n",
       "      <td>856.0</td>\n",
       "      <td>432.0</td>\n",
       "      <td>1746.0</td>\n",
       "      <td>1113.0</td>\n",
       "      <td>4147.0</td>\n",
       "      <td>Top 1%</td>\n",
       "    </tr>\n",
       "    <tr>\n",
       "      <th>15730608</th>\n",
       "      <td>367.0</td>\n",
       "      <td>486.0</td>\n",
       "      <td>589.0</td>\n",
       "      <td>1909.0</td>\n",
       "      <td>3351.0</td>\n",
       "      <td>Top 1%</td>\n",
       "    </tr>\n",
       "    <tr>\n",
       "      <th>16459325</th>\n",
       "      <td>870.0</td>\n",
       "      <td>720.0</td>\n",
       "      <td>818.0</td>\n",
       "      <td>1657.0</td>\n",
       "      <td>4065.0</td>\n",
       "      <td>Top 1%</td>\n",
       "    </tr>\n",
       "    <tr>\n",
       "      <th>18678924</th>\n",
       "      <td>536.0</td>\n",
       "      <td>488.0</td>\n",
       "      <td>219.0</td>\n",
       "      <td>2242.0</td>\n",
       "      <td>3485.0</td>\n",
       "      <td>Top 1%</td>\n",
       "    </tr>\n",
       "    <tr>\n",
       "      <th>18825339</th>\n",
       "      <td>1237.0</td>\n",
       "      <td>1554.0</td>\n",
       "      <td>414.0</td>\n",
       "      <td>3078.0</td>\n",
       "      <td>6283.0</td>\n",
       "      <td>Top 1%</td>\n",
       "    </tr>\n",
       "    <tr>\n",
       "      <th>191964162</th>\n",
       "      <td>595.0</td>\n",
       "      <td>102.0</td>\n",
       "      <td>314.0</td>\n",
       "      <td>4279.0</td>\n",
       "      <td>5290.0</td>\n",
       "      <td>Top 1%</td>\n",
       "    </tr>\n",
       "    <tr>\n",
       "      <th>21612122</th>\n",
       "      <td>606.0</td>\n",
       "      <td>1066.0</td>\n",
       "      <td>557.0</td>\n",
       "      <td>5410.0</td>\n",
       "      <td>7639.0</td>\n",
       "      <td>Top 1%</td>\n",
       "    </tr>\n",
       "    <tr>\n",
       "      <th>21696279</th>\n",
       "      <td>569.0</td>\n",
       "      <td>622.0</td>\n",
       "      <td>852.0</td>\n",
       "      <td>2123.0</td>\n",
       "      <td>4166.0</td>\n",
       "      <td>Top 1%</td>\n",
       "    </tr>\n",
       "    <tr>\n",
       "      <th>21810329</th>\n",
       "      <td>371.0</td>\n",
       "      <td>393.0</td>\n",
       "      <td>244.0</td>\n",
       "      <td>3979.0</td>\n",
       "      <td>4987.0</td>\n",
       "      <td>Top 1%</td>\n",
       "    </tr>\n",
       "    <tr>\n",
       "      <th>22891564</th>\n",
       "      <td>955.0</td>\n",
       "      <td>695.0</td>\n",
       "      <td>4314.0</td>\n",
       "      <td>1280.0</td>\n",
       "      <td>7244.0</td>\n",
       "      <td>Top 1%</td>\n",
       "    </tr>\n",
       "    <tr>\n",
       "      <th>259395895</th>\n",
       "      <td>714.0</td>\n",
       "      <td>300.0</td>\n",
       "      <td>94.0</td>\n",
       "      <td>2442.0</td>\n",
       "      <td>3550.0</td>\n",
       "      <td>Top 1%</td>\n",
       "    </tr>\n",
       "    <tr>\n",
       "      <th>275207082</th>\n",
       "      <td>1042.0</td>\n",
       "      <td>370.0</td>\n",
       "      <td>1833.0</td>\n",
       "      <td>917.0</td>\n",
       "      <td>4162.0</td>\n",
       "      <td>Top 1%</td>\n",
       "    </tr>\n",
       "    <tr>\n",
       "      <th>3817401</th>\n",
       "      <td>865.0</td>\n",
       "      <td>1769.0</td>\n",
       "      <td>8009.0</td>\n",
       "      <td>0.0</td>\n",
       "      <td>10643.0</td>\n",
       "      <td>Top 1%</td>\n",
       "    </tr>\n",
       "    <tr>\n",
       "      <th>456994513</th>\n",
       "      <td>380.0</td>\n",
       "      <td>556.0</td>\n",
       "      <td>115.0</td>\n",
       "      <td>4801.0</td>\n",
       "      <td>5852.0</td>\n",
       "      <td>Top 1%</td>\n",
       "    </tr>\n",
       "    <tr>\n",
       "      <th>593813785</th>\n",
       "      <td>1937.0</td>\n",
       "      <td>1104.0</td>\n",
       "      <td>16.0</td>\n",
       "      <td>1578.0</td>\n",
       "      <td>4635.0</td>\n",
       "      <td>Top 1%</td>\n",
       "    </tr>\n",
       "    <tr>\n",
       "      <th>61734492</th>\n",
       "      <td>209.0</td>\n",
       "      <td>287.0</td>\n",
       "      <td>141.0</td>\n",
       "      <td>2833.0</td>\n",
       "      <td>3470.0</td>\n",
       "      <td>Top 1%</td>\n",
       "    </tr>\n",
       "  </tbody>\n",
       "</table>\n",
       "</div>"
      ],
      "text/plain": [
       "tweet_type  original   quote   reply  retweet  tweets_in_dataset     bin\n",
       "user_id                                                                 \n",
       "103016675      448.0   780.0  1089.0   1341.0             3658.0  Top 1%\n",
       "104299137      710.0  1391.0   768.0   1408.0             4277.0  Top 1%\n",
       "13524182       898.0   960.0   303.0   2767.0             4928.0  Top 1%\n",
       "14529929      1253.0   134.0   781.0   1220.0             3388.0  Top 1%\n",
       "15146659       856.0   432.0  1746.0   1113.0             4147.0  Top 1%\n",
       "15730608       367.0   486.0   589.0   1909.0             3351.0  Top 1%\n",
       "16459325       870.0   720.0   818.0   1657.0             4065.0  Top 1%\n",
       "18678924       536.0   488.0   219.0   2242.0             3485.0  Top 1%\n",
       "18825339      1237.0  1554.0   414.0   3078.0             6283.0  Top 1%\n",
       "191964162      595.0   102.0   314.0   4279.0             5290.0  Top 1%\n",
       "21612122       606.0  1066.0   557.0   5410.0             7639.0  Top 1%\n",
       "21696279       569.0   622.0   852.0   2123.0             4166.0  Top 1%\n",
       "21810329       371.0   393.0   244.0   3979.0             4987.0  Top 1%\n",
       "22891564       955.0   695.0  4314.0   1280.0             7244.0  Top 1%\n",
       "259395895      714.0   300.0    94.0   2442.0             3550.0  Top 1%\n",
       "275207082     1042.0   370.0  1833.0    917.0             4162.0  Top 1%\n",
       "3817401        865.0  1769.0  8009.0      0.0            10643.0  Top 1%\n",
       "456994513      380.0   556.0   115.0   4801.0             5852.0  Top 1%\n",
       "593813785     1937.0  1104.0    16.0   1578.0             4635.0  Top 1%\n",
       "61734492       209.0   287.0   141.0   2833.0             3470.0  Top 1%"
      ]
     },
     "execution_count": 11,
     "metadata": {},
     "output_type": "execute_result"
    }
   ],
   "source": [
    "tweet_count_df[tweet_count_df.bin == 'Top 1%']"
   ]
  },
  {
   "cell_type": "code",
   "execution_count": 12,
   "metadata": {},
   "outputs": [
    {
     "data": {
      "text/html": [
       "<div>\n",
       "<table border=\"1\" class=\"dataframe\">\n",
       "  <thead>\n",
       "    <tr style=\"text-align: right;\">\n",
       "      <th>tweet_type</th>\n",
       "      <th>original</th>\n",
       "      <th>quote</th>\n",
       "      <th>reply</th>\n",
       "      <th>retweet</th>\n",
       "      <th>tweets_in_dataset</th>\n",
       "      <th>percent_of_original</th>\n",
       "      <th>percent_of_quote</th>\n",
       "      <th>percent_of_reply</th>\n",
       "      <th>percent_of_retweets</th>\n",
       "      <th>percent_of_tweets_in_dataset</th>\n",
       "      <th>user_count</th>\n",
       "    </tr>\n",
       "    <tr>\n",
       "      <th>bin</th>\n",
       "      <th></th>\n",
       "      <th></th>\n",
       "      <th></th>\n",
       "      <th></th>\n",
       "      <th></th>\n",
       "      <th></th>\n",
       "      <th></th>\n",
       "      <th></th>\n",
       "      <th></th>\n",
       "      <th></th>\n",
       "      <th></th>\n",
       "    </tr>\n",
       "  </thead>\n",
       "  <tbody>\n",
       "    <tr>\n",
       "      <th>Bottom 90%</th>\n",
       "      <td>145086.0</td>\n",
       "      <td>42151.0</td>\n",
       "      <td>41227.0</td>\n",
       "      <td>136964.0</td>\n",
       "      <td>365428.0</td>\n",
       "      <td>0.592229</td>\n",
       "      <td>0.432984</td>\n",
       "      <td>0.347702</td>\n",
       "      <td>0.456281</td>\n",
       "      <td>0.480145</td>\n",
       "      <td>1756</td>\n",
       "    </tr>\n",
       "    <tr>\n",
       "      <th>Middle 9%</th>\n",
       "      <td>84479.0</td>\n",
       "      <td>40990.0</td>\n",
       "      <td>54127.0</td>\n",
       "      <td>116834.0</td>\n",
       "      <td>296430.0</td>\n",
       "      <td>0.344836</td>\n",
       "      <td>0.421058</td>\n",
       "      <td>0.456498</td>\n",
       "      <td>0.389220</td>\n",
       "      <td>0.389487</td>\n",
       "      <td>175</td>\n",
       "    </tr>\n",
       "    <tr>\n",
       "      <th>Top 1%</th>\n",
       "      <td>15418.0</td>\n",
       "      <td>14209.0</td>\n",
       "      <td>23216.0</td>\n",
       "      <td>46377.0</td>\n",
       "      <td>99220.0</td>\n",
       "      <td>0.062935</td>\n",
       "      <td>0.145958</td>\n",
       "      <td>0.195800</td>\n",
       "      <td>0.154500</td>\n",
       "      <td>0.130368</td>\n",
       "      <td>20</td>\n",
       "    </tr>\n",
       "  </tbody>\n",
       "</table>\n",
       "</div>"
      ],
      "text/plain": [
       "tweet_type  original    quote    reply   retweet  tweets_in_dataset  \\\n",
       "bin                                                                   \n",
       "Bottom 90%  145086.0  42151.0  41227.0  136964.0           365428.0   \n",
       "Middle 9%    84479.0  40990.0  54127.0  116834.0           296430.0   \n",
       "Top 1%       15418.0  14209.0  23216.0   46377.0            99220.0   \n",
       "\n",
       "tweet_type  percent_of_original  percent_of_quote  percent_of_reply  \\\n",
       "bin                                                                   \n",
       "Bottom 90%             0.592229          0.432984          0.347702   \n",
       "Middle 9%              0.344836          0.421058          0.456498   \n",
       "Top 1%                 0.062935          0.145958          0.195800   \n",
       "\n",
       "tweet_type  percent_of_retweets  percent_of_tweets_in_dataset  user_count  \n",
       "bin                                                                        \n",
       "Bottom 90%             0.456281                      0.480145        1756  \n",
       "Middle 9%              0.389220                      0.389487         175  \n",
       "Top 1%                 0.154500                      0.130368          20  "
      ]
     },
     "execution_count": 12,
     "metadata": {},
     "output_type": "execute_result"
    }
   ],
   "source": [
    "tweet_count_bin_summary_df = tweet_count_df.groupby('bin').sum()\n",
    "tweet_count_bin_summary_df['percent_of_original'] = tweet_count_bin_summary_df.original / tweet_count_bin_summary_df.original.sum()\n",
    "tweet_count_bin_summary_df['percent_of_quote'] = tweet_count_bin_summary_df.quote / tweet_count_bin_summary_df.quote.sum()\n",
    "tweet_count_bin_summary_df['percent_of_reply'] = tweet_count_bin_summary_df.reply / tweet_count_bin_summary_df.reply.sum()\n",
    "tweet_count_bin_summary_df['percent_of_retweets'] = tweet_count_bin_summary_df.retweet / tweet_count_bin_summary_df.retweet.sum()\n",
    "tweet_count_bin_summary_df['percent_of_tweets_in_dataset'] = tweet_count_bin_summary_df.tweets_in_dataset / tweet_count_bin_summary_df.tweets_in_dataset.sum()\n",
    "tweet_count_bin_summary_df['user_count'] = tweet_count_df[['bin', 'tweets_in_dataset']].groupby('bin').count()\n",
    "tweet_count_bin_summary_df\n"
   ]
  },
  {
   "cell_type": "markdown",
   "metadata": {},
   "source": [
    "## First tweet for each user"
   ]
  },
  {
   "cell_type": "code",
   "execution_count": 13,
   "metadata": {},
   "outputs": [
    {
     "data": {
      "text/plain": [
       "tweet_id            1951\n",
       "screen_name         1951\n",
       "tweet_created_at    1951\n",
       "user_created_at     1951\n",
       "tweets_to_date      1951\n",
       "tweet_type          1951\n",
       "dtype: int64"
      ]
     },
     "execution_count": 13,
     "metadata": {},
     "output_type": "execute_result"
    }
   ],
   "source": [
    "# Get the first tweet for each user\n",
    "first_tweet_df = dedupe_tweet_df.loc[dedupe_tweet_df.groupby('user_id')['tweet_created_at'].idxmin()].set_index(['user_id'])\n",
    "first_tweet_df.count()"
   ]
  },
  {
   "cell_type": "code",
   "execution_count": 14,
   "metadata": {
    "scrolled": true
   },
   "outputs": [
    {
     "data": {
      "text/html": [
       "<div>\n",
       "<table border=\"1\" class=\"dataframe\">\n",
       "  <thead>\n",
       "    <tr style=\"text-align: right;\">\n",
       "      <th></th>\n",
       "      <th>tweet_id</th>\n",
       "      <th>screen_name</th>\n",
       "      <th>tweet_created_at</th>\n",
       "      <th>user_created_at</th>\n",
       "      <th>tweets_to_date</th>\n",
       "      <th>tweet_type</th>\n",
       "    </tr>\n",
       "    <tr>\n",
       "      <th>user_id</th>\n",
       "      <th></th>\n",
       "      <th></th>\n",
       "      <th></th>\n",
       "      <th></th>\n",
       "      <th></th>\n",
       "      <th></th>\n",
       "    </tr>\n",
       "  </thead>\n",
       "  <tbody>\n",
       "    <tr>\n",
       "      <th>16030469</th>\n",
       "      <td>864576328422617088</td>\n",
       "      <td>lynsea</td>\n",
       "      <td>2017-05-16 20:20:34+00:00</td>\n",
       "      <td>2008-08-28 18:19:06+00:00</td>\n",
       "      <td>612</td>\n",
       "      <td>original</td>\n",
       "    </tr>\n",
       "    <tr>\n",
       "      <th>198577938</th>\n",
       "      <td>864286970473848832</td>\n",
       "      <td>kalannigan</td>\n",
       "      <td>2017-05-16 01:10:46+00:00</td>\n",
       "      <td>2010-10-04 17:45:20+00:00</td>\n",
       "      <td>981</td>\n",
       "      <td>retweet</td>\n",
       "    </tr>\n",
       "    <tr>\n",
       "      <th>19049530</th>\n",
       "      <td>863783559273820160</td>\n",
       "      <td>padmananda</td>\n",
       "      <td>2017-05-14 15:50:23+00:00</td>\n",
       "      <td>2009-01-16 01:42:47+00:00</td>\n",
       "      <td>276</td>\n",
       "      <td>original</td>\n",
       "    </tr>\n",
       "    <tr>\n",
       "      <th>15727125</th>\n",
       "      <td>863548225961308160</td>\n",
       "      <td>jameygraydon</td>\n",
       "      <td>2017-05-14 00:15:15+00:00</td>\n",
       "      <td>2008-08-04 20:10:51+00:00</td>\n",
       "      <td>20</td>\n",
       "      <td>retweet</td>\n",
       "    </tr>\n",
       "    <tr>\n",
       "      <th>109639153</th>\n",
       "      <td>862679623724933120</td>\n",
       "      <td>tedbarrettcnn</td>\n",
       "      <td>2017-05-11 14:43:44+00:00</td>\n",
       "      <td>2010-01-29 19:10:04+00:00</td>\n",
       "      <td>25</td>\n",
       "      <td>original</td>\n",
       "    </tr>\n",
       "  </tbody>\n",
       "</table>\n",
       "</div>"
      ],
      "text/plain": [
       "                     tweet_id    screen_name          tweet_created_at  \\\n",
       "user_id                                                                  \n",
       "16030469   864576328422617088         lynsea 2017-05-16 20:20:34+00:00   \n",
       "198577938  864286970473848832     kalannigan 2017-05-16 01:10:46+00:00   \n",
       "19049530   863783559273820160     padmananda 2017-05-14 15:50:23+00:00   \n",
       "15727125   863548225961308160   jameygraydon 2017-05-14 00:15:15+00:00   \n",
       "109639153  862679623724933120  tedbarrettcnn 2017-05-11 14:43:44+00:00   \n",
       "\n",
       "                    user_created_at  tweets_to_date tweet_type  \n",
       "user_id                                                         \n",
       "16030469  2008-08-28 18:19:06+00:00             612   original  \n",
       "198577938 2010-10-04 17:45:20+00:00             981    retweet  \n",
       "19049530  2009-01-16 01:42:47+00:00             276   original  \n",
       "15727125  2008-08-04 20:10:51+00:00              20    retweet  \n",
       "109639153 2010-01-29 19:10:04+00:00              25   original  "
      ]
     },
     "execution_count": 14,
     "metadata": {},
     "output_type": "execute_result"
    }
   ],
   "source": [
    "first_tweet_df.sort_values('tweet_created_at', ascending=False).head()"
   ]
  },
  {
   "cell_type": "markdown",
   "metadata": {},
   "source": [
    "### Most recent first tweet"
   ]
  },
  {
   "cell_type": "code",
   "execution_count": 15,
   "metadata": {
    "scrolled": true
   },
   "outputs": [
    {
     "data": {
      "text/plain": [
       "Timestamp('2017-05-16 20:20:34+0000', tz='UTC')"
      ]
     },
     "execution_count": 15,
     "metadata": {},
     "output_type": "execute_result"
    }
   ],
   "source": [
    "first_tweet_df['tweet_created_at'].max()"
   ]
  },
  {
   "cell_type": "code",
   "execution_count": null,
   "metadata": {
    "collapsed": true
   },
   "outputs": [],
   "source": []
  }
 ],
 "metadata": {
  "kernelspec": {
   "display_name": "Python 3",
   "language": "python",
   "name": "python3"
  },
  "language_info": {
   "codemirror_mode": {
    "name": "ipython",
    "version": 3
   },
   "file_extension": ".py",
   "mimetype": "text/x-python",
   "name": "python",
   "nbconvert_exporter": "python",
   "pygments_lexer": "ipython3",
   "version": "3.6.0"
  }
 },
 "nbformat": 4,
 "nbformat_minor": 2
}
