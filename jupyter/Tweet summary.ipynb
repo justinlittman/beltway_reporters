{
 "cells": [
  {
   "cell_type": "markdown",
   "metadata": {},
   "source": [
    "# Tweet summary"
   ]
  },
  {
   "cell_type": "markdown",
   "metadata": {},
   "source": [
    "### Load the data"
   ]
  },
  {
   "cell_type": "code",
   "execution_count": 35,
   "metadata": {},
   "outputs": [
    {
     "name": "stderr",
     "output_type": "stream",
     "text": [
      "DEBUG:root:Loaded 0\n",
      "DEBUG:root:Loaded 50000\n",
      "DEBUG:root:Loaded 100000\n",
      "DEBUG:root:Loaded 150000\n",
      "DEBUG:root:Loaded 200000\n",
      "DEBUG:root:Loaded 250000\n",
      "DEBUG:root:Loaded 300000\n",
      "DEBUG:root:Loaded 350000\n",
      "DEBUG:root:Loaded 400000\n",
      "DEBUG:root:Loaded 450000\n",
      "DEBUG:root:Loaded 500000\n",
      "DEBUG:root:Loaded 550000\n",
      "DEBUG:root:Loaded 600000\n",
      "DEBUG:root:Loaded 650000\n",
      "DEBUG:root:Loaded 700000\n",
      "DEBUG:root:Loaded 750000\n",
      "DEBUG:root:Loaded 800000\n",
      "DEBUG:root:Loaded 850000\n",
      "DEBUG:root:Loaded 900000\n",
      "DEBUG:root:Loaded 950000\n",
      "DEBUG:root:Loaded 1000000\n",
      "DEBUG:root:Loaded 1050000\n",
      "DEBUG:root:Loaded 1100000\n",
      "DEBUG:root:Loaded 1150000\n",
      "DEBUG:root:Loaded 1200000\n",
      "DEBUG:root:Loaded 1250000\n",
      "DEBUG:root:Loaded 1300000\n",
      "DEBUG:root:Loaded 1350000\n",
      "DEBUG:root:Loaded 1400000\n",
      "DEBUG:root:Loaded 1450000\n",
      "DEBUG:root:Loaded 1500000\n",
      "DEBUG:root:Loaded 0\n",
      "DEBUG:root:Loaded 50000\n",
      "DEBUG:root:Loaded 100000\n",
      "DEBUG:root:Loaded 150000\n",
      "DEBUG:root:Loaded 200000\n",
      "DEBUG:root:Loaded 250000\n",
      "DEBUG:root:Loaded 300000\n",
      "DEBUG:root:Loaded 350000\n",
      "DEBUG:root:Loaded 400000\n",
      "DEBUG:root:Loaded 450000\n",
      "DEBUG:root:Loaded 500000\n",
      "DEBUG:root:Loaded 550000\n",
      "DEBUG:root:Loaded 600000\n",
      "DEBUG:root:Loaded 650000\n",
      "DEBUG:root:Loaded 700000\n",
      "DEBUG:root:Loaded 750000\n",
      "DEBUG:root:Loaded 800000\n",
      "DEBUG:root:Loaded 850000\n",
      "DEBUG:root:Loaded 900000\n",
      "DEBUG:root:Loaded 950000\n",
      "DEBUG:root:Loaded 1000000\n",
      "DEBUG:root:Loaded 1050000\n",
      "DEBUG:root:Loaded 1100000\n",
      "DEBUG:root:Loaded 1150000\n",
      "DEBUG:root:Loaded 1200000\n",
      "DEBUG:root:Loaded 1250000\n",
      "DEBUG:root:Loaded 1300000\n",
      "DEBUG:root:Loaded 1350000\n",
      "DEBUG:root:Loaded 1400000\n",
      "DEBUG:root:Loaded 1450000\n",
      "DEBUG:root:Loaded 1500000\n",
      "DEBUG:root:Loaded 1550000\n",
      "DEBUG:root:Loaded 1600000\n",
      "DEBUG:root:Loaded 1650000\n",
      "DEBUG:root:Loaded 1700000\n",
      "DEBUG:root:Loaded 1750000\n",
      "DEBUG:root:Loaded 1800000\n"
     ]
    },
    {
     "data": {
      "text/plain": [
       "tweet_id            3364440\n",
       "user_id             3364440\n",
       "screen_name         3364440\n",
       "tweet_created_at    3364440\n",
       "user_created_at     3364440\n",
       "tweets_to_date      3364440\n",
       "tweet_type          3364440\n",
       "dtype: int64"
      ]
     },
     "execution_count": 35,
     "metadata": {},
     "output_type": "execute_result"
    }
   ],
   "source": [
    "%matplotlib inline\n",
    "import pandas as pd\n",
    "import numpy as np\n",
    "import logging\n",
    "from dateutil.parser import parse as date_parse\n",
    "from utils import tweet_iter, tweet_type\n",
    "import matplotlib.pyplot as plt\n",
    "\n",
    "\n",
    "logger = logging.getLogger()\n",
    "logger.setLevel(logging.DEBUG)\n",
    "\n",
    "# Filepaths of the files to load.\n",
    "filepaths = ['d59d27e2f2ed4778881573df2ecf2fad_001.json.gz',\n",
    "            '25319652321b4bb498b250ffc53aa0f0_001.json.gz']\n",
    "\n",
    "def tweet_transform(tweet):\n",
    "    return {\n",
    "        'tweet_id': tweet['id_str'], \n",
    "        'tweet_created_at': date_parse(tweet['created_at']),\n",
    "        'user_id': tweet['user']['id_str'],\n",
    "        'screen_name': tweet['user']['screen_name'],\n",
    "        'user_created_at': date_parse(tweet['user']['created_at']),\n",
    "        'tweets_to_date': tweet['user']['statuses_count'],\n",
    "        'tweet_type': tweet_type(tweet)\n",
    "    }\n",
    "\n",
    "tweet_df = pd.DataFrame(tweet_iter(filepaths, tweet_transform_func=tweet_transform), \n",
    "                        columns=['tweet_id', 'user_id', 'screen_name', 'tweet_created_at', \n",
    "                                 'user_created_at', 'tweets_to_date', 'tweet_type'])\n",
    "tweet_df.count()"
   ]
  },
  {
   "cell_type": "markdown",
   "metadata": {},
   "source": [
    "### View the top of the data."
   ]
  },
  {
   "cell_type": "code",
   "execution_count": 2,
   "metadata": {
    "scrolled": true
   },
   "outputs": [
    {
     "data": {
      "text/html": [
       "<div>\n",
       "<table border=\"1\" class=\"dataframe\">\n",
       "  <thead>\n",
       "    <tr style=\"text-align: right;\">\n",
       "      <th></th>\n",
       "      <th>tweet_id</th>\n",
       "      <th>user_id</th>\n",
       "      <th>screen_name</th>\n",
       "      <th>tweet_created_at</th>\n",
       "      <th>user_created_at</th>\n",
       "      <th>tweets_to_date</th>\n",
       "      <th>tweet_type</th>\n",
       "    </tr>\n",
       "  </thead>\n",
       "  <tbody>\n",
       "    <tr>\n",
       "      <th>0</th>\n",
       "      <td>847821180832804864</td>\n",
       "      <td>1638925448</td>\n",
       "      <td>A_Childers_</td>\n",
       "      <td>2017-03-31 14:41:35+00:00</td>\n",
       "      <td>2013-08-01 21:44:28+00:00</td>\n",
       "      <td>6071</td>\n",
       "      <td>retweet</td>\n",
       "    </tr>\n",
       "    <tr>\n",
       "      <th>1</th>\n",
       "      <td>847814632643473411</td>\n",
       "      <td>1638925448</td>\n",
       "      <td>A_Childers_</td>\n",
       "      <td>2017-03-31 14:15:34+00:00</td>\n",
       "      <td>2013-08-01 21:44:28+00:00</td>\n",
       "      <td>6071</td>\n",
       "      <td>retweet</td>\n",
       "    </tr>\n",
       "    <tr>\n",
       "      <th>2</th>\n",
       "      <td>847627543142219776</td>\n",
       "      <td>1638925448</td>\n",
       "      <td>A_Childers_</td>\n",
       "      <td>2017-03-31 01:52:09+00:00</td>\n",
       "      <td>2013-08-01 21:44:28+00:00</td>\n",
       "      <td>6071</td>\n",
       "      <td>reply</td>\n",
       "    </tr>\n",
       "    <tr>\n",
       "      <th>3</th>\n",
       "      <td>847597404719267841</td>\n",
       "      <td>1638925448</td>\n",
       "      <td>A_Childers_</td>\n",
       "      <td>2017-03-30 23:52:23+00:00</td>\n",
       "      <td>2013-08-01 21:44:28+00:00</td>\n",
       "      <td>6071</td>\n",
       "      <td>reply</td>\n",
       "    </tr>\n",
       "    <tr>\n",
       "      <th>4</th>\n",
       "      <td>847593734896324608</td>\n",
       "      <td>1638925448</td>\n",
       "      <td>A_Childers_</td>\n",
       "      <td>2017-03-30 23:37:48+00:00</td>\n",
       "      <td>2013-08-01 21:44:28+00:00</td>\n",
       "      <td>6071</td>\n",
       "      <td>reply</td>\n",
       "    </tr>\n",
       "  </tbody>\n",
       "</table>\n",
       "</div>"
      ],
      "text/plain": [
       "             tweet_id     user_id  screen_name          tweet_created_at  \\\n",
       "0  847821180832804864  1638925448  A_Childers_ 2017-03-31 14:41:35+00:00   \n",
       "1  847814632643473411  1638925448  A_Childers_ 2017-03-31 14:15:34+00:00   \n",
       "2  847627543142219776  1638925448  A_Childers_ 2017-03-31 01:52:09+00:00   \n",
       "3  847597404719267841  1638925448  A_Childers_ 2017-03-30 23:52:23+00:00   \n",
       "4  847593734896324608  1638925448  A_Childers_ 2017-03-30 23:37:48+00:00   \n",
       "\n",
       "            user_created_at  tweets_to_date tweet_type  \n",
       "0 2013-08-01 21:44:28+00:00            6071    retweet  \n",
       "1 2013-08-01 21:44:28+00:00            6071    retweet  \n",
       "2 2013-08-01 21:44:28+00:00            6071      reply  \n",
       "3 2013-08-01 21:44:28+00:00            6071      reply  \n",
       "4 2013-08-01 21:44:28+00:00            6071      reply  "
      ]
     },
     "execution_count": 2,
     "metadata": {},
     "output_type": "execute_result"
    }
   ],
   "source": [
    "tweet_df.head()"
   ]
  },
  {
   "cell_type": "markdown",
   "metadata": {},
   "source": [
    "### Remove duplicates\n",
    "Dupes happen when collecting data from Twitter API and because some reporters may existing in multiple lists."
   ]
  },
  {
   "cell_type": "code",
   "execution_count": 3,
   "metadata": {},
   "outputs": [
    {
     "data": {
      "text/plain": [
       "99985"
      ]
     },
     "execution_count": 3,
     "metadata": {},
     "output_type": "execute_result"
    }
   ],
   "source": [
    "len(tweet_df['tweet_id'].unique())"
   ]
  },
  {
   "cell_type": "code",
   "execution_count": 4,
   "metadata": {},
   "outputs": [
    {
     "data": {
      "text/plain": [
       "99985"
      ]
     },
     "execution_count": 4,
     "metadata": {},
     "output_type": "execute_result"
    }
   ],
   "source": [
    "dedupe_tweet_df = tweet_df.drop_duplicates(['tweet_id'], keep='last')\n",
    "len(dedupe_tweet_df)"
   ]
  },
  {
   "cell_type": "code",
   "execution_count": 5,
   "metadata": {
    "collapsed": true
   },
   "outputs": [],
   "source": [
    "### Create lookup of screen names"
   ]
  },
  {
   "cell_type": "code",
   "execution_count": 6,
   "metadata": {},
   "outputs": [
    {
     "data": {
      "text/plain": [
       "screen_name    847\n",
       "dtype: int64"
      ]
     },
     "execution_count": 6,
     "metadata": {},
     "output_type": "execute_result"
    }
   ],
   "source": [
    "# From the tweets, extract map of user ids to screen names\n",
    "user_id_lookup_df = dedupe_tweet_df.loc[dedupe_tweet_df.groupby('user_id')['tweet_created_at'].idxmax()].ix[:,['user_id', 'screen_name']].set_index(['user_id'])\n",
    "user_id_lookup_df.count()"
   ]
  },
  {
   "cell_type": "code",
   "execution_count": 7,
   "metadata": {},
   "outputs": [
    {
     "data": {
      "text/html": [
       "<div>\n",
       "<table border=\"1\" class=\"dataframe\">\n",
       "  <thead>\n",
       "    <tr style=\"text-align: right;\">\n",
       "      <th></th>\n",
       "      <th>screen_name</th>\n",
       "    </tr>\n",
       "    <tr>\n",
       "      <th>user_id</th>\n",
       "      <th></th>\n",
       "    </tr>\n",
       "  </thead>\n",
       "  <tbody>\n",
       "    <tr>\n",
       "      <th>100165378</th>\n",
       "      <td>ChristineSisto</td>\n",
       "    </tr>\n",
       "    <tr>\n",
       "      <th>1001991865</th>\n",
       "      <td>FredSchulte</td>\n",
       "    </tr>\n",
       "    <tr>\n",
       "      <th>1002229862</th>\n",
       "      <td>HMRothmandc</td>\n",
       "    </tr>\n",
       "    <tr>\n",
       "      <th>100802089</th>\n",
       "      <td>ayesharascoe</td>\n",
       "    </tr>\n",
       "    <tr>\n",
       "      <th>100860790</th>\n",
       "      <td>DionNissenbaum</td>\n",
       "    </tr>\n",
       "  </tbody>\n",
       "</table>\n",
       "</div>"
      ],
      "text/plain": [
       "               screen_name\n",
       "user_id                   \n",
       "100165378   ChristineSisto\n",
       "1001991865     FredSchulte\n",
       "1002229862     HMRothmandc\n",
       "100802089     ayesharascoe\n",
       "100860790   DionNissenbaum"
      ]
     },
     "execution_count": 7,
     "metadata": {},
     "output_type": "execute_result"
    }
   ],
   "source": [
    "user_id_lookup_df.head()"
   ]
  },
  {
   "cell_type": "markdown",
   "metadata": {},
   "source": [
    "## Tweets in dataset for each user"
   ]
  },
  {
   "cell_type": "code",
   "execution_count": 8,
   "metadata": {},
   "outputs": [
    {
     "data": {
      "text/plain": [
       "tweets_in_dataset    847\n",
       "dtype: int64"
      ]
     },
     "execution_count": 8,
     "metadata": {},
     "output_type": "execute_result"
    }
   ],
   "source": [
    "tweet_count_df = pd.DataFrame(dedupe_tweet_df['user_id'].value_counts()).rename(columns={'user_id': 'tweets_in_dataset'})\n",
    "tweet_count_df.index.name = 'user_id'\n",
    "tweet_count_df.count()"
   ]
  },
  {
   "cell_type": "markdown",
   "metadata": {},
   "source": [
    "### Statistics on number of tweets in dataset for each user <---------------"
   ]
  },
  {
   "cell_type": "code",
   "execution_count": 9,
   "metadata": {},
   "outputs": [
    {
     "data": {
      "text/html": [
       "<div>\n",
       "<table border=\"1\" class=\"dataframe\">\n",
       "  <thead>\n",
       "    <tr style=\"text-align: right;\">\n",
       "      <th></th>\n",
       "      <th>tweets_in_dataset</th>\n",
       "    </tr>\n",
       "  </thead>\n",
       "  <tbody>\n",
       "    <tr>\n",
       "      <th>count</th>\n",
       "      <td>847.000000</td>\n",
       "    </tr>\n",
       "    <tr>\n",
       "      <th>mean</th>\n",
       "      <td>118.046045</td>\n",
       "    </tr>\n",
       "    <tr>\n",
       "      <th>std</th>\n",
       "      <td>453.243787</td>\n",
       "    </tr>\n",
       "    <tr>\n",
       "      <th>min</th>\n",
       "      <td>1.000000</td>\n",
       "    </tr>\n",
       "    <tr>\n",
       "      <th>25%</th>\n",
       "      <td>7.000000</td>\n",
       "    </tr>\n",
       "    <tr>\n",
       "      <th>50%</th>\n",
       "      <td>22.000000</td>\n",
       "    </tr>\n",
       "    <tr>\n",
       "      <th>75%</th>\n",
       "      <td>57.500000</td>\n",
       "    </tr>\n",
       "    <tr>\n",
       "      <th>max</th>\n",
       "      <td>3540.000000</td>\n",
       "    </tr>\n",
       "  </tbody>\n",
       "</table>\n",
       "</div>"
      ],
      "text/plain": [
       "       tweets_in_dataset\n",
       "count         847.000000\n",
       "mean          118.046045\n",
       "std           453.243787\n",
       "min             1.000000\n",
       "25%             7.000000\n",
       "50%            22.000000\n",
       "75%            57.500000\n",
       "max          3540.000000"
      ]
     },
     "execution_count": 9,
     "metadata": {},
     "output_type": "execute_result"
    }
   ],
   "source": [
    "tweet_count_df.describe()"
   ]
  },
  {
   "cell_type": "markdown",
   "metadata": {},
   "source": [
    "### Grouping number of tweets in dataset for each user"
   ]
  },
  {
   "cell_type": "code",
   "execution_count": 14,
   "metadata": {},
   "outputs": [
    {
     "data": {
      "text/plain": [
       "[1, 2.6]        85\n",
       "(2.6, 5]        87\n",
       "(5, 10]        102\n",
       "(10, 15]        81\n",
       "(15, 22]        75\n",
       "(22, 31]        79\n",
       "(31, 46]        88\n",
       "(46, 73.6]      80\n",
       "(73.6, 151]     86\n",
       "(151, 3540]     84\n",
       "Name: tweets_in_dataset, dtype: int64"
      ]
     },
     "execution_count": 14,
     "metadata": {},
     "output_type": "execute_result"
    }
   ],
   "source": [
    "binned_tweet_count_count_df = pd.qcut(tweet_count_df.tweets_in_dataset, 10).value_counts(sort=False)\n",
    "binned_tweet_count_count_df\n"
   ]
  },
  {
   "cell_type": "markdown",
   "metadata": {},
   "source": [
    "## First tweet for each user"
   ]
  },
  {
   "cell_type": "code",
   "execution_count": 32,
   "metadata": {},
   "outputs": [
    {
     "data": {
      "text/plain": [
       "tweet_id            847\n",
       "screen_name         847\n",
       "tweet_created_at    847\n",
       "user_created_at     847\n",
       "tweets_to_date      847\n",
       "tweet_type          847\n",
       "dtype: int64"
      ]
     },
     "execution_count": 32,
     "metadata": {},
     "output_type": "execute_result"
    }
   ],
   "source": [
    "# Get the first tweet for each user\n",
    "first_tweet_df = dedupe_tweet_df.loc[dedupe_tweet_df.groupby('user_id')['tweet_created_at'].idxmin()].set_index(['user_id'])\n",
    "first_tweet_df.count()"
   ]
  },
  {
   "cell_type": "code",
   "execution_count": 33,
   "metadata": {
    "scrolled": true
   },
   "outputs": [
    {
     "data": {
      "text/html": [
       "<div>\n",
       "<table border=\"1\" class=\"dataframe\">\n",
       "  <thead>\n",
       "    <tr style=\"text-align: right;\">\n",
       "      <th></th>\n",
       "      <th>tweet_id</th>\n",
       "      <th>screen_name</th>\n",
       "      <th>tweet_created_at</th>\n",
       "      <th>user_created_at</th>\n",
       "      <th>tweets_to_date</th>\n",
       "      <th>tweet_type</th>\n",
       "    </tr>\n",
       "    <tr>\n",
       "      <th>user_id</th>\n",
       "      <th></th>\n",
       "      <th></th>\n",
       "      <th></th>\n",
       "      <th></th>\n",
       "      <th></th>\n",
       "      <th></th>\n",
       "    </tr>\n",
       "  </thead>\n",
       "  <tbody>\n",
       "    <tr>\n",
       "      <th>414936779</th>\n",
       "      <td>847824382441533440</td>\n",
       "      <td>abdulshaz</td>\n",
       "      <td>2017-03-31 14:54:19+00:00</td>\n",
       "      <td>2011-11-17 17:48:34+00:00</td>\n",
       "      <td>4894</td>\n",
       "      <td>original</td>\n",
       "    </tr>\n",
       "    <tr>\n",
       "      <th>137789852</th>\n",
       "      <td>847641018178519042</td>\n",
       "      <td>JanieVelencia</td>\n",
       "      <td>2017-03-31 02:45:41+00:00</td>\n",
       "      <td>2010-04-27 19:36:12+00:00</td>\n",
       "      <td>8816</td>\n",
       "      <td>retweet</td>\n",
       "    </tr>\n",
       "    <tr>\n",
       "      <th>2193026041</th>\n",
       "      <td>847550172980801537</td>\n",
       "      <td>Schank_A</td>\n",
       "      <td>2017-03-30 20:44:42+00:00</td>\n",
       "      <td>2013-11-13 22:13:29+00:00</td>\n",
       "      <td>559</td>\n",
       "      <td>reply</td>\n",
       "    </tr>\n",
       "    <tr>\n",
       "      <th>27068141</th>\n",
       "      <td>847502075898478595</td>\n",
       "      <td>sswestfall</td>\n",
       "      <td>2017-03-30 17:33:35+00:00</td>\n",
       "      <td>2009-03-27 18:48:36+00:00</td>\n",
       "      <td>197</td>\n",
       "      <td>retweet</td>\n",
       "    </tr>\n",
       "    <tr>\n",
       "      <th>589198817</th>\n",
       "      <td>847500358989381633</td>\n",
       "      <td>reuterslambert</td>\n",
       "      <td>2017-03-30 17:26:46+00:00</td>\n",
       "      <td>2012-05-24 15:22:54+00:00</td>\n",
       "      <td>1819</td>\n",
       "      <td>original</td>\n",
       "    </tr>\n",
       "  </tbody>\n",
       "</table>\n",
       "</div>"
      ],
      "text/plain": [
       "                      tweet_id     screen_name          tweet_created_at  \\\n",
       "user_id                                                                    \n",
       "414936779   847824382441533440       abdulshaz 2017-03-31 14:54:19+00:00   \n",
       "137789852   847641018178519042   JanieVelencia 2017-03-31 02:45:41+00:00   \n",
       "2193026041  847550172980801537        Schank_A 2017-03-30 20:44:42+00:00   \n",
       "27068141    847502075898478595      sswestfall 2017-03-30 17:33:35+00:00   \n",
       "589198817   847500358989381633  reuterslambert 2017-03-30 17:26:46+00:00   \n",
       "\n",
       "                     user_created_at  tweets_to_date tweet_type  \n",
       "user_id                                                          \n",
       "414936779  2011-11-17 17:48:34+00:00            4894   original  \n",
       "137789852  2010-04-27 19:36:12+00:00            8816    retweet  \n",
       "2193026041 2013-11-13 22:13:29+00:00             559      reply  \n",
       "27068141   2009-03-27 18:48:36+00:00             197    retweet  \n",
       "589198817  2012-05-24 15:22:54+00:00            1819   original  "
      ]
     },
     "execution_count": 33,
     "metadata": {},
     "output_type": "execute_result"
    }
   ],
   "source": [
    "first_tweet_df.sort_values('tweet_created_at', ascending=False).head()"
   ]
  },
  {
   "cell_type": "markdown",
   "metadata": {},
   "source": [
    "### Most recent first tweet"
   ]
  },
  {
   "cell_type": "code",
   "execution_count": 34,
   "metadata": {},
   "outputs": [
    {
     "data": {
      "text/plain": [
       "Timestamp('2017-03-31 14:54:19+0000', tz='UTC')"
      ]
     },
     "execution_count": 34,
     "metadata": {},
     "output_type": "execute_result"
    }
   ],
   "source": [
    "first_tweet_df['tweet_created_at'].max()"
   ]
  },
  {
   "cell_type": "markdown",
   "metadata": {},
   "source": [
    "## Types of tweets <----------\n",
    "While all the tweets are loaded, summarize the types of tweets."
   ]
  },
  {
   "cell_type": "code",
   "execution_count": 25,
   "metadata": {},
   "outputs": [
    {
     "data": {
      "text/plain": [
       "original    39188\n",
       "retweet     36688\n",
       "reply       14208\n",
       "quote        9901\n",
       "Name: tweet_type, dtype: int64"
      ]
     },
     "execution_count": 25,
     "metadata": {},
     "output_type": "execute_result"
    }
   ],
   "source": [
    "dedupe_tweet_df['tweet_type'].value_counts()"
   ]
  }
 ],
 "metadata": {
  "kernelspec": {
   "display_name": "Python 3",
   "language": "python",
   "name": "python3"
  },
  "language_info": {
   "codemirror_mode": {
    "name": "ipython",
    "version": 3
   },
   "file_extension": ".py",
   "mimetype": "text/x-python",
   "name": "python",
   "nbconvert_exporter": "python",
   "pygments_lexer": "ipython3",
   "version": "3.6.0"
  }
 },
 "nbformat": 4,
 "nbformat_minor": 2
}
