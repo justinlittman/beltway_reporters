{
 "cells": [
  {
   "cell_type": "markdown",
   "metadata": {},
   "source": [
    "# Tweet summary"
   ]
  },
  {
   "cell_type": "markdown",
   "metadata": {},
   "source": [
    "## Prepare the tweet data"
   ]
  },
  {
   "cell_type": "markdown",
   "metadata": {},
   "source": [
    "### Load the tweets"
   ]
  },
  {
   "cell_type": "code",
   "execution_count": 1,
   "metadata": {},
   "outputs": [
    {
     "name": "stderr",
     "output_type": "stream",
     "text": [
      "INFO:root:Loading from tweets/6b6a0be4f70640648b56447b387f17a2_001.json.gz\n",
      "DEBUG:root:Loaded 50000\n",
      "DEBUG:root:Loaded 100000\n",
      "DEBUG:root:Loaded 150000\n",
      "DEBUG:root:Loaded 200000\n",
      "DEBUG:root:Loaded 250000\n",
      "INFO:root:Loading from tweets/6b6a0be4f70640648b56447b387f17a2_002.json.gz\n",
      "INFO:root:Loading from tweets/7bff8603fb4a49d5953197361d548346_001.json.gz\n",
      "DEBUG:root:Loaded 300000\n",
      "DEBUG:root:Loaded 350000\n",
      "DEBUG:root:Loaded 400000\n",
      "DEBUG:root:Loaded 450000\n",
      "INFO:root:Loading from tweets/b3f330f5b6cc4572b6d7dabc3752b2b9_001.json.gz\n",
      "DEBUG:root:Loaded 500000\n",
      "DEBUG:root:Loaded 550000\n",
      "DEBUG:root:Loaded 600000\n",
      "DEBUG:root:Loaded 650000\n"
     ]
    },
    {
     "data": {
      "text/plain": [
       "tweet_id            650350\n",
       "user_id             650350\n",
       "screen_name         650350\n",
       "tweet_created_at    650350\n",
       "user_created_at     650350\n",
       "tweets_to_date      650350\n",
       "tweet_type          650350\n",
       "dtype: int64"
      ]
     },
     "execution_count": 1,
     "metadata": {},
     "output_type": "execute_result"
    }
   ],
   "source": [
    "%matplotlib inline\n",
    "import pandas as pd\n",
    "import numpy as np\n",
    "import logging\n",
    "from dateutil.parser import parse as date_parse\n",
    "from utils import load_tweet_df, tweet_type\n",
    "import matplotlib.pyplot as plt\n",
    "\n",
    "\n",
    "logger = logging.getLogger()\n",
    "logger.setLevel(logging.DEBUG)\n",
    "\n",
    "# Set float format so doesn't display scientific notation\n",
    "pd.options.display.float_format = '{:20,.2f}'.format\n",
    "\n",
    "def tweet_transform(tweet):\n",
    "    return {\n",
    "        'tweet_id': tweet['id_str'], \n",
    "        'tweet_created_at': date_parse(tweet['created_at']),\n",
    "        'user_id': tweet['user']['id_str'],\n",
    "        'screen_name': tweet['user']['screen_name'],\n",
    "        'user_created_at': date_parse(tweet['user']['created_at']),\n",
    "        'tweets_to_date': tweet['user']['statuses_count'],\n",
    "        'tweet_type': tweet_type(tweet)\n",
    "    }\n",
    "\n",
    "tweet_df = load_tweet_df(tweet_transform, ['tweet_id', 'user_id', 'screen_name', 'tweet_created_at', \n",
    "                                           'user_created_at', 'tweets_to_date', 'tweet_type'])\n",
    "tweet_df.count()"
   ]
  },
  {
   "cell_type": "markdown",
   "metadata": {},
   "source": [
    "### View the top of the data."
   ]
  },
  {
   "cell_type": "code",
   "execution_count": 2,
   "metadata": {
    "scrolled": true
   },
   "outputs": [
    {
     "data": {
      "text/html": [
       "<div>\n",
       "<table border=\"1\" class=\"dataframe\">\n",
       "  <thead>\n",
       "    <tr style=\"text-align: right;\">\n",
       "      <th></th>\n",
       "      <th>tweet_id</th>\n",
       "      <th>user_id</th>\n",
       "      <th>screen_name</th>\n",
       "      <th>tweet_created_at</th>\n",
       "      <th>user_created_at</th>\n",
       "      <th>tweets_to_date</th>\n",
       "      <th>tweet_type</th>\n",
       "    </tr>\n",
       "  </thead>\n",
       "  <tbody>\n",
       "    <tr>\n",
       "      <th>0</th>\n",
       "      <td>859463382042378240</td>\n",
       "      <td>2343897943</td>\n",
       "      <td>AmberCStrong</td>\n",
       "      <td>2017-05-02 17:43:32+00:00</td>\n",
       "      <td>2014-02-14 17:33:36+00:00</td>\n",
       "      <td>1701</td>\n",
       "      <td>original</td>\n",
       "    </tr>\n",
       "    <tr>\n",
       "      <th>1</th>\n",
       "      <td>859803200152588288</td>\n",
       "      <td>307982591</td>\n",
       "      <td>JaxAlemany</td>\n",
       "      <td>2017-05-03 16:13:51+00:00</td>\n",
       "      <td>2011-05-30 16:43:13+00:00</td>\n",
       "      <td>6328</td>\n",
       "      <td>original</td>\n",
       "    </tr>\n",
       "    <tr>\n",
       "      <th>2</th>\n",
       "      <td>859788527705493504</td>\n",
       "      <td>307982591</td>\n",
       "      <td>JaxAlemany</td>\n",
       "      <td>2017-05-03 15:15:33+00:00</td>\n",
       "      <td>2011-05-30 16:43:13+00:00</td>\n",
       "      <td>6328</td>\n",
       "      <td>quote</td>\n",
       "    </tr>\n",
       "    <tr>\n",
       "      <th>3</th>\n",
       "      <td>859788479076732930</td>\n",
       "      <td>307982591</td>\n",
       "      <td>JaxAlemany</td>\n",
       "      <td>2017-05-03 15:15:22+00:00</td>\n",
       "      <td>2011-05-30 16:43:13+00:00</td>\n",
       "      <td>6328</td>\n",
       "      <td>original</td>\n",
       "    </tr>\n",
       "    <tr>\n",
       "      <th>4</th>\n",
       "      <td>859781841955500032</td>\n",
       "      <td>307982591</td>\n",
       "      <td>JaxAlemany</td>\n",
       "      <td>2017-05-03 14:48:59+00:00</td>\n",
       "      <td>2011-05-30 16:43:13+00:00</td>\n",
       "      <td>6328</td>\n",
       "      <td>retweet</td>\n",
       "    </tr>\n",
       "  </tbody>\n",
       "</table>\n",
       "</div>"
      ],
      "text/plain": [
       "             tweet_id     user_id   screen_name          tweet_created_at  \\\n",
       "0  859463382042378240  2343897943  AmberCStrong 2017-05-02 17:43:32+00:00   \n",
       "1  859803200152588288   307982591    JaxAlemany 2017-05-03 16:13:51+00:00   \n",
       "2  859788527705493504   307982591    JaxAlemany 2017-05-03 15:15:33+00:00   \n",
       "3  859788479076732930   307982591    JaxAlemany 2017-05-03 15:15:22+00:00   \n",
       "4  859781841955500032   307982591    JaxAlemany 2017-05-03 14:48:59+00:00   \n",
       "\n",
       "            user_created_at  tweets_to_date tweet_type  \n",
       "0 2014-02-14 17:33:36+00:00            1701   original  \n",
       "1 2011-05-30 16:43:13+00:00            6328   original  \n",
       "2 2011-05-30 16:43:13+00:00            6328      quote  \n",
       "3 2011-05-30 16:43:13+00:00            6328   original  \n",
       "4 2011-05-30 16:43:13+00:00            6328    retweet  "
      ]
     },
     "execution_count": 2,
     "metadata": {},
     "output_type": "execute_result"
    }
   ],
   "source": [
    "tweet_df.head()"
   ]
  },
  {
   "cell_type": "markdown",
   "metadata": {},
   "source": [
    "## Prepare the user data"
   ]
  },
  {
   "cell_type": "markdown",
   "metadata": {},
   "source": [
    "### Tweets in dataset for each user"
   ]
  },
  {
   "cell_type": "code",
   "execution_count": 3,
   "metadata": {
    "scrolled": true
   },
   "outputs": [
    {
     "data": {
      "text/html": [
       "<div>\n",
       "<table border=\"1\" class=\"dataframe\">\n",
       "  <thead>\n",
       "    <tr style=\"text-align: right;\">\n",
       "      <th>tweet_type</th>\n",
       "      <th>original</th>\n",
       "      <th>quote</th>\n",
       "      <th>reply</th>\n",
       "      <th>retweet</th>\n",
       "      <th>tweets_in_dataset</th>\n",
       "      <th>tweets_in_dataset_bin</th>\n",
       "    </tr>\n",
       "    <tr>\n",
       "      <th>user_id</th>\n",
       "      <th></th>\n",
       "      <th></th>\n",
       "      <th></th>\n",
       "      <th></th>\n",
       "      <th></th>\n",
       "      <th></th>\n",
       "    </tr>\n",
       "  </thead>\n",
       "  <tbody>\n",
       "    <tr>\n",
       "      <th>1001991865</th>\n",
       "      <td>12.00</td>\n",
       "      <td>1.00</td>\n",
       "      <td>3.00</td>\n",
       "      <td>35.00</td>\n",
       "      <td>51.00</td>\n",
       "      <td>Bottom 90%</td>\n",
       "    </tr>\n",
       "    <tr>\n",
       "      <th>1002229862</th>\n",
       "      <td>35.00</td>\n",
       "      <td>5.00</td>\n",
       "      <td>2.00</td>\n",
       "      <td>99.00</td>\n",
       "      <td>141.00</td>\n",
       "      <td>Bottom 90%</td>\n",
       "    </tr>\n",
       "    <tr>\n",
       "      <th>100802089</th>\n",
       "      <td>4.00</td>\n",
       "      <td>3.00</td>\n",
       "      <td>5.00</td>\n",
       "      <td>12.00</td>\n",
       "      <td>24.00</td>\n",
       "      <td>Bottom 90%</td>\n",
       "    </tr>\n",
       "    <tr>\n",
       "      <th>100860790</th>\n",
       "      <td>117.00</td>\n",
       "      <td>19.00</td>\n",
       "      <td>9.00</td>\n",
       "      <td>215.00</td>\n",
       "      <td>360.00</td>\n",
       "      <td>Bottom 90%</td>\n",
       "    </tr>\n",
       "    <tr>\n",
       "      <th>1009749229</th>\n",
       "      <td>79.00</td>\n",
       "      <td>85.00</td>\n",
       "      <td>34.00</td>\n",
       "      <td>156.00</td>\n",
       "      <td>354.00</td>\n",
       "      <td>Bottom 90%</td>\n",
       "    </tr>\n",
       "  </tbody>\n",
       "</table>\n",
       "</div>"
      ],
      "text/plain": [
       "tweet_type             original                quote                reply  \\\n",
       "user_id                                                                     \n",
       "1001991865                12.00                 1.00                 3.00   \n",
       "1002229862                35.00                 5.00                 2.00   \n",
       "100802089                  4.00                 3.00                 5.00   \n",
       "100860790                117.00                19.00                 9.00   \n",
       "1009749229                79.00                85.00                34.00   \n",
       "\n",
       "tweet_type              retweet    tweets_in_dataset tweets_in_dataset_bin  \n",
       "user_id                                                                     \n",
       "1001991865                35.00                51.00            Bottom 90%  \n",
       "1002229862                99.00               141.00            Bottom 90%  \n",
       "100802089                 12.00                24.00            Bottom 90%  \n",
       "100860790                215.00               360.00            Bottom 90%  \n",
       "1009749229               156.00               354.00            Bottom 90%  "
      ]
     },
     "execution_count": 3,
     "metadata": {},
     "output_type": "execute_result"
    }
   ],
   "source": [
    "user_tweet_count_df = tweet_df[['user_id', 'tweet_type']].groupby(['user_id', 'tweet_type']).size().unstack()\n",
    "user_tweet_count_df.fillna(0, inplace=True)\n",
    "user_tweet_count_df['tweets_in_dataset'] = user_tweet_count_df.original + user_tweet_count_df.quote + user_tweet_count_df.reply + user_tweet_count_df.retweet\n",
    "user_tweet_count_df['tweets_in_dataset_bin'] = pd.qcut(user_tweet_count_df.tweets_in_dataset, [0, .9, .99, 1.], labels=['Bottom 90%', 'Middle 9%', 'Top 1%'])\n",
    "user_tweet_count_df.head()"
   ]
  },
  {
   "cell_type": "markdown",
   "metadata": {},
   "source": [
    "### Load and join user info\n",
    "This is information that was coded in the spreadsheet or looked up for each user via API."
   ]
  },
  {
   "cell_type": "code",
   "execution_count": 4,
   "metadata": {},
   "outputs": [
    {
     "data": {
      "text/plain": [
       "screen_name        2484\n",
       "name               2484\n",
       "organization       2455\n",
       "position           2481\n",
       "gender             2483\n",
       "followers_count    2484\n",
       "following_count    2484\n",
       "tweet_count        2484\n",
       "user_created_at    2484\n",
       "verified           2484\n",
       "protected          2484\n",
       "dtype: int64"
      ]
     },
     "execution_count": 4,
     "metadata": {},
     "output_type": "execute_result"
    }
   ],
   "source": [
    "user_info_df = pd.read_csv('source_data/user_info_lookup.csv', names=['screen_name', 'user_id', 'name', 'organization', 'position',\n",
    "                                            'gender', 'followers_count', 'following_count', 'tweet_count',\n",
    "                                            'user_created_at', 'verified', 'protected'],\n",
    "                          dtype={'user_id': str}).set_index(['user_id'])\n",
    "user_info_df.count()"
   ]
  },
  {
   "cell_type": "code",
   "execution_count": 5,
   "metadata": {},
   "outputs": [
    {
     "data": {
      "text/html": [
       "<div>\n",
       "<table border=\"1\" class=\"dataframe\">\n",
       "  <thead>\n",
       "    <tr style=\"text-align: right;\">\n",
       "      <th></th>\n",
       "      <th>screen_name</th>\n",
       "      <th>name</th>\n",
       "      <th>organization</th>\n",
       "      <th>position</th>\n",
       "      <th>gender</th>\n",
       "      <th>followers_count</th>\n",
       "      <th>following_count</th>\n",
       "      <th>tweet_count</th>\n",
       "      <th>user_created_at</th>\n",
       "      <th>verified</th>\n",
       "      <th>protected</th>\n",
       "    </tr>\n",
       "    <tr>\n",
       "      <th>user_id</th>\n",
       "      <th></th>\n",
       "      <th></th>\n",
       "      <th></th>\n",
       "      <th></th>\n",
       "      <th></th>\n",
       "      <th></th>\n",
       "      <th></th>\n",
       "      <th></th>\n",
       "      <th></th>\n",
       "      <th></th>\n",
       "      <th></th>\n",
       "    </tr>\n",
       "  </thead>\n",
       "  <tbody>\n",
       "    <tr>\n",
       "      <th>20711445</th>\n",
       "      <td>ninglin</td>\n",
       "      <td>Glinski, Nina</td>\n",
       "      <td>NaN</td>\n",
       "      <td>Freelance Reporter</td>\n",
       "      <td>F</td>\n",
       "      <td>968</td>\n",
       "      <td>507</td>\n",
       "      <td>909</td>\n",
       "      <td>Thu Feb 12 20:00:53 +0000 2009</td>\n",
       "      <td>False</td>\n",
       "      <td>False</td>\n",
       "    </tr>\n",
       "    <tr>\n",
       "      <th>258917371</th>\n",
       "      <td>davidjenders</td>\n",
       "      <td>Enders, David</td>\n",
       "      <td>NaN</td>\n",
       "      <td>Journalist</td>\n",
       "      <td>M</td>\n",
       "      <td>1451</td>\n",
       "      <td>480</td>\n",
       "      <td>6299</td>\n",
       "      <td>Mon Feb 28 19:52:03 +0000 2011</td>\n",
       "      <td>True</td>\n",
       "      <td>False</td>\n",
       "    </tr>\n",
       "    <tr>\n",
       "      <th>297046834</th>\n",
       "      <td>mattbarakat</td>\n",
       "      <td>Barakat, Matthew</td>\n",
       "      <td>Associated Press</td>\n",
       "      <td>Northern Virginia Correspondent</td>\n",
       "      <td>M</td>\n",
       "      <td>754</td>\n",
       "      <td>349</td>\n",
       "      <td>620</td>\n",
       "      <td>Wed May 11 20:55:24 +0000 2011</td>\n",
       "      <td>True</td>\n",
       "      <td>False</td>\n",
       "    </tr>\n",
       "    <tr>\n",
       "      <th>455585786</th>\n",
       "      <td>kimberlyeatkins</td>\n",
       "      <td>Atkins, Kimberly</td>\n",
       "      <td>Boston Herald</td>\n",
       "      <td>Chief Washington Reporter/Columnist</td>\n",
       "      <td>F</td>\n",
       "      <td>2399</td>\n",
       "      <td>2661</td>\n",
       "      <td>5846</td>\n",
       "      <td>Thu Jan 05 08:26:46 +0000 2012</td>\n",
       "      <td>True</td>\n",
       "      <td>False</td>\n",
       "    </tr>\n",
       "    <tr>\n",
       "      <th>42584840</th>\n",
       "      <td>toulavlahou</td>\n",
       "      <td>Vlahou, Toula</td>\n",
       "      <td>CQ Roll Call</td>\n",
       "      <td>Editor &amp; Podcast Producer</td>\n",
       "      <td>F</td>\n",
       "      <td>2713</td>\n",
       "      <td>198</td>\n",
       "      <td>6325</td>\n",
       "      <td>Tue May 26 07:41:38 +0000 2009</td>\n",
       "      <td>False</td>\n",
       "      <td>False</td>\n",
       "    </tr>\n",
       "  </tbody>\n",
       "</table>\n",
       "</div>"
      ],
      "text/plain": [
       "               screen_name              name      organization  \\\n",
       "user_id                                                          \n",
       "20711445           ninglin     Glinski, Nina               NaN   \n",
       "258917371     davidjenders     Enders, David               NaN   \n",
       "297046834      mattbarakat  Barakat, Matthew  Associated Press   \n",
       "455585786  kimberlyeatkins  Atkins, Kimberly     Boston Herald   \n",
       "42584840       toulavlahou     Vlahou, Toula      CQ Roll Call   \n",
       "\n",
       "                                      position gender  followers_count  \\\n",
       "user_id                                                                  \n",
       "20711445                    Freelance Reporter      F              968   \n",
       "258917371                           Journalist      M             1451   \n",
       "297046834      Northern Virginia Correspondent      M              754   \n",
       "455585786  Chief Washington Reporter/Columnist      F             2399   \n",
       "42584840             Editor & Podcast Producer      F             2713   \n",
       "\n",
       "           following_count  tweet_count                 user_created_at  \\\n",
       "user_id                                                                   \n",
       "20711445               507          909  Thu Feb 12 20:00:53 +0000 2009   \n",
       "258917371              480         6299  Mon Feb 28 19:52:03 +0000 2011   \n",
       "297046834              349          620  Wed May 11 20:55:24 +0000 2011   \n",
       "455585786             2661         5846  Thu Jan 05 08:26:46 +0000 2012   \n",
       "42584840               198         6325  Tue May 26 07:41:38 +0000 2009   \n",
       "\n",
       "          verified protected  \n",
       "user_id                       \n",
       "20711445     False     False  \n",
       "258917371     True     False  \n",
       "297046834     True     False  \n",
       "455585786     True     False  \n",
       "42584840     False     False  "
      ]
     },
     "execution_count": 5,
     "metadata": {},
     "output_type": "execute_result"
    }
   ],
   "source": [
    "user_info_df.head()"
   ]
  },
  {
   "cell_type": "code",
   "execution_count": 6,
   "metadata": {},
   "outputs": [
    {
     "data": {
      "text/plain": [
       "screen_name              2484\n",
       "name                     2484\n",
       "organization             2484\n",
       "position                 2481\n",
       "gender                   2483\n",
       "followers_count          2484\n",
       "following_count          2484\n",
       "tweet_count              2484\n",
       "user_created_at          2484\n",
       "verified                 2484\n",
       "protected                2484\n",
       "original                 2484\n",
       "quote                    2484\n",
       "reply                    2484\n",
       "retweet                  2484\n",
       "tweets_in_dataset        2484\n",
       "tweets_in_dataset_bin    2272\n",
       "dtype: int64"
      ]
     },
     "execution_count": 6,
     "metadata": {},
     "output_type": "execute_result"
    }
   ],
   "source": [
    "# Join\n",
    "user_summary_df = user_info_df.join(user_tweet_count_df, how='left')\n",
    "# Fill Nans\n",
    "user_summary_df['organization'].fillna('', inplace=True)\n",
    "user_summary_df['original'].fillna(0, inplace=True)\n",
    "user_summary_df['quote'].fillna(0, inplace=True)\n",
    "user_summary_df['reply'].fillna(0, inplace=True)\n",
    "user_summary_df['retweet'].fillna(0, inplace=True)\n",
    "user_summary_df['tweets_in_dataset'].fillna(0, inplace=True)\n",
    "user_summary_df.count()"
   ]
  },
  {
   "cell_type": "code",
   "execution_count": 7,
   "metadata": {},
   "outputs": [
    {
     "data": {
      "text/html": [
       "<div>\n",
       "<table border=\"1\" class=\"dataframe\">\n",
       "  <thead>\n",
       "    <tr style=\"text-align: right;\">\n",
       "      <th></th>\n",
       "      <th>screen_name</th>\n",
       "      <th>name</th>\n",
       "      <th>organization</th>\n",
       "      <th>position</th>\n",
       "      <th>gender</th>\n",
       "      <th>followers_count</th>\n",
       "      <th>following_count</th>\n",
       "      <th>tweet_count</th>\n",
       "      <th>user_created_at</th>\n",
       "      <th>verified</th>\n",
       "      <th>protected</th>\n",
       "      <th>original</th>\n",
       "      <th>quote</th>\n",
       "      <th>reply</th>\n",
       "      <th>retweet</th>\n",
       "      <th>tweets_in_dataset</th>\n",
       "      <th>tweets_in_dataset_bin</th>\n",
       "    </tr>\n",
       "    <tr>\n",
       "      <th>user_id</th>\n",
       "      <th></th>\n",
       "      <th></th>\n",
       "      <th></th>\n",
       "      <th></th>\n",
       "      <th></th>\n",
       "      <th></th>\n",
       "      <th></th>\n",
       "      <th></th>\n",
       "      <th></th>\n",
       "      <th></th>\n",
       "      <th></th>\n",
       "      <th></th>\n",
       "      <th></th>\n",
       "      <th></th>\n",
       "      <th></th>\n",
       "      <th></th>\n",
       "      <th></th>\n",
       "    </tr>\n",
       "  </thead>\n",
       "  <tbody>\n",
       "    <tr>\n",
       "      <th>20711445</th>\n",
       "      <td>ninglin</td>\n",
       "      <td>Glinski, Nina</td>\n",
       "      <td></td>\n",
       "      <td>Freelance Reporter</td>\n",
       "      <td>F</td>\n",
       "      <td>968</td>\n",
       "      <td>507</td>\n",
       "      <td>909</td>\n",
       "      <td>Thu Feb 12 20:00:53 +0000 2009</td>\n",
       "      <td>False</td>\n",
       "      <td>False</td>\n",
       "      <td>0.00</td>\n",
       "      <td>0.00</td>\n",
       "      <td>0.00</td>\n",
       "      <td>0.00</td>\n",
       "      <td>0.00</td>\n",
       "      <td>NaN</td>\n",
       "    </tr>\n",
       "    <tr>\n",
       "      <th>258917371</th>\n",
       "      <td>davidjenders</td>\n",
       "      <td>Enders, David</td>\n",
       "      <td></td>\n",
       "      <td>Journalist</td>\n",
       "      <td>M</td>\n",
       "      <td>1451</td>\n",
       "      <td>480</td>\n",
       "      <td>6299</td>\n",
       "      <td>Mon Feb 28 19:52:03 +0000 2011</td>\n",
       "      <td>True</td>\n",
       "      <td>False</td>\n",
       "      <td>0.00</td>\n",
       "      <td>0.00</td>\n",
       "      <td>0.00</td>\n",
       "      <td>0.00</td>\n",
       "      <td>0.00</td>\n",
       "      <td>NaN</td>\n",
       "    </tr>\n",
       "    <tr>\n",
       "      <th>297046834</th>\n",
       "      <td>mattbarakat</td>\n",
       "      <td>Barakat, Matthew</td>\n",
       "      <td>Associated Press</td>\n",
       "      <td>Northern Virginia Correspondent</td>\n",
       "      <td>M</td>\n",
       "      <td>754</td>\n",
       "      <td>349</td>\n",
       "      <td>620</td>\n",
       "      <td>Wed May 11 20:55:24 +0000 2011</td>\n",
       "      <td>True</td>\n",
       "      <td>False</td>\n",
       "      <td>12.00</td>\n",
       "      <td>0.00</td>\n",
       "      <td>0.00</td>\n",
       "      <td>2.00</td>\n",
       "      <td>14.00</td>\n",
       "      <td>Bottom 90%</td>\n",
       "    </tr>\n",
       "    <tr>\n",
       "      <th>455585786</th>\n",
       "      <td>kimberlyeatkins</td>\n",
       "      <td>Atkins, Kimberly</td>\n",
       "      <td>Boston Herald</td>\n",
       "      <td>Chief Washington Reporter/Columnist</td>\n",
       "      <td>F</td>\n",
       "      <td>2399</td>\n",
       "      <td>2661</td>\n",
       "      <td>5846</td>\n",
       "      <td>Thu Jan 05 08:26:46 +0000 2012</td>\n",
       "      <td>True</td>\n",
       "      <td>False</td>\n",
       "      <td>228.00</td>\n",
       "      <td>144.00</td>\n",
       "      <td>39.00</td>\n",
       "      <td>196.00</td>\n",
       "      <td>607.00</td>\n",
       "      <td>Bottom 90%</td>\n",
       "    </tr>\n",
       "    <tr>\n",
       "      <th>42584840</th>\n",
       "      <td>toulavlahou</td>\n",
       "      <td>Vlahou, Toula</td>\n",
       "      <td>CQ Roll Call</td>\n",
       "      <td>Editor &amp; Podcast Producer</td>\n",
       "      <td>F</td>\n",
       "      <td>2713</td>\n",
       "      <td>198</td>\n",
       "      <td>6325</td>\n",
       "      <td>Tue May 26 07:41:38 +0000 2009</td>\n",
       "      <td>False</td>\n",
       "      <td>False</td>\n",
       "      <td>32.00</td>\n",
       "      <td>25.00</td>\n",
       "      <td>0.00</td>\n",
       "      <td>25.00</td>\n",
       "      <td>82.00</td>\n",
       "      <td>Bottom 90%</td>\n",
       "    </tr>\n",
       "  </tbody>\n",
       "</table>\n",
       "</div>"
      ],
      "text/plain": [
       "               screen_name              name      organization  \\\n",
       "user_id                                                          \n",
       "20711445           ninglin     Glinski, Nina                     \n",
       "258917371     davidjenders     Enders, David                     \n",
       "297046834      mattbarakat  Barakat, Matthew  Associated Press   \n",
       "455585786  kimberlyeatkins  Atkins, Kimberly     Boston Herald   \n",
       "42584840       toulavlahou     Vlahou, Toula      CQ Roll Call   \n",
       "\n",
       "                                      position gender  followers_count  \\\n",
       "user_id                                                                  \n",
       "20711445                    Freelance Reporter      F              968   \n",
       "258917371                           Journalist      M             1451   \n",
       "297046834      Northern Virginia Correspondent      M              754   \n",
       "455585786  Chief Washington Reporter/Columnist      F             2399   \n",
       "42584840             Editor & Podcast Producer      F             2713   \n",
       "\n",
       "           following_count  tweet_count                 user_created_at  \\\n",
       "user_id                                                                   \n",
       "20711445               507          909  Thu Feb 12 20:00:53 +0000 2009   \n",
       "258917371              480         6299  Mon Feb 28 19:52:03 +0000 2011   \n",
       "297046834              349          620  Wed May 11 20:55:24 +0000 2011   \n",
       "455585786             2661         5846  Thu Jan 05 08:26:46 +0000 2012   \n",
       "42584840               198         6325  Tue May 26 07:41:38 +0000 2009   \n",
       "\n",
       "          verified protected             original                quote  \\\n",
       "user_id                                                                  \n",
       "20711445     False     False                 0.00                 0.00   \n",
       "258917371     True     False                 0.00                 0.00   \n",
       "297046834     True     False                12.00                 0.00   \n",
       "455585786     True     False               228.00               144.00   \n",
       "42584840     False     False                32.00                25.00   \n",
       "\n",
       "                         reply              retweet    tweets_in_dataset  \\\n",
       "user_id                                                                    \n",
       "20711445                  0.00                 0.00                 0.00   \n",
       "258917371                 0.00                 0.00                 0.00   \n",
       "297046834                 0.00                 2.00                14.00   \n",
       "455585786                39.00               196.00               607.00   \n",
       "42584840                  0.00                25.00                82.00   \n",
       "\n",
       "          tweets_in_dataset_bin  \n",
       "user_id                          \n",
       "20711445                    NaN  \n",
       "258917371                   NaN  \n",
       "297046834            Bottom 90%  \n",
       "455585786            Bottom 90%  \n",
       "42584840             Bottom 90%  "
      ]
     },
     "execution_count": 7,
     "metadata": {},
     "output_type": "execute_result"
    }
   ],
   "source": [
    "user_summary_df.head()"
   ]
  },
  {
   "cell_type": "markdown",
   "metadata": {},
   "source": [
    "### Write to file as output/user_summary.csv"
   ]
  },
  {
   "cell_type": "code",
   "execution_count": 8,
   "metadata": {},
   "outputs": [],
   "source": [
    "user_summary_df.to_csv('output/user_summary.csv')"
   ]
  },
  {
   "cell_type": "markdown",
   "metadata": {},
   "source": [
    "## Prepare the organization data\n",
    "This is for users that are members of each organization."
   ]
  },
  {
   "cell_type": "code",
   "execution_count": 9,
   "metadata": {},
   "outputs": [
    {
     "data": {
      "text/plain": [
       "followers_count    sum        347\n",
       "                   size       347\n",
       "                   average    347\n",
       "following_count    sum        347\n",
       "                   size       347\n",
       "                   average    347\n",
       "tweet_count        sum        347\n",
       "                   size       347\n",
       "                   average    347\n",
       "tweets_in_dataset  sum        347\n",
       "                   size       347\n",
       "                   average    347\n",
       "dtype: int64"
      ]
     },
     "execution_count": 9,
     "metadata": {},
     "output_type": "execute_result"
    }
   ],
   "source": [
    "org_summary_df = user_summary_df[['organization', 'followers_count', 'following_count', 'tweet_count', 'tweets_in_dataset']].groupby('organization').agg([np.sum, np.size, np.average])\n",
    "org_summary_df.count()"
   ]
  },
  {
   "cell_type": "code",
   "execution_count": 10,
   "metadata": {},
   "outputs": [
    {
     "data": {
      "text/html": [
       "<div>\n",
       "<table border=\"1\" class=\"dataframe\">\n",
       "  <thead>\n",
       "    <tr>\n",
       "      <th></th>\n",
       "      <th colspan=\"3\" halign=\"left\">followers_count</th>\n",
       "      <th colspan=\"3\" halign=\"left\">following_count</th>\n",
       "      <th colspan=\"3\" halign=\"left\">tweet_count</th>\n",
       "      <th colspan=\"3\" halign=\"left\">tweets_in_dataset</th>\n",
       "    </tr>\n",
       "    <tr>\n",
       "      <th></th>\n",
       "      <th>sum</th>\n",
       "      <th>size</th>\n",
       "      <th>average</th>\n",
       "      <th>sum</th>\n",
       "      <th>size</th>\n",
       "      <th>average</th>\n",
       "      <th>sum</th>\n",
       "      <th>size</th>\n",
       "      <th>average</th>\n",
       "      <th>sum</th>\n",
       "      <th>size</th>\n",
       "      <th>average</th>\n",
       "    </tr>\n",
       "    <tr>\n",
       "      <th>organization</th>\n",
       "      <th></th>\n",
       "      <th></th>\n",
       "      <th></th>\n",
       "      <th></th>\n",
       "      <th></th>\n",
       "      <th></th>\n",
       "      <th></th>\n",
       "      <th></th>\n",
       "      <th></th>\n",
       "      <th></th>\n",
       "      <th></th>\n",
       "      <th></th>\n",
       "    </tr>\n",
       "  </thead>\n",
       "  <tbody>\n",
       "    <tr>\n",
       "      <th></th>\n",
       "      <td>57347</td>\n",
       "      <td>29</td>\n",
       "      <td>1,977.48</td>\n",
       "      <td>30788</td>\n",
       "      <td>29</td>\n",
       "      <td>1,061.66</td>\n",
       "      <td>151441</td>\n",
       "      <td>29</td>\n",
       "      <td>5,222.10</td>\n",
       "      <td>2,767.00</td>\n",
       "      <td>29.00</td>\n",
       "      <td>95.41</td>\n",
       "    </tr>\n",
       "    <tr>\n",
       "      <th>ABC 7</th>\n",
       "      <td>889</td>\n",
       "      <td>1</td>\n",
       "      <td>889.00</td>\n",
       "      <td>1092</td>\n",
       "      <td>1</td>\n",
       "      <td>1,092.00</td>\n",
       "      <td>1946</td>\n",
       "      <td>1</td>\n",
       "      <td>1,946.00</td>\n",
       "      <td>464.00</td>\n",
       "      <td>1.00</td>\n",
       "      <td>464.00</td>\n",
       "    </tr>\n",
       "    <tr>\n",
       "      <th>ABC News</th>\n",
       "      <td>602790</td>\n",
       "      <td>52</td>\n",
       "      <td>11,592.12</td>\n",
       "      <td>72154</td>\n",
       "      <td>52</td>\n",
       "      <td>1,387.58</td>\n",
       "      <td>372200</td>\n",
       "      <td>52</td>\n",
       "      <td>7,157.69</td>\n",
       "      <td>8,629.00</td>\n",
       "      <td>52.00</td>\n",
       "      <td>165.94</td>\n",
       "    </tr>\n",
       "    <tr>\n",
       "      <th>AP–Broadcast</th>\n",
       "      <td>5305</td>\n",
       "      <td>15</td>\n",
       "      <td>353.67</td>\n",
       "      <td>7974</td>\n",
       "      <td>15</td>\n",
       "      <td>531.60</td>\n",
       "      <td>16794</td>\n",
       "      <td>15</td>\n",
       "      <td>1,119.60</td>\n",
       "      <td>527.00</td>\n",
       "      <td>15.00</td>\n",
       "      <td>35.13</td>\n",
       "    </tr>\n",
       "    <tr>\n",
       "      <th>Afro American Newspapers</th>\n",
       "      <td>189</td>\n",
       "      <td>1</td>\n",
       "      <td>189.00</td>\n",
       "      <td>202</td>\n",
       "      <td>1</td>\n",
       "      <td>202.00</td>\n",
       "      <td>596</td>\n",
       "      <td>1</td>\n",
       "      <td>596.00</td>\n",
       "      <td>14.00</td>\n",
       "      <td>1.00</td>\n",
       "      <td>14.00</td>\n",
       "    </tr>\n",
       "  </tbody>\n",
       "</table>\n",
       "</div>"
      ],
      "text/plain": [
       "                         followers_count                            \\\n",
       "                                     sum size              average   \n",
       "organization                                                         \n",
       "                                   57347   29             1,977.48   \n",
       "ABC 7                                889    1               889.00   \n",
       "ABC News                          602790   52            11,592.12   \n",
       "AP–Broadcast                        5305   15               353.67   \n",
       "Afro American Newspapers             189    1               189.00   \n",
       "\n",
       "                         following_count                            \\\n",
       "                                     sum size              average   \n",
       "organization                                                         \n",
       "                                   30788   29             1,061.66   \n",
       "ABC 7                               1092    1             1,092.00   \n",
       "ABC News                           72154   52             1,387.58   \n",
       "AP–Broadcast                        7974   15               531.60   \n",
       "Afro American Newspapers             202    1               202.00   \n",
       "\n",
       "                         tweet_count                            \\\n",
       "                                 sum size              average   \n",
       "organization                                                     \n",
       "                              151441   29             5,222.10   \n",
       "ABC 7                           1946    1             1,946.00   \n",
       "ABC News                      372200   52             7,157.69   \n",
       "AP–Broadcast                   16794   15             1,119.60   \n",
       "Afro American Newspapers         596    1               596.00   \n",
       "\n",
       "                            tweets_in_dataset                       \\\n",
       "                                          sum                 size   \n",
       "organization                                                         \n",
       "                                     2,767.00                29.00   \n",
       "ABC 7                                  464.00                 1.00   \n",
       "ABC News                             8,629.00                52.00   \n",
       "AP–Broadcast                           527.00                15.00   \n",
       "Afro American Newspapers                14.00                 1.00   \n",
       "\n",
       "                                               \n",
       "                                      average  \n",
       "organization                                   \n",
       "                                        95.41  \n",
       "ABC 7                                  464.00  \n",
       "ABC News                               165.94  \n",
       "AP–Broadcast                            35.13  \n",
       "Afro American Newspapers                14.00  "
      ]
     },
     "execution_count": 10,
     "metadata": {},
     "output_type": "execute_result"
    }
   ],
   "source": [
    "org_summary_df.head()"
   ]
  },
  {
   "cell_type": "markdown",
   "metadata": {},
   "source": [
    "### Write to file as output/organization_summary.csv"
   ]
  },
  {
   "cell_type": "code",
   "execution_count": 11,
   "metadata": {},
   "outputs": [
    {
     "ename": "NameError",
     "evalue": "name 'org_df' is not defined",
     "output_type": "error",
     "traceback": [
      "\u001b[0;31m---------------------------------------------------------------------------\u001b[0m",
      "\u001b[0;31mNameError\u001b[0m                                 Traceback (most recent call last)",
      "\u001b[0;32m<ipython-input-11-4ed0c8bca771>\u001b[0m in \u001b[0;36m<module>\u001b[0;34m()\u001b[0m\n\u001b[0;32m----> 1\u001b[0;31m \u001b[0morg_df\u001b[0m\u001b[0;34m.\u001b[0m\u001b[0mto_csv\u001b[0m\u001b[0;34m(\u001b[0m\u001b[0;34m'output/organization_summary.csv'\u001b[0m\u001b[0;34m)\u001b[0m\u001b[0;34m\u001b[0m\u001b[0m\n\u001b[0m",
      "\u001b[0;31mNameError\u001b[0m: name 'org_df' is not defined"
     ]
    }
   ],
   "source": [
    "org_df.to_csv('output/organization_summary.csv')"
   ]
  },
  {
   "cell_type": "markdown",
   "metadata": {},
   "source": [
    "### List of organizations <--- This probably requires some cleanup"
   ]
  },
  {
   "cell_type": "code",
   "execution_count": null,
   "metadata": {},
   "outputs": [],
   "source": [
    "org_summary_df.index.tolist()"
   ]
  },
  {
   "cell_type": "markdown",
   "metadata": {},
   "source": [
    "## Tweet summary\n",
    "For tweets in dataset."
   ]
  },
  {
   "cell_type": "markdown",
   "metadata": {},
   "source": [
    "### Types of tweets"
   ]
  },
  {
   "cell_type": "code",
   "execution_count": null,
   "metadata": {},
   "outputs": [],
   "source": [
    "tweet_df['tweet_type'].value_counts()"
   ]
  },
  {
   "cell_type": "markdown",
   "metadata": {},
   "source": [
    "## User tweet summary"
   ]
  },
  {
   "cell_type": "markdown",
   "metadata": {},
   "source": [
    "### Types of tweets in dataset for each user"
   ]
  },
  {
   "cell_type": "code",
   "execution_count": null,
   "metadata": {},
   "outputs": [],
   "source": [
    "user_summary_df[['original', 'quote', 'reply', 'retweet']].describe()"
   ]
  },
  {
   "cell_type": "markdown",
   "metadata": {},
   "source": [
    "### 1/9/90 rule\n",
    "For top 1%, 9%, 90% of tweeters, the number of tweets and types of tweets they account for."
   ]
  },
  {
   "cell_type": "code",
   "execution_count": null,
   "metadata": {},
   "outputs": [],
   "source": [
    "user_summary_df[user_summary_df.tweets_in_dataset_bin == 'Top 1%']"
   ]
  },
  {
   "cell_type": "code",
   "execution_count": null,
   "metadata": {},
   "outputs": [],
   "source": [
    "tweets_in_dataset_bin_summary_df = user_summary_df[['original', 'quote', 'reply', 'retweet', 'tweets_in_dataset', 'tweets_in_dataset_bin']].groupby('tweets_in_dataset_bin').sum()\n",
    "tweets_in_dataset_bin_summary_df['percent_of_original'] = tweets_in_dataset_bin_summary_df.original / tweets_in_dataset_bin_summary_df.original.sum()\n",
    "tweets_in_dataset_bin_summary_df['percent_of_quote'] = tweets_in_dataset_bin_summary_df.quote / tweets_in_dataset_bin_summary_df.quote.sum()\n",
    "tweets_in_dataset_bin_summary_df['percent_of_reply'] = tweets_in_dataset_bin_summary_df.reply / tweets_in_dataset_bin_summary_df.reply.sum()\n",
    "tweets_in_dataset_bin_summary_df['percent_of_retweets'] = tweets_in_dataset_bin_summary_df.retweet / tweets_in_dataset_bin_summary_df.retweet.sum()\n",
    "tweets_in_dataset_bin_summary_df['percent_of_tweets_in_dataset'] = tweets_in_dataset_bin_summary_df.tweets_in_dataset / tweets_in_dataset_bin_summary_df.tweets_in_dataset.sum()\n",
    "tweets_in_dataset_bin_summary_df['users_in_bin'] = user_summary_df[['tweets_in_dataset_bin', 'tweets_in_dataset']].groupby('tweets_in_dataset_bin').count()\n",
    "tweets_in_dataset_bin_summary_df\n"
   ]
  },
  {
   "cell_type": "markdown",
   "metadata": {},
   "source": [
    "## User summary"
   ]
  },
  {
   "cell_type": "code",
   "execution_count": null,
   "metadata": {},
   "outputs": [],
   "source": [
    "user_summary_df[['followers_count', 'following_count', 'tweet_count']].describe()"
   ]
  },
  {
   "cell_type": "markdown",
   "metadata": {},
   "source": [
    "### Gender"
   ]
  },
  {
   "cell_type": "code",
   "execution_count": null,
   "metadata": {},
   "outputs": [],
   "source": [
    "user_summary_df['gender'].value_counts()"
   ]
  },
  {
   "cell_type": "markdown",
   "metadata": {},
   "source": [
    "## Organization"
   ]
  },
  {
   "cell_type": "markdown",
   "metadata": {},
   "source": [
    "### Top by average followers"
   ]
  },
  {
   "cell_type": "code",
   "execution_count": null,
   "metadata": {},
   "outputs": [],
   "source": [
    "org_summary_df[['followers_count']].sort_values([('followers_count', 'average')], ascending=False).head()"
   ]
  },
  {
   "cell_type": "markdown",
   "metadata": {},
   "source": [
    "### Top by average following"
   ]
  },
  {
   "cell_type": "code",
   "execution_count": null,
   "metadata": {},
   "outputs": [],
   "source": [
    "org_summary_df[['following_count']].sort_values([('following_count', 'average')], ascending=False).head()"
   ]
  },
  {
   "cell_type": "markdown",
   "metadata": {},
   "source": [
    "### Top by average tweet count"
   ]
  },
  {
   "cell_type": "code",
   "execution_count": null,
   "metadata": {},
   "outputs": [],
   "source": [
    "org_summary_df[['tweet_count']].sort_values([('tweet_count', 'average')], ascending=False).head()"
   ]
  },
  {
   "cell_type": "markdown",
   "metadata": {},
   "source": [
    "### Top by number of tweets in dataset"
   ]
  },
  {
   "cell_type": "code",
   "execution_count": null,
   "metadata": {},
   "outputs": [],
   "source": [
    "org_summary_df[['tweets_in_dataset']].sort_values([('tweets_in_dataset', 'sum')], ascending=False).head()"
   ]
  },
  {
   "cell_type": "markdown",
   "metadata": {},
   "source": [
    "## First tweet for each user"
   ]
  },
  {
   "cell_type": "code",
   "execution_count": null,
   "metadata": {},
   "outputs": [],
   "source": [
    "# Get the first tweet for each user\n",
    "first_tweet_df = tweet_df.loc[tweet_df.groupby('user_id')['tweet_created_at'].idxmin()].set_index(['user_id'])\n",
    "first_tweet_df.count()"
   ]
  },
  {
   "cell_type": "code",
   "execution_count": null,
   "metadata": {
    "scrolled": true
   },
   "outputs": [],
   "source": [
    "first_tweet_df.sort_values('tweet_created_at', ascending=False).head()"
   ]
  },
  {
   "cell_type": "markdown",
   "metadata": {},
   "source": [
    "### Most recent first tweet"
   ]
  },
  {
   "cell_type": "code",
   "execution_count": null,
   "metadata": {
    "scrolled": true
   },
   "outputs": [],
   "source": [
    "first_tweet_df['tweet_created_at'].max()"
   ]
  }
 ],
 "metadata": {
  "kernelspec": {
   "display_name": "Python 3",
   "language": "python",
   "name": "python3"
  },
  "language_info": {
   "codemirror_mode": {
    "name": "ipython",
    "version": 3
   },
   "file_extension": ".py",
   "mimetype": "text/x-python",
   "name": "python",
   "nbconvert_exporter": "python",
   "pygments_lexer": "ipython3",
   "version": "3.6.0"
  }
 },
 "nbformat": 4,
 "nbformat_minor": 2
}
