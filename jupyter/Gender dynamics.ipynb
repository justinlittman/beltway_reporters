{
 "cells": [
  {
   "cell_type": "markdown",
   "metadata": {},
   "source": [
    "# Gender dynamics"
   ]
  },
  {
   "cell_type": "markdown",
   "metadata": {},
   "source": [
    "## Tweeter data prep"
   ]
  },
  {
   "cell_type": "markdown",
   "metadata": {},
   "source": [
    "### Load the tweets"
   ]
  },
  {
   "cell_type": "code",
   "execution_count": 1,
   "metadata": {},
   "outputs": [
    {
     "name": "stderr",
     "output_type": "stream",
     "text": [
      "INFO:root:Loading from tweets/41feff28312c433ab004cd822212f4c2_001.json.gz\n",
      "DEBUG:root:Loaded 50000\n",
      "DEBUG:root:Loaded 100000\n",
      "DEBUG:root:Loaded 150000\n",
      "DEBUG:root:Loaded 200000\n",
      "DEBUG:root:Loaded 250000\n",
      "DEBUG:root:Loaded 300000\n",
      "INFO:root:Loading from tweets/642bf140607547cb9d4c6b1fc49772aa_001.json.gz\n",
      "DEBUG:root:Loaded 350000\n",
      "DEBUG:root:Loaded 400000\n",
      "DEBUG:root:Loaded 450000\n",
      "DEBUG:root:Loaded 500000\n",
      "DEBUG:root:Loaded 550000\n",
      "INFO:root:Loading from tweets/9f7ed17c16a1494c8690b4053609539d_001.json.gz\n",
      "DEBUG:root:Loaded 600000\n",
      "DEBUG:root:Loaded 650000\n",
      "DEBUG:root:Loaded 700000\n",
      "DEBUG:root:Loaded 750000\n",
      "DEBUG:root:Loaded 800000\n"
     ]
    },
    {
     "data": {
      "text/plain": [
       "tweet_id            817136\n",
       "user_id             817136\n",
       "screen_name         817136\n",
       "tweet_created_at    817136\n",
       "tweet_type          817136\n",
       "dtype: int64"
      ]
     },
     "execution_count": 1,
     "metadata": {},
     "output_type": "execute_result"
    }
   ],
   "source": [
    "%matplotlib inline\n",
    "import pandas as pd\n",
    "import numpy as np\n",
    "import logging\n",
    "from dateutil.parser import parse as date_parse\n",
    "from utils import load_tweet_df, tweet_type\n",
    "import matplotlib.pyplot as plt\n",
    "\n",
    "\n",
    "logger = logging.getLogger()\n",
    "logger.setLevel(logging.DEBUG)\n",
    "\n",
    "# Set float format so doesn't display scientific notation\n",
    "pd.options.display.float_format = '{:20,.2f}'.format\n",
    "\n",
    "def tweet_transform(tweet):\n",
    "    return {\n",
    "        'tweet_id': tweet['id_str'], \n",
    "        'tweet_created_at': date_parse(tweet['created_at']),\n",
    "        'user_id': tweet['user']['id_str'],\n",
    "        'screen_name': tweet['user']['screen_name'],\n",
    "        'tweet_type': tweet_type(tweet)\n",
    "    }\n",
    "\n",
    "tweet_df = load_tweet_df(tweet_transform, ['tweet_id', 'user_id', 'screen_name', 'tweet_created_at', 'tweet_type'], dedupe_columns=['tweet_id'])\n",
    "tweet_df.count()"
   ]
  },
  {
   "cell_type": "code",
   "execution_count": 2,
   "metadata": {},
   "outputs": [
    {
     "data": {
      "text/html": [
       "<div>\n",
       "<table border=\"1\" class=\"dataframe\">\n",
       "  <thead>\n",
       "    <tr style=\"text-align: right;\">\n",
       "      <th></th>\n",
       "      <th>tweet_id</th>\n",
       "      <th>user_id</th>\n",
       "      <th>screen_name</th>\n",
       "      <th>tweet_created_at</th>\n",
       "      <th>tweet_type</th>\n",
       "    </tr>\n",
       "  </thead>\n",
       "  <tbody>\n",
       "    <tr>\n",
       "      <th>0</th>\n",
       "      <td>875028934177542144</td>\n",
       "      <td>15731368</td>\n",
       "      <td>HowardKurtz</td>\n",
       "      <td>2017-06-14 16:35:29+00:00</td>\n",
       "      <td>original</td>\n",
       "    </tr>\n",
       "    <tr>\n",
       "      <th>1</th>\n",
       "      <td>875012559228874752</td>\n",
       "      <td>15731368</td>\n",
       "      <td>HowardKurtz</td>\n",
       "      <td>2017-06-14 15:30:25+00:00</td>\n",
       "      <td>retweet</td>\n",
       "    </tr>\n",
       "    <tr>\n",
       "      <th>2</th>\n",
       "      <td>875012374343929862</td>\n",
       "      <td>15731368</td>\n",
       "      <td>HowardKurtz</td>\n",
       "      <td>2017-06-14 15:29:41+00:00</td>\n",
       "      <td>original</td>\n",
       "    </tr>\n",
       "    <tr>\n",
       "      <th>3</th>\n",
       "      <td>875010759759101952</td>\n",
       "      <td>15731368</td>\n",
       "      <td>HowardKurtz</td>\n",
       "      <td>2017-06-14 15:23:16+00:00</td>\n",
       "      <td>retweet</td>\n",
       "    </tr>\n",
       "    <tr>\n",
       "      <th>4</th>\n",
       "      <td>875010163496939520</td>\n",
       "      <td>15731368</td>\n",
       "      <td>HowardKurtz</td>\n",
       "      <td>2017-06-14 15:20:54+00:00</td>\n",
       "      <td>retweet</td>\n",
       "    </tr>\n",
       "  </tbody>\n",
       "</table>\n",
       "</div>"
      ],
      "text/plain": [
       "             tweet_id   user_id  screen_name          tweet_created_at  \\\n",
       "0  875028934177542144  15731368  HowardKurtz 2017-06-14 16:35:29+00:00   \n",
       "1  875012559228874752  15731368  HowardKurtz 2017-06-14 15:30:25+00:00   \n",
       "2  875012374343929862  15731368  HowardKurtz 2017-06-14 15:29:41+00:00   \n",
       "3  875010759759101952  15731368  HowardKurtz 2017-06-14 15:23:16+00:00   \n",
       "4  875010163496939520  15731368  HowardKurtz 2017-06-14 15:20:54+00:00   \n",
       "\n",
       "  tweet_type  \n",
       "0   original  \n",
       "1    retweet  \n",
       "2   original  \n",
       "3    retweet  \n",
       "4    retweet  "
      ]
     },
     "execution_count": 2,
     "metadata": {},
     "output_type": "execute_result"
    }
   ],
   "source": [
    "tweet_df.head()"
   ]
  },
  {
   "cell_type": "markdown",
   "metadata": {},
   "source": [
    "## Prepare the tweeter data\n",
    "This comes from the following sources:\n",
    "1. User lookup: These are lists of users exported from SFM. These are the final set of beltway journalists. Accounts that were suspended or deleted have been removed from this list. Also, this list will include users that did not tweet (i.e., have no tweets in dataset).\n",
    "2. Tweets in the dataset: Used to generate tweet counts per tweeter. However, since some beltway journalists may not have tweeted, this may be a subset of the user lookup. Also, it may include the tweets of some users that were later excluded because their accounts were suspended or deleted or determined to not be beltway journalists.\n",
    "3. User info lookup: Information on users that was manually coded in the beltway journalist spreadsheet or looked up from Twitter's API. This includes some accounts that were excluded from data collection for various reasons such as working for a foreign news organization or no longer working as a beltway journalist. Thus, these are a superset of the user lookup.\n",
    "\n",
    "Thus, the tweeter data should include tweet and user info data only from users in the user lookup."
   ]
  },
  {
   "cell_type": "markdown",
   "metadata": {},
   "source": [
    "### Load user lookup"
   ]
  },
  {
   "cell_type": "code",
   "execution_count": 3,
   "metadata": {},
   "outputs": [
    {
     "data": {
      "text/plain": [
       "screen_name    2487\n",
       "dtype: int64"
      ]
     },
     "execution_count": 3,
     "metadata": {},
     "output_type": "execute_result"
    }
   ],
   "source": [
    "user_lookup_filepaths = ('lookups/senate_press_lookup.csv',\n",
    "                         'lookups/periodical_press_lookup.csv',\n",
    "                         'lookups/radio_and_television_lookup.csv')\n",
    "user_lookup_df = pd.concat((pd.read_csv(user_lookup_filepath, usecols=['Uid', 'Token'], dtype={'Uid': str}) for user_lookup_filepath in user_lookup_filepaths))\n",
    "user_lookup_df.set_index('Uid', inplace=True)\n",
    "user_lookup_df.rename(columns={'Token': 'screen_name'}, inplace=True)\n",
    "user_lookup_df.index.names = ['user_id']\n",
    "# Some users may be in multiple lists, so need to drop duplicates\n",
    "user_lookup_df = user_lookup_df[~user_lookup_df.index.duplicated()]\n",
    "\n",
    "user_lookup_df.count()"
   ]
  },
  {
   "cell_type": "code",
   "execution_count": 4,
   "metadata": {},
   "outputs": [
    {
     "data": {
      "text/html": [
       "<div>\n",
       "<table border=\"1\" class=\"dataframe\">\n",
       "  <thead>\n",
       "    <tr style=\"text-align: right;\">\n",
       "      <th></th>\n",
       "      <th>screen_name</th>\n",
       "    </tr>\n",
       "    <tr>\n",
       "      <th>user_id</th>\n",
       "      <th></th>\n",
       "    </tr>\n",
       "  </thead>\n",
       "  <tbody>\n",
       "    <tr>\n",
       "      <th>23455653</th>\n",
       "      <td>abettel</td>\n",
       "    </tr>\n",
       "    <tr>\n",
       "      <th>33919343</th>\n",
       "      <td>AshleyRParker</td>\n",
       "    </tr>\n",
       "    <tr>\n",
       "      <th>18580432</th>\n",
       "      <td>b_fung</td>\n",
       "    </tr>\n",
       "    <tr>\n",
       "      <th>399225358</th>\n",
       "      <td>b_muzz</td>\n",
       "    </tr>\n",
       "    <tr>\n",
       "      <th>18834692</th>\n",
       "      <td>becca_milfeld</td>\n",
       "    </tr>\n",
       "  </tbody>\n",
       "</table>\n",
       "</div>"
      ],
      "text/plain": [
       "             screen_name\n",
       "user_id                 \n",
       "23455653         abettel\n",
       "33919343   AshleyRParker\n",
       "18580432          b_fung\n",
       "399225358         b_muzz\n",
       "18834692   becca_milfeld"
      ]
     },
     "execution_count": 4,
     "metadata": {},
     "output_type": "execute_result"
    }
   ],
   "source": [
    "user_lookup_df.head()"
   ]
  },
  {
   "cell_type": "markdown",
   "metadata": {},
   "source": [
    "### Tweets in dataset per tweeter"
   ]
  },
  {
   "cell_type": "code",
   "execution_count": 5,
   "metadata": {},
   "outputs": [
    {
     "data": {
      "text/plain": [
       "tweet_type\n",
       "original             2292\n",
       "quote                2292\n",
       "reply                2292\n",
       "retweet              2292\n",
       "tweets_in_dataset    2292\n",
       "dtype: int64"
      ]
     },
     "execution_count": 5,
     "metadata": {},
     "output_type": "execute_result"
    }
   ],
   "source": [
    "user_tweet_count_df = tweet_df[['user_id', 'tweet_type']].groupby(['user_id', 'tweet_type']).size().unstack()\n",
    "user_tweet_count_df.fillna(0, inplace=True)\n",
    "user_tweet_count_df['tweets_in_dataset'] = user_tweet_count_df.original + user_tweet_count_df.quote + user_tweet_count_df.reply + user_tweet_count_df.retweet\n",
    "user_tweet_count_df.count()"
   ]
  },
  {
   "cell_type": "code",
   "execution_count": 6,
   "metadata": {},
   "outputs": [
    {
     "data": {
      "text/html": [
       "<div>\n",
       "<table border=\"1\" class=\"dataframe\">\n",
       "  <thead>\n",
       "    <tr style=\"text-align: right;\">\n",
       "      <th>tweet_type</th>\n",
       "      <th>original</th>\n",
       "      <th>quote</th>\n",
       "      <th>reply</th>\n",
       "      <th>retweet</th>\n",
       "      <th>tweets_in_dataset</th>\n",
       "    </tr>\n",
       "    <tr>\n",
       "      <th>user_id</th>\n",
       "      <th></th>\n",
       "      <th></th>\n",
       "      <th></th>\n",
       "      <th></th>\n",
       "      <th></th>\n",
       "    </tr>\n",
       "  </thead>\n",
       "  <tbody>\n",
       "    <tr>\n",
       "      <th>1001991865</th>\n",
       "      <td>13.00</td>\n",
       "      <td>3.00</td>\n",
       "      <td>1.00</td>\n",
       "      <td>31.00</td>\n",
       "      <td>48.00</td>\n",
       "    </tr>\n",
       "    <tr>\n",
       "      <th>1002229862</th>\n",
       "      <td>48.00</td>\n",
       "      <td>20.00</td>\n",
       "      <td>3.00</td>\n",
       "      <td>118.00</td>\n",
       "      <td>189.00</td>\n",
       "    </tr>\n",
       "    <tr>\n",
       "      <th>100270054</th>\n",
       "      <td>1.00</td>\n",
       "      <td>0.00</td>\n",
       "      <td>0.00</td>\n",
       "      <td>0.00</td>\n",
       "      <td>1.00</td>\n",
       "    </tr>\n",
       "    <tr>\n",
       "      <th>100802089</th>\n",
       "      <td>4.00</td>\n",
       "      <td>7.00</td>\n",
       "      <td>12.00</td>\n",
       "      <td>17.00</td>\n",
       "      <td>40.00</td>\n",
       "    </tr>\n",
       "    <tr>\n",
       "      <th>100860790</th>\n",
       "      <td>102.00</td>\n",
       "      <td>26.00</td>\n",
       "      <td>4.00</td>\n",
       "      <td>166.00</td>\n",
       "      <td>298.00</td>\n",
       "    </tr>\n",
       "  </tbody>\n",
       "</table>\n",
       "</div>"
      ],
      "text/plain": [
       "tweet_type             original                quote                reply  \\\n",
       "user_id                                                                     \n",
       "1001991865                13.00                 3.00                 1.00   \n",
       "1002229862                48.00                20.00                 3.00   \n",
       "100270054                  1.00                 0.00                 0.00   \n",
       "100802089                  4.00                 7.00                12.00   \n",
       "100860790                102.00                26.00                 4.00   \n",
       "\n",
       "tweet_type              retweet    tweets_in_dataset  \n",
       "user_id                                               \n",
       "1001991865                31.00                48.00  \n",
       "1002229862               118.00               189.00  \n",
       "100270054                  0.00                 1.00  \n",
       "100802089                 17.00                40.00  \n",
       "100860790                166.00               298.00  "
      ]
     },
     "execution_count": 6,
     "metadata": {},
     "output_type": "execute_result"
    }
   ],
   "source": [
    "user_tweet_count_df.head()"
   ]
  },
  {
   "cell_type": "markdown",
   "metadata": {},
   "source": [
    "### Load user info"
   ]
  },
  {
   "cell_type": "code",
   "execution_count": 7,
   "metadata": {},
   "outputs": [
    {
     "data": {
      "text/plain": [
       "name               2506\n",
       "organization       2477\n",
       "position           2503\n",
       "gender             2505\n",
       "followers_count    2506\n",
       "following_count    2506\n",
       "tweet_count        2506\n",
       "user_created_at    2506\n",
       "verified           2506\n",
       "protected          2506\n",
       "dtype: int64"
      ]
     },
     "execution_count": 7,
     "metadata": {},
     "output_type": "execute_result"
    }
   ],
   "source": [
    "user_info_df = pd.read_csv('source_data/user_info_lookup.csv', names=['user_id', 'name', 'organization', 'position',\n",
    "                                            'gender', 'followers_count', 'following_count', 'tweet_count',\n",
    "                                            'user_created_at', 'verified', 'protected'],\n",
    "                          dtype={'user_id': str}).set_index(['user_id'])\n",
    "user_info_df.count()"
   ]
  },
  {
   "cell_type": "code",
   "execution_count": 8,
   "metadata": {},
   "outputs": [
    {
     "data": {
      "text/html": [
       "<div>\n",
       "<table border=\"1\" class=\"dataframe\">\n",
       "  <thead>\n",
       "    <tr style=\"text-align: right;\">\n",
       "      <th></th>\n",
       "      <th>name</th>\n",
       "      <th>organization</th>\n",
       "      <th>position</th>\n",
       "      <th>gender</th>\n",
       "      <th>followers_count</th>\n",
       "      <th>following_count</th>\n",
       "      <th>tweet_count</th>\n",
       "      <th>user_created_at</th>\n",
       "      <th>verified</th>\n",
       "      <th>protected</th>\n",
       "    </tr>\n",
       "    <tr>\n",
       "      <th>user_id</th>\n",
       "      <th></th>\n",
       "      <th></th>\n",
       "      <th></th>\n",
       "      <th></th>\n",
       "      <th></th>\n",
       "      <th></th>\n",
       "      <th></th>\n",
       "      <th></th>\n",
       "      <th></th>\n",
       "      <th></th>\n",
       "    </tr>\n",
       "  </thead>\n",
       "  <tbody>\n",
       "    <tr>\n",
       "      <th>20711445</th>\n",
       "      <td>Glinski, Nina</td>\n",
       "      <td>NaN</td>\n",
       "      <td>Freelance Reporter</td>\n",
       "      <td>F</td>\n",
       "      <td>963</td>\n",
       "      <td>507</td>\n",
       "      <td>909</td>\n",
       "      <td>Thu Feb 12 20:00:53 +0000 2009</td>\n",
       "      <td>False</td>\n",
       "      <td>False</td>\n",
       "    </tr>\n",
       "    <tr>\n",
       "      <th>258917371</th>\n",
       "      <td>Enders, David</td>\n",
       "      <td>NaN</td>\n",
       "      <td>Journalist</td>\n",
       "      <td>M</td>\n",
       "      <td>1444</td>\n",
       "      <td>484</td>\n",
       "      <td>6296</td>\n",
       "      <td>Mon Feb 28 19:52:03 +0000 2011</td>\n",
       "      <td>True</td>\n",
       "      <td>False</td>\n",
       "    </tr>\n",
       "    <tr>\n",
       "      <th>297046834</th>\n",
       "      <td>Barakat, Matthew</td>\n",
       "      <td>Associated Press</td>\n",
       "      <td>Northern Virginia Correspondent</td>\n",
       "      <td>M</td>\n",
       "      <td>759</td>\n",
       "      <td>352</td>\n",
       "      <td>631</td>\n",
       "      <td>Wed May 11 20:55:24 +0000 2011</td>\n",
       "      <td>True</td>\n",
       "      <td>False</td>\n",
       "    </tr>\n",
       "    <tr>\n",
       "      <th>455585786</th>\n",
       "      <td>Atkins, Kimberly</td>\n",
       "      <td>Boston Herald</td>\n",
       "      <td>Chief Washington Reporter/Columnist</td>\n",
       "      <td>F</td>\n",
       "      <td>2944</td>\n",
       "      <td>2691</td>\n",
       "      <td>6277</td>\n",
       "      <td>Thu Jan 05 08:26:46 +0000 2012</td>\n",
       "      <td>True</td>\n",
       "      <td>False</td>\n",
       "    </tr>\n",
       "    <tr>\n",
       "      <th>42584840</th>\n",
       "      <td>Vlahou, Toula</td>\n",
       "      <td>CQ Roll Call</td>\n",
       "      <td>Editor &amp; Podcast Producer</td>\n",
       "      <td>F</td>\n",
       "      <td>2703</td>\n",
       "      <td>201</td>\n",
       "      <td>6366</td>\n",
       "      <td>Tue May 26 07:41:38 +0000 2009</td>\n",
       "      <td>False</td>\n",
       "      <td>False</td>\n",
       "    </tr>\n",
       "  </tbody>\n",
       "</table>\n",
       "</div>"
      ],
      "text/plain": [
       "                       name      organization  \\\n",
       "user_id                                         \n",
       "20711445      Glinski, Nina               NaN   \n",
       "258917371     Enders, David               NaN   \n",
       "297046834  Barakat, Matthew  Associated Press   \n",
       "455585786  Atkins, Kimberly     Boston Herald   \n",
       "42584840      Vlahou, Toula      CQ Roll Call   \n",
       "\n",
       "                                      position gender  followers_count  \\\n",
       "user_id                                                                  \n",
       "20711445                    Freelance Reporter      F              963   \n",
       "258917371                           Journalist      M             1444   \n",
       "297046834      Northern Virginia Correspondent      M              759   \n",
       "455585786  Chief Washington Reporter/Columnist      F             2944   \n",
       "42584840             Editor & Podcast Producer      F             2703   \n",
       "\n",
       "           following_count  tweet_count                 user_created_at  \\\n",
       "user_id                                                                   \n",
       "20711445               507          909  Thu Feb 12 20:00:53 +0000 2009   \n",
       "258917371              484         6296  Mon Feb 28 19:52:03 +0000 2011   \n",
       "297046834              352          631  Wed May 11 20:55:24 +0000 2011   \n",
       "455585786             2691         6277  Thu Jan 05 08:26:46 +0000 2012   \n",
       "42584840               201         6366  Tue May 26 07:41:38 +0000 2009   \n",
       "\n",
       "          verified protected  \n",
       "user_id                       \n",
       "20711445     False     False  \n",
       "258917371     True     False  \n",
       "297046834     True     False  \n",
       "455585786     True     False  \n",
       "42584840     False     False  "
      ]
     },
     "execution_count": 8,
     "metadata": {},
     "output_type": "execute_result"
    }
   ],
   "source": [
    "user_info_df.head()"
   ]
  },
  {
   "cell_type": "code",
   "execution_count": 9,
   "metadata": {},
   "outputs": [
    {
     "data": {
      "text/plain": [
       "screen_name          2487\n",
       "name                 2487\n",
       "organization         2487\n",
       "position             2484\n",
       "gender               2486\n",
       "followers_count      2487\n",
       "following_count      2487\n",
       "tweet_count          2487\n",
       "user_created_at      2487\n",
       "verified             2487\n",
       "protected            2487\n",
       "original             2487\n",
       "quote                2487\n",
       "reply                2487\n",
       "retweet              2487\n",
       "tweets_in_dataset    2487\n",
       "dtype: int64"
      ]
     },
     "execution_count": 9,
     "metadata": {},
     "output_type": "execute_result"
    }
   ],
   "source": [
    "user_summary_df = user_lookup_df.join((user_info_df, user_tweet_count_df), how='left')\n",
    "# Fill Nans\n",
    "user_summary_df['organization'].fillna('', inplace=True)\n",
    "user_summary_df['original'].fillna(0, inplace=True)\n",
    "user_summary_df['quote'].fillna(0, inplace=True)\n",
    "user_summary_df['reply'].fillna(0, inplace=True)\n",
    "user_summary_df['retweet'].fillna(0, inplace=True)\n",
    "user_summary_df['tweets_in_dataset'].fillna(0, inplace=True)\n",
    "user_summary_df.count()"
   ]
  },
  {
   "cell_type": "code",
   "execution_count": 10,
   "metadata": {},
   "outputs": [
    {
     "data": {
      "text/html": [
       "<div>\n",
       "<table border=\"1\" class=\"dataframe\">\n",
       "  <thead>\n",
       "    <tr style=\"text-align: right;\">\n",
       "      <th></th>\n",
       "      <th>screen_name</th>\n",
       "      <th>name</th>\n",
       "      <th>organization</th>\n",
       "      <th>position</th>\n",
       "      <th>gender</th>\n",
       "      <th>followers_count</th>\n",
       "      <th>following_count</th>\n",
       "      <th>tweet_count</th>\n",
       "      <th>user_created_at</th>\n",
       "      <th>verified</th>\n",
       "      <th>protected</th>\n",
       "      <th>original</th>\n",
       "      <th>quote</th>\n",
       "      <th>reply</th>\n",
       "      <th>retweet</th>\n",
       "      <th>tweets_in_dataset</th>\n",
       "    </tr>\n",
       "    <tr>\n",
       "      <th>user_id</th>\n",
       "      <th></th>\n",
       "      <th></th>\n",
       "      <th></th>\n",
       "      <th></th>\n",
       "      <th></th>\n",
       "      <th></th>\n",
       "      <th></th>\n",
       "      <th></th>\n",
       "      <th></th>\n",
       "      <th></th>\n",
       "      <th></th>\n",
       "      <th></th>\n",
       "      <th></th>\n",
       "      <th></th>\n",
       "      <th></th>\n",
       "      <th></th>\n",
       "    </tr>\n",
       "  </thead>\n",
       "  <tbody>\n",
       "    <tr>\n",
       "      <th>23455653</th>\n",
       "      <td>abettel</td>\n",
       "      <td>Bettelheim, Adriel</td>\n",
       "      <td>Politico</td>\n",
       "      <td>Health Care Editor</td>\n",
       "      <td>F</td>\n",
       "      <td>2664</td>\n",
       "      <td>1055</td>\n",
       "      <td>15990</td>\n",
       "      <td>Mon Mar 09 16:32:20 +0000 2009</td>\n",
       "      <td>True</td>\n",
       "      <td>False</td>\n",
       "      <td>289.00</td>\n",
       "      <td>12.00</td>\n",
       "      <td>6.00</td>\n",
       "      <td>52.00</td>\n",
       "      <td>359.00</td>\n",
       "    </tr>\n",
       "    <tr>\n",
       "      <th>33919343</th>\n",
       "      <td>AshleyRParker</td>\n",
       "      <td>Parker, Ashley</td>\n",
       "      <td>Washington Post</td>\n",
       "      <td>White House Reporter</td>\n",
       "      <td>F</td>\n",
       "      <td>122382</td>\n",
       "      <td>2342</td>\n",
       "      <td>12433</td>\n",
       "      <td>Tue Apr 21 14:28:57 +0000 2009</td>\n",
       "      <td>True</td>\n",
       "      <td>False</td>\n",
       "      <td>172.00</td>\n",
       "      <td>67.00</td>\n",
       "      <td>11.00</td>\n",
       "      <td>120.00</td>\n",
       "      <td>370.00</td>\n",
       "    </tr>\n",
       "    <tr>\n",
       "      <th>18580432</th>\n",
       "      <td>b_fung</td>\n",
       "      <td>Fung, Brian</td>\n",
       "      <td>Washington Post</td>\n",
       "      <td>Tech Reporter</td>\n",
       "      <td>M</td>\n",
       "      <td>16558</td>\n",
       "      <td>2062</td>\n",
       "      <td>44799</td>\n",
       "      <td>Sat Jan 03 15:15:57 +0000 2009</td>\n",
       "      <td>True</td>\n",
       "      <td>False</td>\n",
       "      <td>257.00</td>\n",
       "      <td>85.00</td>\n",
       "      <td>205.00</td>\n",
       "      <td>82.00</td>\n",
       "      <td>629.00</td>\n",
       "    </tr>\n",
       "    <tr>\n",
       "      <th>399225358</th>\n",
       "      <td>b_muzz</td>\n",
       "      <td>Murray, Brendan</td>\n",
       "      <td>Bloomberg News</td>\n",
       "      <td>Managing Editor, U.S. Economy</td>\n",
       "      <td>M</td>\n",
       "      <td>624</td>\n",
       "      <td>382</td>\n",
       "      <td>360</td>\n",
       "      <td>Thu Oct 27 05:34:05 +0000 2011</td>\n",
       "      <td>True</td>\n",
       "      <td>False</td>\n",
       "      <td>3.00</td>\n",
       "      <td>0.00</td>\n",
       "      <td>0.00</td>\n",
       "      <td>5.00</td>\n",
       "      <td>8.00</td>\n",
       "    </tr>\n",
       "    <tr>\n",
       "      <th>18834692</th>\n",
       "      <td>becca_milfeld</td>\n",
       "      <td>Milfeld, Becca</td>\n",
       "      <td>Agence France-Presse</td>\n",
       "      <td>English Desk Editor and Journalist</td>\n",
       "      <td>F</td>\n",
       "      <td>483</td>\n",
       "      <td>993</td>\n",
       "      <td>1484</td>\n",
       "      <td>Sat Jan 10 13:58:43 +0000 2009</td>\n",
       "      <td>False</td>\n",
       "      <td>False</td>\n",
       "      <td>3.00</td>\n",
       "      <td>14.00</td>\n",
       "      <td>0.00</td>\n",
       "      <td>7.00</td>\n",
       "      <td>24.00</td>\n",
       "    </tr>\n",
       "  </tbody>\n",
       "</table>\n",
       "</div>"
      ],
      "text/plain": [
       "             screen_name                name          organization  \\\n",
       "user_id                                                              \n",
       "23455653         abettel  Bettelheim, Adriel              Politico   \n",
       "33919343   AshleyRParker      Parker, Ashley       Washington Post   \n",
       "18580432          b_fung         Fung, Brian       Washington Post   \n",
       "399225358         b_muzz     Murray, Brendan        Bloomberg News   \n",
       "18834692   becca_milfeld      Milfeld, Becca  Agence France-Presse   \n",
       "\n",
       "                                     position gender  followers_count  \\\n",
       "user_id                                                                 \n",
       "23455653                   Health Care Editor      F             2664   \n",
       "33919343                 White House Reporter      F           122382   \n",
       "18580432                        Tech Reporter      M            16558   \n",
       "399225358       Managing Editor, U.S. Economy      M              624   \n",
       "18834692   English Desk Editor and Journalist      F              483   \n",
       "\n",
       "           following_count  tweet_count                 user_created_at  \\\n",
       "user_id                                                                   \n",
       "23455653              1055        15990  Mon Mar 09 16:32:20 +0000 2009   \n",
       "33919343              2342        12433  Tue Apr 21 14:28:57 +0000 2009   \n",
       "18580432              2062        44799  Sat Jan 03 15:15:57 +0000 2009   \n",
       "399225358              382          360  Thu Oct 27 05:34:05 +0000 2011   \n",
       "18834692               993         1484  Sat Jan 10 13:58:43 +0000 2009   \n",
       "\n",
       "          verified protected             original                quote  \\\n",
       "user_id                                                                  \n",
       "23455653      True     False               289.00                12.00   \n",
       "33919343      True     False               172.00                67.00   \n",
       "18580432      True     False               257.00                85.00   \n",
       "399225358     True     False                 3.00                 0.00   \n",
       "18834692     False     False                 3.00                14.00   \n",
       "\n",
       "                         reply              retweet    tweets_in_dataset  \n",
       "user_id                                                                   \n",
       "23455653                  6.00                52.00               359.00  \n",
       "33919343                 11.00               120.00               370.00  \n",
       "18580432                205.00                82.00               629.00  \n",
       "399225358                 0.00                 5.00                 8.00  \n",
       "18834692                  0.00                 7.00                24.00  "
      ]
     },
     "execution_count": 10,
     "metadata": {},
     "output_type": "execute_result"
    }
   ],
   "source": [
    "user_summary_df.head()"
   ]
  },
  {
   "cell_type": "markdown",
   "metadata": {
    "collapsed": true
   },
   "source": [
    "### Remove users with no tweets in dataset"
   ]
  },
  {
   "cell_type": "code",
   "execution_count": 11,
   "metadata": {},
   "outputs": [
    {
     "data": {
      "text/plain": [
       "screen_name          195\n",
       "name                 195\n",
       "organization         195\n",
       "position             195\n",
       "gender               194\n",
       "followers_count      195\n",
       "following_count      195\n",
       "tweet_count          195\n",
       "user_created_at      195\n",
       "verified             195\n",
       "protected            195\n",
       "original             195\n",
       "quote                195\n",
       "reply                195\n",
       "retweet              195\n",
       "tweets_in_dataset    195\n",
       "dtype: int64"
      ]
     },
     "execution_count": 11,
     "metadata": {},
     "output_type": "execute_result"
    }
   ],
   "source": [
    "user_summary_df[user_summary_df.tweets_in_dataset == 0].count()"
   ]
  },
  {
   "cell_type": "code",
   "execution_count": 12,
   "metadata": {},
   "outputs": [
    {
     "data": {
      "text/plain": [
       "screen_name          2292\n",
       "name                 2292\n",
       "organization         2292\n",
       "position             2289\n",
       "gender               2292\n",
       "followers_count      2292\n",
       "following_count      2292\n",
       "tweet_count          2292\n",
       "user_created_at      2292\n",
       "verified             2292\n",
       "protected            2292\n",
       "original             2292\n",
       "quote                2292\n",
       "reply                2292\n",
       "retweet              2292\n",
       "tweets_in_dataset    2292\n",
       "dtype: int64"
      ]
     },
     "execution_count": 12,
     "metadata": {},
     "output_type": "execute_result"
    }
   ],
   "source": [
    "user_summary_df = user_summary_df[user_summary_df.tweets_in_dataset != 0]\n",
    "user_summary_df.count()"
   ]
  },
  {
   "cell_type": "markdown",
   "metadata": {},
   "source": [
    "## Tweeter analysis"
   ]
  },
  {
   "cell_type": "markdown",
   "metadata": {},
   "source": [
    "### Gender"
   ]
  },
  {
   "cell_type": "code",
   "execution_count": 13,
   "metadata": {},
   "outputs": [
    {
     "data": {
      "text/html": [
       "<div>\n",
       "<table border=\"1\" class=\"dataframe\">\n",
       "  <thead>\n",
       "    <tr style=\"text-align: right;\">\n",
       "      <th></th>\n",
       "      <th>count</th>\n",
       "      <th>percentage</th>\n",
       "    </tr>\n",
       "  </thead>\n",
       "  <tbody>\n",
       "    <tr>\n",
       "      <th>M</th>\n",
       "      <td>1299</td>\n",
       "      <td>56.7%</td>\n",
       "    </tr>\n",
       "    <tr>\n",
       "      <th>F</th>\n",
       "      <td>993</td>\n",
       "      <td>43.3%</td>\n",
       "    </tr>\n",
       "  </tbody>\n",
       "</table>\n",
       "</div>"
      ],
      "text/plain": [
       "   count percentage\n",
       "M   1299      56.7%\n",
       "F    993      43.3%"
      ]
     },
     "execution_count": 13,
     "metadata": {},
     "output_type": "execute_result"
    }
   ],
   "source": [
    "pd.DataFrame({'count':user_summary_df.gender.value_counts(), 'percentage':user_summary_df.gender.value_counts(normalize=True).mul(100).round(1).astype(str) + '%'})"
   ]
  },
  {
   "cell_type": "markdown",
   "metadata": {},
   "source": [
    "### Summary"
   ]
  },
  {
   "cell_type": "markdown",
   "metadata": {},
   "source": [
    "#### All"
   ]
  },
  {
   "cell_type": "code",
   "execution_count": 14,
   "metadata": {},
   "outputs": [
    {
     "data": {
      "text/html": [
       "<div>\n",
       "<table border=\"1\" class=\"dataframe\">\n",
       "  <thead>\n",
       "    <tr style=\"text-align: right;\">\n",
       "      <th></th>\n",
       "      <th>followers_count</th>\n",
       "      <th>following_count</th>\n",
       "      <th>tweet_count</th>\n",
       "      <th>original</th>\n",
       "      <th>quote</th>\n",
       "      <th>reply</th>\n",
       "      <th>retweet</th>\n",
       "      <th>tweets_in_dataset</th>\n",
       "    </tr>\n",
       "  </thead>\n",
       "  <tbody>\n",
       "    <tr>\n",
       "      <th>count</th>\n",
       "      <td>2,292.00</td>\n",
       "      <td>2,292.00</td>\n",
       "      <td>2,292.00</td>\n",
       "      <td>2,292.00</td>\n",
       "      <td>2,292.00</td>\n",
       "      <td>2,292.00</td>\n",
       "      <td>2,292.00</td>\n",
       "      <td>2,292.00</td>\n",
       "    </tr>\n",
       "    <tr>\n",
       "      <th>mean</th>\n",
       "      <td>16,467.62</td>\n",
       "      <td>1,444.83</td>\n",
       "      <td>9,619.69</td>\n",
       "      <td>102.06</td>\n",
       "      <td>48.73</td>\n",
       "      <td>55.08</td>\n",
       "      <td>150.64</td>\n",
       "      <td>356.52</td>\n",
       "    </tr>\n",
       "    <tr>\n",
       "      <th>std</th>\n",
       "      <td>91,886.90</td>\n",
       "      <td>3,003.00</td>\n",
       "      <td>16,618.09</td>\n",
       "      <td>169.43</td>\n",
       "      <td>135.90</td>\n",
       "      <td>249.18</td>\n",
       "      <td>585.08</td>\n",
       "      <td>833.76</td>\n",
       "    </tr>\n",
       "    <tr>\n",
       "      <th>min</th>\n",
       "      <td>6.00</td>\n",
       "      <td>0.00</td>\n",
       "      <td>1.00</td>\n",
       "      <td>0.00</td>\n",
       "      <td>0.00</td>\n",
       "      <td>0.00</td>\n",
       "      <td>0.00</td>\n",
       "      <td>1.00</td>\n",
       "    </tr>\n",
       "    <tr>\n",
       "      <th>25%</th>\n",
       "      <td>831.75</td>\n",
       "      <td>505.75</td>\n",
       "      <td>1,449.50</td>\n",
       "      <td>10.00</td>\n",
       "      <td>1.00</td>\n",
       "      <td>1.00</td>\n",
       "      <td>8.00</td>\n",
       "      <td>32.00</td>\n",
       "    </tr>\n",
       "    <tr>\n",
       "      <th>50%</th>\n",
       "      <td>2,419.50</td>\n",
       "      <td>998.50</td>\n",
       "      <td>4,211.50</td>\n",
       "      <td>41.00</td>\n",
       "      <td>9.00</td>\n",
       "      <td>5.00</td>\n",
       "      <td>39.00</td>\n",
       "      <td>122.00</td>\n",
       "    </tr>\n",
       "    <tr>\n",
       "      <th>75%</th>\n",
       "      <td>7,348.75</td>\n",
       "      <td>1,713.50</td>\n",
       "      <td>10,817.25</td>\n",
       "      <td>124.25</td>\n",
       "      <td>43.00</td>\n",
       "      <td>30.00</td>\n",
       "      <td>129.00</td>\n",
       "      <td>375.00</td>\n",
       "    </tr>\n",
       "    <tr>\n",
       "      <th>max</th>\n",
       "      <td>2,176,578.00</td>\n",
       "      <td>96,194.00</td>\n",
       "      <td>208,763.00</td>\n",
       "      <td>2,693.00</td>\n",
       "      <td>3,069.00</td>\n",
       "      <td>9,033.00</td>\n",
       "      <td>21,524.00</td>\n",
       "      <td>21,547.00</td>\n",
       "    </tr>\n",
       "  </tbody>\n",
       "</table>\n",
       "</div>"
      ],
      "text/plain": [
       "           followers_count      following_count          tweet_count  \\\n",
       "count             2,292.00             2,292.00             2,292.00   \n",
       "mean             16,467.62             1,444.83             9,619.69   \n",
       "std              91,886.90             3,003.00            16,618.09   \n",
       "min                   6.00                 0.00                 1.00   \n",
       "25%                 831.75               505.75             1,449.50   \n",
       "50%               2,419.50               998.50             4,211.50   \n",
       "75%               7,348.75             1,713.50            10,817.25   \n",
       "max           2,176,578.00            96,194.00           208,763.00   \n",
       "\n",
       "                  original                quote                reply  \\\n",
       "count             2,292.00             2,292.00             2,292.00   \n",
       "mean                102.06                48.73                55.08   \n",
       "std                 169.43               135.90               249.18   \n",
       "min                   0.00                 0.00                 0.00   \n",
       "25%                  10.00                 1.00                 1.00   \n",
       "50%                  41.00                 9.00                 5.00   \n",
       "75%                 124.25                43.00                30.00   \n",
       "max               2,693.00             3,069.00             9,033.00   \n",
       "\n",
       "                   retweet    tweets_in_dataset  \n",
       "count             2,292.00             2,292.00  \n",
       "mean                150.64               356.52  \n",
       "std                 585.08               833.76  \n",
       "min                   0.00                 1.00  \n",
       "25%                   8.00                32.00  \n",
       "50%                  39.00               122.00  \n",
       "75%                 129.00               375.00  \n",
       "max              21,524.00            21,547.00  "
      ]
     },
     "execution_count": 14,
     "metadata": {},
     "output_type": "execute_result"
    }
   ],
   "source": [
    "user_summary_df[['followers_count', 'following_count', 'tweet_count', 'original', 'quote', 'reply', 'retweet', 'tweets_in_dataset']].describe()"
   ]
  },
  {
   "cell_type": "markdown",
   "metadata": {},
   "source": [
    "#### Female"
   ]
  },
  {
   "cell_type": "code",
   "execution_count": 15,
   "metadata": {},
   "outputs": [
    {
     "data": {
      "text/html": [
       "<div>\n",
       "<table border=\"1\" class=\"dataframe\">\n",
       "  <thead>\n",
       "    <tr style=\"text-align: right;\">\n",
       "      <th></th>\n",
       "      <th>followers_count</th>\n",
       "      <th>following_count</th>\n",
       "      <th>tweet_count</th>\n",
       "      <th>original</th>\n",
       "      <th>quote</th>\n",
       "      <th>reply</th>\n",
       "      <th>retweet</th>\n",
       "      <th>tweets_in_dataset</th>\n",
       "    </tr>\n",
       "  </thead>\n",
       "  <tbody>\n",
       "    <tr>\n",
       "      <th>count</th>\n",
       "      <td>993.00</td>\n",
       "      <td>993.00</td>\n",
       "      <td>993.00</td>\n",
       "      <td>993.00</td>\n",
       "      <td>993.00</td>\n",
       "      <td>993.00</td>\n",
       "      <td>993.00</td>\n",
       "      <td>993.00</td>\n",
       "    </tr>\n",
       "    <tr>\n",
       "      <th>mean</th>\n",
       "      <td>11,609.53</td>\n",
       "      <td>1,314.07</td>\n",
       "      <td>7,498.74</td>\n",
       "      <td>83.84</td>\n",
       "      <td>39.27</td>\n",
       "      <td>32.06</td>\n",
       "      <td>135.55</td>\n",
       "      <td>290.72</td>\n",
       "    </tr>\n",
       "    <tr>\n",
       "      <th>std</th>\n",
       "      <td>65,563.72</td>\n",
       "      <td>1,250.56</td>\n",
       "      <td>11,312.72</td>\n",
       "      <td>124.86</td>\n",
       "      <td>135.05</td>\n",
       "      <td>94.73</td>\n",
       "      <td>724.92</td>\n",
       "      <td>833.07</td>\n",
       "    </tr>\n",
       "    <tr>\n",
       "      <th>min</th>\n",
       "      <td>6.00</td>\n",
       "      <td>1.00</td>\n",
       "      <td>1.00</td>\n",
       "      <td>0.00</td>\n",
       "      <td>0.00</td>\n",
       "      <td>0.00</td>\n",
       "      <td>0.00</td>\n",
       "      <td>1.00</td>\n",
       "    </tr>\n",
       "    <tr>\n",
       "      <th>25%</th>\n",
       "      <td>825.00</td>\n",
       "      <td>567.00</td>\n",
       "      <td>1,393.00</td>\n",
       "      <td>8.00</td>\n",
       "      <td>1.00</td>\n",
       "      <td>1.00</td>\n",
       "      <td>9.00</td>\n",
       "      <td>32.00</td>\n",
       "    </tr>\n",
       "    <tr>\n",
       "      <th>50%</th>\n",
       "      <td>2,327.00</td>\n",
       "      <td>1,034.00</td>\n",
       "      <td>4,055.00</td>\n",
       "      <td>39.00</td>\n",
       "      <td>9.00</td>\n",
       "      <td>4.00</td>\n",
       "      <td>37.00</td>\n",
       "      <td>111.00</td>\n",
       "    </tr>\n",
       "    <tr>\n",
       "      <th>75%</th>\n",
       "      <td>6,340.00</td>\n",
       "      <td>1,659.00</td>\n",
       "      <td>8,983.00</td>\n",
       "      <td>111.00</td>\n",
       "      <td>33.00</td>\n",
       "      <td>21.00</td>\n",
       "      <td>115.00</td>\n",
       "      <td>314.00</td>\n",
       "    </tr>\n",
       "    <tr>\n",
       "      <th>max</th>\n",
       "      <td>1,388,543.00</td>\n",
       "      <td>18,197.00</td>\n",
       "      <td>118,713.00</td>\n",
       "      <td>1,440.00</td>\n",
       "      <td>3,069.00</td>\n",
       "      <td>1,458.00</td>\n",
       "      <td>21,524.00</td>\n",
       "      <td>21,547.00</td>\n",
       "    </tr>\n",
       "  </tbody>\n",
       "</table>\n",
       "</div>"
      ],
      "text/plain": [
       "           followers_count      following_count          tweet_count  \\\n",
       "count               993.00               993.00               993.00   \n",
       "mean             11,609.53             1,314.07             7,498.74   \n",
       "std              65,563.72             1,250.56            11,312.72   \n",
       "min                   6.00                 1.00                 1.00   \n",
       "25%                 825.00               567.00             1,393.00   \n",
       "50%               2,327.00             1,034.00             4,055.00   \n",
       "75%               6,340.00             1,659.00             8,983.00   \n",
       "max           1,388,543.00            18,197.00           118,713.00   \n",
       "\n",
       "                  original                quote                reply  \\\n",
       "count               993.00               993.00               993.00   \n",
       "mean                 83.84                39.27                32.06   \n",
       "std                 124.86               135.05                94.73   \n",
       "min                   0.00                 0.00                 0.00   \n",
       "25%                   8.00                 1.00                 1.00   \n",
       "50%                  39.00                 9.00                 4.00   \n",
       "75%                 111.00                33.00                21.00   \n",
       "max               1,440.00             3,069.00             1,458.00   \n",
       "\n",
       "                   retweet    tweets_in_dataset  \n",
       "count               993.00               993.00  \n",
       "mean                135.55               290.72  \n",
       "std                 724.92               833.07  \n",
       "min                   0.00                 1.00  \n",
       "25%                   9.00                32.00  \n",
       "50%                  37.00               111.00  \n",
       "75%                 115.00               314.00  \n",
       "max              21,524.00            21,547.00  "
      ]
     },
     "execution_count": 15,
     "metadata": {},
     "output_type": "execute_result"
    }
   ],
   "source": [
    "user_summary_df[user_summary_df.gender == 'F'][['followers_count', 'following_count', 'tweet_count', 'original', 'quote', 'reply', 'retweet', 'tweets_in_dataset']].describe()"
   ]
  },
  {
   "cell_type": "markdown",
   "metadata": {},
   "source": [
    "#### Male"
   ]
  },
  {
   "cell_type": "code",
   "execution_count": 16,
   "metadata": {},
   "outputs": [
    {
     "data": {
      "text/html": [
       "<div>\n",
       "<table border=\"1\" class=\"dataframe\">\n",
       "  <thead>\n",
       "    <tr style=\"text-align: right;\">\n",
       "      <th></th>\n",
       "      <th>followers_count</th>\n",
       "      <th>following_count</th>\n",
       "      <th>tweet_count</th>\n",
       "      <th>original</th>\n",
       "      <th>quote</th>\n",
       "      <th>reply</th>\n",
       "      <th>retweet</th>\n",
       "      <th>tweets_in_dataset</th>\n",
       "    </tr>\n",
       "  </thead>\n",
       "  <tbody>\n",
       "    <tr>\n",
       "      <th>count</th>\n",
       "      <td>1,299.00</td>\n",
       "      <td>1,299.00</td>\n",
       "      <td>1,299.00</td>\n",
       "      <td>1,299.00</td>\n",
       "      <td>1,299.00</td>\n",
       "      <td>1,299.00</td>\n",
       "      <td>1,299.00</td>\n",
       "      <td>1,299.00</td>\n",
       "    </tr>\n",
       "    <tr>\n",
       "      <th>mean</th>\n",
       "      <td>20,181.31</td>\n",
       "      <td>1,544.78</td>\n",
       "      <td>11,241.02</td>\n",
       "      <td>115.99</td>\n",
       "      <td>55.96</td>\n",
       "      <td>72.69</td>\n",
       "      <td>162.17</td>\n",
       "      <td>406.81</td>\n",
       "    </tr>\n",
       "    <tr>\n",
       "      <th>std</th>\n",
       "      <td>107,635.37</td>\n",
       "      <td>3,833.89</td>\n",
       "      <td>19,584.46</td>\n",
       "      <td>195.72</td>\n",
       "      <td>136.16</td>\n",
       "      <td>319.41</td>\n",
       "      <td>449.75</td>\n",
       "      <td>831.10</td>\n",
       "    </tr>\n",
       "    <tr>\n",
       "      <th>min</th>\n",
       "      <td>10.00</td>\n",
       "      <td>0.00</td>\n",
       "      <td>5.00</td>\n",
       "      <td>0.00</td>\n",
       "      <td>0.00</td>\n",
       "      <td>0.00</td>\n",
       "      <td>0.00</td>\n",
       "      <td>1.00</td>\n",
       "    </tr>\n",
       "    <tr>\n",
       "      <th>25%</th>\n",
       "      <td>857.50</td>\n",
       "      <td>472.00</td>\n",
       "      <td>1,477.00</td>\n",
       "      <td>12.00</td>\n",
       "      <td>0.00</td>\n",
       "      <td>1.00</td>\n",
       "      <td>6.00</td>\n",
       "      <td>33.00</td>\n",
       "    </tr>\n",
       "    <tr>\n",
       "      <th>50%</th>\n",
       "      <td>2,498.00</td>\n",
       "      <td>953.00</td>\n",
       "      <td>4,401.00</td>\n",
       "      <td>44.00</td>\n",
       "      <td>9.00</td>\n",
       "      <td>6.00</td>\n",
       "      <td>40.00</td>\n",
       "      <td>131.00</td>\n",
       "    </tr>\n",
       "    <tr>\n",
       "      <th>75%</th>\n",
       "      <td>8,341.50</td>\n",
       "      <td>1,763.00</td>\n",
       "      <td>12,584.50</td>\n",
       "      <td>140.00</td>\n",
       "      <td>50.50</td>\n",
       "      <td>38.50</td>\n",
       "      <td>142.00</td>\n",
       "      <td>428.00</td>\n",
       "    </tr>\n",
       "    <tr>\n",
       "      <th>max</th>\n",
       "      <td>2,176,578.00</td>\n",
       "      <td>96,194.00</td>\n",
       "      <td>208,763.00</td>\n",
       "      <td>2,693.00</td>\n",
       "      <td>1,955.00</td>\n",
       "      <td>9,033.00</td>\n",
       "      <td>7,528.00</td>\n",
       "      <td>11,432.00</td>\n",
       "    </tr>\n",
       "  </tbody>\n",
       "</table>\n",
       "</div>"
      ],
      "text/plain": [
       "           followers_count      following_count          tweet_count  \\\n",
       "count             1,299.00             1,299.00             1,299.00   \n",
       "mean             20,181.31             1,544.78            11,241.02   \n",
       "std             107,635.37             3,833.89            19,584.46   \n",
       "min                  10.00                 0.00                 5.00   \n",
       "25%                 857.50               472.00             1,477.00   \n",
       "50%               2,498.00               953.00             4,401.00   \n",
       "75%               8,341.50             1,763.00            12,584.50   \n",
       "max           2,176,578.00            96,194.00           208,763.00   \n",
       "\n",
       "                  original                quote                reply  \\\n",
       "count             1,299.00             1,299.00             1,299.00   \n",
       "mean                115.99                55.96                72.69   \n",
       "std                 195.72               136.16               319.41   \n",
       "min                   0.00                 0.00                 0.00   \n",
       "25%                  12.00                 0.00                 1.00   \n",
       "50%                  44.00                 9.00                 6.00   \n",
       "75%                 140.00                50.50                38.50   \n",
       "max               2,693.00             1,955.00             9,033.00   \n",
       "\n",
       "                   retweet    tweets_in_dataset  \n",
       "count             1,299.00             1,299.00  \n",
       "mean                162.17               406.81  \n",
       "std                 449.75               831.10  \n",
       "min                   0.00                 1.00  \n",
       "25%                   6.00                33.00  \n",
       "50%                  40.00               131.00  \n",
       "75%                 142.00               428.00  \n",
       "max               7,528.00            11,432.00  "
      ]
     },
     "execution_count": 16,
     "metadata": {},
     "output_type": "execute_result"
    }
   ],
   "source": [
    "user_summary_df[user_summary_df.gender == 'M'][['followers_count', 'following_count', 'tweet_count', 'original', 'quote', 'reply', 'retweet', 'tweets_in_dataset']].describe()"
   ]
  },
  {
   "cell_type": "markdown",
   "metadata": {},
   "source": [
    "### Verified"
   ]
  },
  {
   "cell_type": "markdown",
   "metadata": {},
   "source": [
    "#### All"
   ]
  },
  {
   "cell_type": "code",
   "execution_count": 17,
   "metadata": {},
   "outputs": [
    {
     "data": {
      "text/html": [
       "<div>\n",
       "<table border=\"1\" class=\"dataframe\">\n",
       "  <thead>\n",
       "    <tr style=\"text-align: right;\">\n",
       "      <th></th>\n",
       "      <th>count</th>\n",
       "      <th>percentage</th>\n",
       "    </tr>\n",
       "  </thead>\n",
       "  <tbody>\n",
       "    <tr>\n",
       "      <th>True</th>\n",
       "      <td>1240</td>\n",
       "      <td>54.1%</td>\n",
       "    </tr>\n",
       "    <tr>\n",
       "      <th>False</th>\n",
       "      <td>1052</td>\n",
       "      <td>45.9%</td>\n",
       "    </tr>\n",
       "  </tbody>\n",
       "</table>\n",
       "</div>"
      ],
      "text/plain": [
       "       count percentage\n",
       "True    1240      54.1%\n",
       "False   1052      45.9%"
      ]
     },
     "execution_count": 17,
     "metadata": {},
     "output_type": "execute_result"
    }
   ],
   "source": [
    "pd.DataFrame({'count':user_summary_df.verified.value_counts(), 'percentage':user_summary_df.verified.value_counts(normalize=True).mul(100).round(1).astype(str) + '%'})"
   ]
  },
  {
   "cell_type": "markdown",
   "metadata": {},
   "source": [
    "#### Female"
   ]
  },
  {
   "cell_type": "code",
   "execution_count": 18,
   "metadata": {},
   "outputs": [
    {
     "data": {
      "text/html": [
       "<div>\n",
       "<table border=\"1\" class=\"dataframe\">\n",
       "  <thead>\n",
       "    <tr style=\"text-align: right;\">\n",
       "      <th></th>\n",
       "      <th>count</th>\n",
       "      <th>percentage</th>\n",
       "    </tr>\n",
       "  </thead>\n",
       "  <tbody>\n",
       "    <tr>\n",
       "      <th>True</th>\n",
       "      <td>512</td>\n",
       "      <td>51.6%</td>\n",
       "    </tr>\n",
       "    <tr>\n",
       "      <th>False</th>\n",
       "      <td>481</td>\n",
       "      <td>48.4%</td>\n",
       "    </tr>\n",
       "  </tbody>\n",
       "</table>\n",
       "</div>"
      ],
      "text/plain": [
       "       count percentage\n",
       "True     512      51.6%\n",
       "False    481      48.4%"
      ]
     },
     "execution_count": 18,
     "metadata": {},
     "output_type": "execute_result"
    }
   ],
   "source": [
    "pd.DataFrame({'count':user_summary_df[user_summary_df.gender == 'F'].verified.value_counts(), 'percentage':user_summary_df[user_summary_df.gender == 'F'].verified.value_counts(normalize=True).mul(100).round(1).astype(str) + '%'})"
   ]
  },
  {
   "cell_type": "markdown",
   "metadata": {},
   "source": [
    "#### Male"
   ]
  },
  {
   "cell_type": "code",
   "execution_count": 19,
   "metadata": {},
   "outputs": [
    {
     "data": {
      "text/html": [
       "<div>\n",
       "<table border=\"1\" class=\"dataframe\">\n",
       "  <thead>\n",
       "    <tr style=\"text-align: right;\">\n",
       "      <th></th>\n",
       "      <th>count</th>\n",
       "      <th>percentage</th>\n",
       "    </tr>\n",
       "  </thead>\n",
       "  <tbody>\n",
       "    <tr>\n",
       "      <th>True</th>\n",
       "      <td>728</td>\n",
       "      <td>56.0%</td>\n",
       "    </tr>\n",
       "    <tr>\n",
       "      <th>False</th>\n",
       "      <td>571</td>\n",
       "      <td>44.0%</td>\n",
       "    </tr>\n",
       "  </tbody>\n",
       "</table>\n",
       "</div>"
      ],
      "text/plain": [
       "       count percentage\n",
       "True     728      56.0%\n",
       "False    571      44.0%"
      ]
     },
     "execution_count": 19,
     "metadata": {},
     "output_type": "execute_result"
    }
   ],
   "source": [
    "pd.DataFrame({'count':user_summary_df[user_summary_df.gender == 'M'].verified.value_counts(), 'percentage':user_summary_df[user_summary_df.gender == 'M'].verified.value_counts(normalize=True).mul(100).round(1).astype(str) + '%'})"
   ]
  },
  {
   "cell_type": "markdown",
   "metadata": {},
   "source": [
    "## Mention data prep"
   ]
  },
  {
   "cell_type": "markdown",
   "metadata": {},
   "source": [
    "### Load mentions from tweets\n",
    "Including original tweets only"
   ]
  },
  {
   "cell_type": "code",
   "execution_count": 20,
   "metadata": {},
   "outputs": [
    {
     "name": "stderr",
     "output_type": "stream",
     "text": [
      "INFO:root:Loading from tweets/41feff28312c433ab004cd822212f4c2_001.json.gz\n",
      "DEBUG:root:Loaded 50000\n",
      "DEBUG:root:Loaded 100000\n",
      "DEBUG:root:Loaded 150000\n",
      "DEBUG:root:Loaded 200000\n",
      "DEBUG:root:Loaded 250000\n",
      "DEBUG:root:Loaded 300000\n",
      "INFO:root:Loading from tweets/642bf140607547cb9d4c6b1fc49772aa_001.json.gz\n",
      "DEBUG:root:Loaded 350000\n",
      "DEBUG:root:Loaded 400000\n",
      "DEBUG:root:Loaded 450000\n",
      "DEBUG:root:Loaded 500000\n",
      "DEBUG:root:Loaded 550000\n",
      "INFO:root:Loading from tweets/9f7ed17c16a1494c8690b4053609539d_001.json.gz\n",
      "DEBUG:root:Loaded 600000\n",
      "DEBUG:root:Loaded 650000\n",
      "DEBUG:root:Loaded 700000\n",
      "DEBUG:root:Loaded 750000\n",
      "DEBUG:root:Loaded 800000\n"
     ]
    },
    {
     "data": {
      "text/plain": [
       "tweet_id               118210\n",
       "user_id                118210\n",
       "screen_name            118210\n",
       "mention_user_id        118210\n",
       "mention_screen_name    118210\n",
       "tweet_created_at       118210\n",
       "dtype: int64"
      ]
     },
     "execution_count": 20,
     "metadata": {},
     "output_type": "execute_result"
    }
   ],
   "source": [
    "%matplotlib inline\n",
    "import pandas as pd\n",
    "import numpy as np\n",
    "import logging\n",
    "from dateutil.parser import parse as date_parse\n",
    "from utils import load_tweet_df, tweet_type\n",
    "import matplotlib.pyplot as plt\n",
    "\n",
    "\n",
    "logger = logging.getLogger()\n",
    "logger.setLevel(logging.DEBUG)\n",
    "\n",
    "# Set float format so doesn't display scientific notation\n",
    "pd.options.display.float_format = '{:20,.2f}'.format\n",
    "\n",
    "# Simply the tweet on load\n",
    "def mention_transform(tweet):\n",
    "    mentions = []\n",
    "    if tweet_type(tweet) == 'original':\n",
    "        for mention in tweet.get('entities', {}).get('user_mentions', []):\n",
    "            mentions.append({\n",
    "                'tweet_id': tweet['id_str'],\n",
    "                'user_id': tweet['user']['id_str'],\n",
    "                'screen_name': tweet['user']['screen_name'],\n",
    "                'mention_user_id': mention['id_str'],\n",
    "                'mention_screen_name': mention['screen_name'],\n",
    "                'tweet_created_at': date_parse(tweet['created_at'])\n",
    "            })\n",
    "    return mentions\n",
    "\n",
    "mention_df = load_tweet_df(mention_transform, ['tweet_id', 'user_id', 'screen_name', 'mention_user_id',\n",
    "                                           'mention_screen_name', 'tweet_created_at'], \n",
    "                           dedupe_columns=['tweet_id', 'mention_user_id'])\n",
    "mention_df.count()"
   ]
  },
  {
   "cell_type": "code",
   "execution_count": 21,
   "metadata": {},
   "outputs": [
    {
     "data": {
      "text/html": [
       "<div>\n",
       "<table border=\"1\" class=\"dataframe\">\n",
       "  <thead>\n",
       "    <tr style=\"text-align: right;\">\n",
       "      <th></th>\n",
       "      <th>tweet_id</th>\n",
       "      <th>user_id</th>\n",
       "      <th>screen_name</th>\n",
       "      <th>mention_user_id</th>\n",
       "      <th>mention_screen_name</th>\n",
       "      <th>tweet_created_at</th>\n",
       "    </tr>\n",
       "  </thead>\n",
       "  <tbody>\n",
       "    <tr>\n",
       "      <th>0</th>\n",
       "      <td>874695069584027648</td>\n",
       "      <td>15731368</td>\n",
       "      <td>HowardKurtz</td>\n",
       "      <td>110445334</td>\n",
       "      <td>megynkelly</td>\n",
       "      <td>2017-06-13 18:28:50+00:00</td>\n",
       "    </tr>\n",
       "    <tr>\n",
       "      <th>1</th>\n",
       "      <td>874695069584027648</td>\n",
       "      <td>15731368</td>\n",
       "      <td>HowardKurtz</td>\n",
       "      <td>171154131</td>\n",
       "      <td>HappeningNow</td>\n",
       "      <td>2017-06-13 18:28:50+00:00</td>\n",
       "    </tr>\n",
       "    <tr>\n",
       "      <th>2</th>\n",
       "      <td>874652287809064960</td>\n",
       "      <td>15731368</td>\n",
       "      <td>HowardKurtz</td>\n",
       "      <td>110445334</td>\n",
       "      <td>megynkelly</td>\n",
       "      <td>2017-06-13 15:38:50+00:00</td>\n",
       "    </tr>\n",
       "    <tr>\n",
       "      <th>3</th>\n",
       "      <td>874281339150884864</td>\n",
       "      <td>15731368</td>\n",
       "      <td>HowardKurtz</td>\n",
       "      <td>486907980</td>\n",
       "      <td>CarleyShimkus</td>\n",
       "      <td>2017-06-12 15:04:49+00:00</td>\n",
       "    </tr>\n",
       "    <tr>\n",
       "      <th>4</th>\n",
       "      <td>874265555552882688</td>\n",
       "      <td>15731368</td>\n",
       "      <td>HowardKurtz</td>\n",
       "      <td>2263438704</td>\n",
       "      <td>GillianHTurner</td>\n",
       "      <td>2017-06-12 14:02:06+00:00</td>\n",
       "    </tr>\n",
       "  </tbody>\n",
       "</table>\n",
       "</div>"
      ],
      "text/plain": [
       "             tweet_id   user_id  screen_name mention_user_id  \\\n",
       "0  874695069584027648  15731368  HowardKurtz       110445334   \n",
       "1  874695069584027648  15731368  HowardKurtz       171154131   \n",
       "2  874652287809064960  15731368  HowardKurtz       110445334   \n",
       "3  874281339150884864  15731368  HowardKurtz       486907980   \n",
       "4  874265555552882688  15731368  HowardKurtz      2263438704   \n",
       "\n",
       "  mention_screen_name          tweet_created_at  \n",
       "0          megynkelly 2017-06-13 18:28:50+00:00  \n",
       "1        HappeningNow 2017-06-13 18:28:50+00:00  \n",
       "2          megynkelly 2017-06-13 15:38:50+00:00  \n",
       "3       CarleyShimkus 2017-06-12 15:04:49+00:00  \n",
       "4      GillianHTurner 2017-06-12 14:02:06+00:00  "
      ]
     },
     "execution_count": 21,
     "metadata": {},
     "output_type": "execute_result"
    }
   ],
   "source": [
    "mention_df.head()"
   ]
  },
  {
   "cell_type": "markdown",
   "metadata": {},
   "source": [
    "### Distinct tweets"
   ]
  },
  {
   "cell_type": "code",
   "execution_count": 22,
   "metadata": {},
   "outputs": [
    {
     "data": {
      "text/plain": [
       "84942"
      ]
     },
     "execution_count": 22,
     "metadata": {},
     "output_type": "execute_result"
    }
   ],
   "source": [
    "mention_df['tweet_id'].unique().size"
   ]
  },
  {
   "cell_type": "markdown",
   "metadata": {},
   "source": [
    "## Mentioned analysis\n",
    "That is, who is mentioned not who is mentioning.\n",
    "\n",
    "*Note that for each of these, the complete list is being written to CSV in the output directory.*"
   ]
  },
  {
   "cell_type": "markdown",
   "metadata": {},
   "source": [
    "### All\n",
    "This is based on screen name, which could have changed during collection period. However, for the users that would be at the top of this list, seems unlikely."
   ]
  },
  {
   "cell_type": "code",
   "execution_count": 23,
   "metadata": {},
   "outputs": [
    {
     "data": {
      "text/plain": [
       "realDonaldTrump    2876\n",
       "POTUS              2265\n",
       "wusa9              2111\n",
       "AP                 1948\n",
       "USATODAY           1235\n",
       "nbcwashington      1230\n",
       "WSJ                1227\n",
       "dcexaminer         1034\n",
       "SHSanders45         927\n",
       "nytimes             829\n",
       "BloombergBNA        759\n",
       "politico            747\n",
       "SpeakerRyan         700\n",
       "Scaramucci          657\n",
       "PressSec            654\n",
       "CNN                 628\n",
       "ABC7News            604\n",
       "SenJohnMcCain       599\n",
       "WTOP                529\n",
       "BloombergLaw        517\n",
       "VP                  506\n",
       "SteveScalise        505\n",
       "MSNBC               486\n",
       "Reuters             483\n",
       "bpolitics           432\n",
       "Name: mention_screen_name, dtype: int64"
      ]
     },
     "execution_count": 23,
     "metadata": {},
     "output_type": "execute_result"
    }
   ],
   "source": [
    "all_mentioned_df = mention_df.mention_screen_name.value_counts()\n",
    "all_mentioned_df.to_csv('output/all_mentioned.csv')\n",
    "all_mentioned_df.head(25)"
   ]
  },
  {
   "cell_type": "markdown",
   "metadata": {},
   "source": [
    "### Beltway journalists"
   ]
  },
  {
   "cell_type": "code",
   "execution_count": 24,
   "metadata": {},
   "outputs": [
    {
     "data": {
      "text/plain": [
       "tweet_id               14298\n",
       "user_id                14298\n",
       "screen_name            14298\n",
       "mention_user_id        14298\n",
       "mention_screen_name    14298\n",
       "tweet_created_at       14298\n",
       "gender                 14298\n",
       "dtype: int64"
      ]
     },
     "execution_count": 24,
     "metadata": {},
     "output_type": "execute_result"
    }
   ],
   "source": [
    "journalists_mention_df = mention_df.join(user_summary_df['gender'], how='inner', on='mention_user_id')\n",
    "journalists_mention_df.count()"
   ]
  },
  {
   "cell_type": "code",
   "execution_count": 25,
   "metadata": {},
   "outputs": [
    {
     "data": {
      "text/html": [
       "<div>\n",
       "<table border=\"1\" class=\"dataframe\">\n",
       "  <thead>\n",
       "    <tr style=\"text-align: right;\">\n",
       "      <th></th>\n",
       "      <th>tweet_id</th>\n",
       "      <th>user_id</th>\n",
       "      <th>screen_name</th>\n",
       "      <th>mention_user_id</th>\n",
       "      <th>mention_screen_name</th>\n",
       "      <th>tweet_created_at</th>\n",
       "      <th>gender</th>\n",
       "    </tr>\n",
       "  </thead>\n",
       "  <tbody>\n",
       "    <tr>\n",
       "      <th>9</th>\n",
       "      <td>873955901484486656</td>\n",
       "      <td>15731368</td>\n",
       "      <td>HowardKurtz</td>\n",
       "      <td>16157855</td>\n",
       "      <td>edhenry</td>\n",
       "      <td>2017-06-11 17:31:38+00:00</td>\n",
       "      <td>M</td>\n",
       "    </tr>\n",
       "    <tr>\n",
       "      <th>14</th>\n",
       "      <td>873877145117962241</td>\n",
       "      <td>15731368</td>\n",
       "      <td>HowardKurtz</td>\n",
       "      <td>16157855</td>\n",
       "      <td>edhenry</td>\n",
       "      <td>2017-06-11 12:18:41+00:00</td>\n",
       "      <td>M</td>\n",
       "    </tr>\n",
       "    <tr>\n",
       "      <th>6414</th>\n",
       "      <td>874439120344535041</td>\n",
       "      <td>19455864</td>\n",
       "      <td>finnygo</td>\n",
       "      <td>16157855</td>\n",
       "      <td>edhenry</td>\n",
       "      <td>2017-06-13 01:31:47+00:00</td>\n",
       "      <td>M</td>\n",
       "    </tr>\n",
       "    <tr>\n",
       "      <th>23175</th>\n",
       "      <td>879021641141022720</td>\n",
       "      <td>15731368</td>\n",
       "      <td>HowardKurtz</td>\n",
       "      <td>16157855</td>\n",
       "      <td>edhenry</td>\n",
       "      <td>2017-06-25 17:01:05+00:00</td>\n",
       "      <td>M</td>\n",
       "    </tr>\n",
       "    <tr>\n",
       "      <th>23178</th>\n",
       "      <td>878956408657633280</td>\n",
       "      <td>15731368</td>\n",
       "      <td>HowardKurtz</td>\n",
       "      <td>16157855</td>\n",
       "      <td>edhenry</td>\n",
       "      <td>2017-06-25 12:41:52+00:00</td>\n",
       "      <td>M</td>\n",
       "    </tr>\n",
       "  </tbody>\n",
       "</table>\n",
       "</div>"
      ],
      "text/plain": [
       "                 tweet_id   user_id  screen_name mention_user_id  \\\n",
       "9      873955901484486656  15731368  HowardKurtz        16157855   \n",
       "14     873877145117962241  15731368  HowardKurtz        16157855   \n",
       "6414   874439120344535041  19455864      finnygo        16157855   \n",
       "23175  879021641141022720  15731368  HowardKurtz        16157855   \n",
       "23178  878956408657633280  15731368  HowardKurtz        16157855   \n",
       "\n",
       "      mention_screen_name          tweet_created_at gender  \n",
       "9                 edhenry 2017-06-11 17:31:38+00:00      M  \n",
       "14                edhenry 2017-06-11 12:18:41+00:00      M  \n",
       "6414              edhenry 2017-06-13 01:31:47+00:00      M  \n",
       "23175             edhenry 2017-06-25 17:01:05+00:00      M  \n",
       "23178             edhenry 2017-06-25 12:41:52+00:00      M  "
      ]
     },
     "execution_count": 25,
     "metadata": {},
     "output_type": "execute_result"
    }
   ],
   "source": [
    "journalists_mention_df.head()"
   ]
  },
  {
   "cell_type": "markdown",
   "metadata": {},
   "source": [
    "#### All beltway journalists"
   ]
  },
  {
   "cell_type": "code",
   "execution_count": 26,
   "metadata": {},
   "outputs": [
    {
     "data": {
      "text/plain": [
       "AllysonRaeWx       330\n",
       "TenaciousTopper    239\n",
       "hbwx               235\n",
       "burgessev          212\n",
       "jenhab             200\n",
       "seungminkim        143\n",
       "jaketapper         127\n",
       "WaPoSean           117\n",
       "pkcapitol          116\n",
       "DanaBashCNN        115\n",
       "kelsey_snell       109\n",
       "peterbakernyt      107\n",
       "daveweigel         106\n",
       "StevenTDennis      105\n",
       "jonkarl            104\n",
       "AshleyRParker      100\n",
       "reporterjoe         98\n",
       "mkraju              95\n",
       "ZoeTillman          87\n",
       "edatpost            84\n",
       "HopeSeck            83\n",
       "HardballChris       80\n",
       "GlennThrush         78\n",
       "jameshohmann        78\n",
       "BresPolitico        78\n",
       "Name: mention_screen_name, dtype: int64"
      ]
     },
     "execution_count": 26,
     "metadata": {},
     "output_type": "execute_result"
    }
   ],
   "source": [
    "all_journalists_mentioned_df = journalists_mention_df.mention_screen_name.value_counts()\n",
    "all_journalists_mentioned_df.to_csv('output/all_journalists_mentioned.csv')\n",
    "all_journalists_mentioned_df.head(25)"
   ]
  },
  {
   "cell_type": "code",
   "execution_count": 27,
   "metadata": {},
   "outputs": [
    {
     "data": {
      "text/html": [
       "<div>\n",
       "<table border=\"1\" class=\"dataframe\">\n",
       "  <thead>\n",
       "    <tr style=\"text-align: right;\">\n",
       "      <th></th>\n",
       "      <th>count</th>\n",
       "      <th>percentage</th>\n",
       "    </tr>\n",
       "  </thead>\n",
       "  <tbody>\n",
       "    <tr>\n",
       "      <th>M</th>\n",
       "      <td>8298</td>\n",
       "      <td>58.0%</td>\n",
       "    </tr>\n",
       "    <tr>\n",
       "      <th>F</th>\n",
       "      <td>6000</td>\n",
       "      <td>42.0%</td>\n",
       "    </tr>\n",
       "  </tbody>\n",
       "</table>\n",
       "</div>"
      ],
      "text/plain": [
       "   count percentage\n",
       "M   8298      58.0%\n",
       "F   6000      42.0%"
      ]
     },
     "execution_count": 27,
     "metadata": {},
     "output_type": "execute_result"
    }
   ],
   "source": [
    "pd.DataFrame({'count':journalists_mention_df.gender.value_counts(), 'percentage':journalists_mention_df.gender.value_counts(normalize=True).mul(100).round(1).astype(str) + '%'})"
   ]
  },
  {
   "cell_type": "markdown",
   "metadata": {},
   "source": [
    "#### Female beltway journalists"
   ]
  },
  {
   "cell_type": "code",
   "execution_count": 28,
   "metadata": {},
   "outputs": [
    {
     "data": {
      "text/plain": [
       "AllysonRaeWx     330\n",
       "jenhab           200\n",
       "seungminkim      143\n",
       "DanaBashCNN      115\n",
       "kelsey_snell     109\n",
       "AshleyRParker    100\n",
       "ZoeTillman        87\n",
       "HopeSeck          83\n",
       "jestei            76\n",
       "morningmika       70\n",
       "kasie             67\n",
       "eilperin          67\n",
       "mj_lee            67\n",
       "pw_cunningham     67\n",
       "FoxReports        65\n",
       "LauraLitvan       58\n",
       "margarettalev     58\n",
       "sarahkliff        57\n",
       "caitlinnowens     57\n",
       "rachaelmbade      56\n",
       "juliehdavis       55\n",
       "rachanadixit      55\n",
       "Oriana0214        55\n",
       "jpaceDC           52\n",
       "JudyWoodruff      49\n",
       "Name: mention_screen_name, dtype: int64"
      ]
     },
     "execution_count": 28,
     "metadata": {},
     "output_type": "execute_result"
    }
   ],
   "source": [
    "female_journalists_mentioned_df = journalists_mention_df[journalists_mention_df.gender == 'F'].mention_screen_name.value_counts()\n",
    "female_journalists_mentioned_df.to_csv('output/female_journalists_mentioned.csv')\n",
    "female_journalists_mentioned_df.head(25)"
   ]
  },
  {
   "cell_type": "markdown",
   "metadata": {},
   "source": [
    "#### Male beltway journalists"
   ]
  },
  {
   "cell_type": "code",
   "execution_count": 29,
   "metadata": {},
   "outputs": [
    {
     "data": {
      "text/plain": [
       "TenaciousTopper    239\n",
       "hbwx               235\n",
       "burgessev          212\n",
       "jaketapper         127\n",
       "WaPoSean           117\n",
       "pkcapitol          116\n",
       "peterbakernyt      107\n",
       "daveweigel         106\n",
       "StevenTDennis      105\n",
       "jonkarl            104\n",
       "reporterjoe         98\n",
       "mkraju              95\n",
       "edatpost            84\n",
       "HardballChris       80\n",
       "jameshohmann        78\n",
       "BresPolitico        78\n",
       "GlennThrush         78\n",
       "jmartNYT            75\n",
       "chrisgeidner        73\n",
       "kenvogel            67\n",
       "BretBaier           66\n",
       "Acosta              61\n",
       "pauldemko           60\n",
       "danbalz             57\n",
       "mikedebonis         56\n",
       "Name: mention_screen_name, dtype: int64"
      ]
     },
     "execution_count": 29,
     "metadata": {},
     "output_type": "execute_result"
    }
   ],
   "source": [
    "male_journalists_mentioned_df = journalists_mention_df[journalists_mention_df.gender == 'M'].mention_screen_name.value_counts()\n",
    "male_journalists_mentioned_df.to_csv('output/male_journalists_mentioned.csv')\n",
    "male_journalists_mentioned_df.head(25)"
   ]
  },
  {
   "cell_type": "code",
   "execution_count": null,
   "metadata": {
    "collapsed": true
   },
   "outputs": [],
   "source": []
  }
 ],
 "metadata": {
  "kernelspec": {
   "display_name": "Python 3",
   "language": "python",
   "name": "python3"
  },
  "language_info": {
   "codemirror_mode": {
    "name": "ipython",
    "version": 3
   },
   "file_extension": ".py",
   "mimetype": "text/x-python",
   "name": "python",
   "nbconvert_exporter": "python",
   "pygments_lexer": "ipython3",
   "version": "3.6.0"
  }
 },
 "nbformat": 4,
 "nbformat_minor": 2
}
