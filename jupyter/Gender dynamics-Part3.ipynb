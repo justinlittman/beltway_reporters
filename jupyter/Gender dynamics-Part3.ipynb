{
 "cells": [
  {
   "cell_type": "markdown",
   "metadata": {
    "toc": "true"
   },
   "source": [
    "<h1>Table of Contents<span class=\"tocSkip\"></span></h1>\n",
    "<div class=\"toc\" style=\"margin-top: 1em;\"><ul class=\"toc-item\"><li><span><a href=\"#Gender-dynamics\" data-toc-modified-id=\"Gender-dynamics-1\"><span class=\"toc-item-num\">1&nbsp;&nbsp;</span>Gender dynamics</a></span><ul class=\"toc-item\"><li><span><a href=\"#Tweet-data-prep\" data-toc-modified-id=\"Tweet-data-prep-1.1\"><span class=\"toc-item-num\">1.1&nbsp;&nbsp;</span>Tweet data prep</a></span><ul class=\"toc-item\"><li><span><a href=\"#Load-the-tweets\" data-toc-modified-id=\"Load-the-tweets-1.1.1\"><span class=\"toc-item-num\">1.1.1&nbsp;&nbsp;</span>Load the tweets</a></span></li></ul></li><li><span><a href=\"#Tweeter-data-prep\" data-toc-modified-id=\"Tweeter-data-prep-1.2\"><span class=\"toc-item-num\">1.2&nbsp;&nbsp;</span>Tweeter data prep</a></span><ul class=\"toc-item\"><li><span><a href=\"#Prepare-the-tweeter-data\" data-toc-modified-id=\"Prepare-the-tweeter-data-1.2.1\"><span class=\"toc-item-num\">1.2.1&nbsp;&nbsp;</span>Prepare the tweeter data</a></span></li><li><span><a href=\"#Load-user-lookup\" data-toc-modified-id=\"Load-user-lookup-1.2.2\"><span class=\"toc-item-num\">1.2.2&nbsp;&nbsp;</span>Load user lookup</a></span></li><li><span><a href=\"#Load-user-info\" data-toc-modified-id=\"Load-user-info-1.2.3\"><span class=\"toc-item-num\">1.2.3&nbsp;&nbsp;</span>Load user info</a></span></li><li><span><a href=\"#Remove-users-with-no-tweets-in-dataset\" data-toc-modified-id=\"Remove-users-with-no-tweets-in-dataset-1.2.4\"><span class=\"toc-item-num\">1.2.4&nbsp;&nbsp;</span>Remove users with no tweets in dataset</a></span></li><li><span><a href=\"#Gender\" data-toc-modified-id=\"Gender-1.2.5\"><span class=\"toc-item-num\">1.2.5&nbsp;&nbsp;</span>Gender</a></span></li></ul></li><li><span><a href=\"#Hashtag-data-prep\" data-toc-modified-id=\"Hashtag-data-prep-1.3\"><span class=\"toc-item-num\">1.3&nbsp;&nbsp;</span>Hashtag data prep</a></span><ul class=\"toc-item\"><li><span><a href=\"#Load-hashtags-from-original-tweets\" data-toc-modified-id=\"Load-hashtags-from-original-tweets-1.3.1\"><span class=\"toc-item-num\">1.3.1&nbsp;&nbsp;</span>Load hashtags from original tweets</a></span></li><li><span><a href=\"#Add-gender\" data-toc-modified-id=\"Add-gender-1.3.2\"><span class=\"toc-item-num\">1.3.2&nbsp;&nbsp;</span>Add gender</a></span></li></ul></li><li><span><a href=\"#Analysis\" data-toc-modified-id=\"Analysis-1.4\"><span class=\"toc-item-num\">1.4&nbsp;&nbsp;</span>Analysis</a></span><ul class=\"toc-item\"><li><span><a href=\"#Top-hashtags\" data-toc-modified-id=\"Top-hashtags-1.4.1\"><span class=\"toc-item-num\">1.4.1&nbsp;&nbsp;</span>Top hashtags</a></span></li><li><span><a href=\"#Top-hashtags-for-female-journalists\" data-toc-modified-id=\"Top-hashtags-for-female-journalists-1.4.2\"><span class=\"toc-item-num\">1.4.2&nbsp;&nbsp;</span>Top hashtags for female journalists</a></span></li><li><span><a href=\"#Top-hashtags-for-male-journalists\" data-toc-modified-id=\"Top-hashtags-for-male-journalists-1.4.3\"><span class=\"toc-item-num\">1.4.3&nbsp;&nbsp;</span>Top hashtags for male journalists</a></span></li></ul></li></ul></li></ul></div>"
   ]
  },
  {
   "cell_type": "markdown",
   "metadata": {},
   "source": [
    "# Gender dynamics"
   ]
  },
  {
   "cell_type": "markdown",
   "metadata": {},
   "source": [
    "## Tweet data prep"
   ]
  },
  {
   "cell_type": "markdown",
   "metadata": {},
   "source": [
    "### Load the tweets"
   ]
  },
  {
   "cell_type": "code",
   "execution_count": 1,
   "metadata": {},
   "outputs": [
    {
     "name": "stderr",
     "output_type": "stream",
     "text": [
      "INFO:root:Loading from tweets/642bf140607547cb9d4c6b1fc49772aa_001.json.gz\n",
      "DEBUG:root:Loaded 50000\n",
      "DEBUG:root:Loaded 100000\n",
      "DEBUG:root:Loaded 150000\n",
      "DEBUG:root:Loaded 200000\n",
      "DEBUG:root:Loaded 250000\n",
      "INFO:root:Loading from tweets/9f7ed17c16a1494c8690b4053609539d_001.json.gz\n",
      "DEBUG:root:Loaded 300000\n",
      "DEBUG:root:Loaded 350000\n",
      "DEBUG:root:Loaded 400000\n",
      "DEBUG:root:Loaded 450000\n",
      "DEBUG:root:Loaded 500000\n",
      "INFO:root:Loading from tweets/41feff28312c433ab004cd822212f4c2_001.json.gz\n",
      "DEBUG:root:Loaded 550000\n",
      "DEBUG:root:Loaded 600000\n",
      "DEBUG:root:Loaded 650000\n",
      "DEBUG:root:Loaded 700000\n",
      "DEBUG:root:Loaded 750000\n",
      "DEBUG:root:Loaded 800000\n"
     ]
    },
    {
     "data": {
      "text/plain": [
       "tweet_id            817136\n",
       "user_id             817136\n",
       "screen_name         817136\n",
       "tweet_created_at    817136\n",
       "tweet_type          817136\n",
       "dtype: int64"
      ]
     },
     "execution_count": 1,
     "metadata": {},
     "output_type": "execute_result"
    }
   ],
   "source": [
    "%matplotlib inline\n",
    "import pandas as pd\n",
    "import numpy as np\n",
    "import logging\n",
    "from dateutil.parser import parse as date_parse\n",
    "from utils import load_tweet_df, tweet_type\n",
    "import matplotlib.pyplot as plt\n",
    "\n",
    "\n",
    "logger = logging.getLogger()\n",
    "logger.setLevel(logging.DEBUG)\n",
    "\n",
    "# Set float format so doesn't display scientific notation\n",
    "pd.options.display.float_format = '{:20,.2f}'.format\n",
    "\n",
    "def tweet_transform(tweet):\n",
    "    return {\n",
    "        'tweet_id': tweet['id_str'], \n",
    "        'tweet_created_at': date_parse(tweet['created_at']),\n",
    "        'user_id': tweet['user']['id_str'],\n",
    "        'screen_name': tweet['user']['screen_name'],\n",
    "        'tweet_type': tweet_type(tweet)\n",
    "    }\n",
    "\n",
    "tweet_df = load_tweet_df(tweet_transform, ['tweet_id', 'user_id', 'screen_name', 'tweet_created_at', 'tweet_type'], dedupe_columns=['tweet_id'])\n",
    "tweet_df.count()"
   ]
  },
  {
   "cell_type": "code",
   "execution_count": 2,
   "metadata": {},
   "outputs": [
    {
     "data": {
      "text/html": [
       "<div>\n",
       "<style scoped>\n",
       "    .dataframe tbody tr th:only-of-type {\n",
       "        vertical-align: middle;\n",
       "    }\n",
       "\n",
       "    .dataframe tbody tr th {\n",
       "        vertical-align: top;\n",
       "    }\n",
       "\n",
       "    .dataframe thead th {\n",
       "        text-align: right;\n",
       "    }\n",
       "</style>\n",
       "<table border=\"1\" class=\"dataframe\">\n",
       "  <thead>\n",
       "    <tr style=\"text-align: right;\">\n",
       "      <th></th>\n",
       "      <th>tweet_id</th>\n",
       "      <th>user_id</th>\n",
       "      <th>screen_name</th>\n",
       "      <th>tweet_created_at</th>\n",
       "      <th>tweet_type</th>\n",
       "    </tr>\n",
       "  </thead>\n",
       "  <tbody>\n",
       "    <tr>\n",
       "      <th>0</th>\n",
       "      <td>872631046088601600</td>\n",
       "      <td>327862439</td>\n",
       "      <td>jonathanvswan</td>\n",
       "      <td>2017-06-08 01:47:08+00:00</td>\n",
       "      <td>retweet</td>\n",
       "    </tr>\n",
       "    <tr>\n",
       "      <th>1</th>\n",
       "      <td>872610483647516673</td>\n",
       "      <td>327862439</td>\n",
       "      <td>jonathanvswan</td>\n",
       "      <td>2017-06-08 00:25:26+00:00</td>\n",
       "      <td>retweet</td>\n",
       "    </tr>\n",
       "    <tr>\n",
       "      <th>2</th>\n",
       "      <td>872609618626826240</td>\n",
       "      <td>327862439</td>\n",
       "      <td>jonathanvswan</td>\n",
       "      <td>2017-06-08 00:22:00+00:00</td>\n",
       "      <td>retweet</td>\n",
       "    </tr>\n",
       "    <tr>\n",
       "      <th>3</th>\n",
       "      <td>872605974699311104</td>\n",
       "      <td>327862439</td>\n",
       "      <td>jonathanvswan</td>\n",
       "      <td>2017-06-08 00:07:31+00:00</td>\n",
       "      <td>retweet</td>\n",
       "    </tr>\n",
       "    <tr>\n",
       "      <th>4</th>\n",
       "      <td>872603191518646276</td>\n",
       "      <td>327862439</td>\n",
       "      <td>jonathanvswan</td>\n",
       "      <td>2017-06-07 23:56:27+00:00</td>\n",
       "      <td>retweet</td>\n",
       "    </tr>\n",
       "  </tbody>\n",
       "</table>\n",
       "</div>"
      ],
      "text/plain": [
       "             tweet_id    user_id    screen_name          tweet_created_at  \\\n",
       "0  872631046088601600  327862439  jonathanvswan 2017-06-08 01:47:08+00:00   \n",
       "1  872610483647516673  327862439  jonathanvswan 2017-06-08 00:25:26+00:00   \n",
       "2  872609618626826240  327862439  jonathanvswan 2017-06-08 00:22:00+00:00   \n",
       "3  872605974699311104  327862439  jonathanvswan 2017-06-08 00:07:31+00:00   \n",
       "4  872603191518646276  327862439  jonathanvswan 2017-06-07 23:56:27+00:00   \n",
       "\n",
       "  tweet_type  \n",
       "0    retweet  \n",
       "1    retweet  \n",
       "2    retweet  \n",
       "3    retweet  \n",
       "4    retweet  "
      ]
     },
     "execution_count": 2,
     "metadata": {},
     "output_type": "execute_result"
    }
   ],
   "source": [
    "tweet_df.head()"
   ]
  },
  {
   "cell_type": "markdown",
   "metadata": {},
   "source": [
    "## Tweeter data prep"
   ]
  },
  {
   "cell_type": "markdown",
   "metadata": {},
   "source": [
    "### Prepare the tweeter data\n",
    "This comes from the following sources:\n",
    "1. User lookup: These are lists of users exported from SFM. These are the final set of beltway journalists. Accounts that were suspended or deleted have been removed from this list. Also, this list will include users that did not tweet (i.e., have no tweets in dataset).\n",
    "2. Tweets in the dataset: Used to generate tweet counts per tweeter. However, since some beltway journalists may not have tweeted, this may be a subset of the user lookup. Also, it may include the tweets of some users that were later excluded because their accounts were suspended or deleted or determined to not be beltway journalists.\n",
    "3. User info lookup: Information on users that was manually coded in the beltway journalist spreadsheet or looked up from Twitter's API. This includes some accounts that were excluded from data collection for various reasons such as working for a foreign news organization or no longer working as a beltway journalist. Thus, these are a superset of the user lookup.\n",
    "\n",
    "Thus, the tweeter data should include tweet and user info data only from users in the user lookup."
   ]
  },
  {
   "cell_type": "markdown",
   "metadata": {},
   "source": [
    "### Load user lookup"
   ]
  },
  {
   "cell_type": "code",
   "execution_count": 3,
   "metadata": {},
   "outputs": [
    {
     "data": {
      "text/plain": [
       "screen_name    2487\n",
       "dtype: int64"
      ]
     },
     "execution_count": 3,
     "metadata": {},
     "output_type": "execute_result"
    }
   ],
   "source": [
    "user_lookup_filepaths = ('lookups/senate_press_lookup.csv',\n",
    "                         'lookups/periodical_press_lookup.csv',\n",
    "                         'lookups/radio_and_television_lookup.csv')\n",
    "user_lookup_df = pd.concat((pd.read_csv(user_lookup_filepath, usecols=['Uid', 'Token'], dtype={'Uid': str}) for user_lookup_filepath in user_lookup_filepaths))\n",
    "user_lookup_df.set_index('Uid', inplace=True)\n",
    "user_lookup_df.rename(columns={'Token': 'screen_name'}, inplace=True)\n",
    "user_lookup_df.index.names = ['user_id']\n",
    "# Some users may be in multiple lists, so need to drop duplicates\n",
    "user_lookup_df = user_lookup_df[~user_lookup_df.index.duplicated()]\n",
    "\n",
    "user_lookup_df.count()"
   ]
  },
  {
   "cell_type": "code",
   "execution_count": 4,
   "metadata": {},
   "outputs": [
    {
     "data": {
      "text/html": [
       "<div>\n",
       "<style scoped>\n",
       "    .dataframe tbody tr th:only-of-type {\n",
       "        vertical-align: middle;\n",
       "    }\n",
       "\n",
       "    .dataframe tbody tr th {\n",
       "        vertical-align: top;\n",
       "    }\n",
       "\n",
       "    .dataframe thead th {\n",
       "        text-align: right;\n",
       "    }\n",
       "</style>\n",
       "<table border=\"1\" class=\"dataframe\">\n",
       "  <thead>\n",
       "    <tr style=\"text-align: right;\">\n",
       "      <th></th>\n",
       "      <th>screen_name</th>\n",
       "    </tr>\n",
       "    <tr>\n",
       "      <th>user_id</th>\n",
       "      <th></th>\n",
       "    </tr>\n",
       "  </thead>\n",
       "  <tbody>\n",
       "    <tr>\n",
       "      <th>23455653</th>\n",
       "      <td>abettel</td>\n",
       "    </tr>\n",
       "    <tr>\n",
       "      <th>33919343</th>\n",
       "      <td>AshleyRParker</td>\n",
       "    </tr>\n",
       "    <tr>\n",
       "      <th>18580432</th>\n",
       "      <td>b_fung</td>\n",
       "    </tr>\n",
       "    <tr>\n",
       "      <th>399225358</th>\n",
       "      <td>b_muzz</td>\n",
       "    </tr>\n",
       "    <tr>\n",
       "      <th>18834692</th>\n",
       "      <td>becca_milfeld</td>\n",
       "    </tr>\n",
       "  </tbody>\n",
       "</table>\n",
       "</div>"
      ],
      "text/plain": [
       "             screen_name\n",
       "user_id                 \n",
       "23455653         abettel\n",
       "33919343   AshleyRParker\n",
       "18580432          b_fung\n",
       "399225358         b_muzz\n",
       "18834692   becca_milfeld"
      ]
     },
     "execution_count": 4,
     "metadata": {},
     "output_type": "execute_result"
    }
   ],
   "source": [
    "user_lookup_df.head()"
   ]
  },
  {
   "cell_type": "markdown",
   "metadata": {},
   "source": [
    "### Load user info"
   ]
  },
  {
   "cell_type": "code",
   "execution_count": 5,
   "metadata": {},
   "outputs": [
    {
     "data": {
      "text/plain": [
       "name               2506\n",
       "organization       2477\n",
       "position           2503\n",
       "gender             2505\n",
       "followers_count    2506\n",
       "following_count    2506\n",
       "tweet_count        2506\n",
       "user_created_at    2506\n",
       "verified           2506\n",
       "protected          2506\n",
       "dtype: int64"
      ]
     },
     "execution_count": 5,
     "metadata": {},
     "output_type": "execute_result"
    }
   ],
   "source": [
    "user_info_df = pd.read_csv('source_data/user_info_lookup.csv', names=['user_id', 'name', 'organization', 'position',\n",
    "                                            'gender', 'followers_count', 'following_count', 'tweet_count',\n",
    "                                            'user_created_at', 'verified', 'protected'],\n",
    "                          dtype={'user_id': str}).set_index(['user_id'])\n",
    "user_info_df.count()"
   ]
  },
  {
   "cell_type": "code",
   "execution_count": 6,
   "metadata": {},
   "outputs": [
    {
     "data": {
      "text/html": [
       "<div>\n",
       "<style scoped>\n",
       "    .dataframe tbody tr th:only-of-type {\n",
       "        vertical-align: middle;\n",
       "    }\n",
       "\n",
       "    .dataframe tbody tr th {\n",
       "        vertical-align: top;\n",
       "    }\n",
       "\n",
       "    .dataframe thead th {\n",
       "        text-align: right;\n",
       "    }\n",
       "</style>\n",
       "<table border=\"1\" class=\"dataframe\">\n",
       "  <thead>\n",
       "    <tr style=\"text-align: right;\">\n",
       "      <th></th>\n",
       "      <th>name</th>\n",
       "      <th>organization</th>\n",
       "      <th>position</th>\n",
       "      <th>gender</th>\n",
       "      <th>followers_count</th>\n",
       "      <th>following_count</th>\n",
       "      <th>tweet_count</th>\n",
       "      <th>user_created_at</th>\n",
       "      <th>verified</th>\n",
       "      <th>protected</th>\n",
       "    </tr>\n",
       "    <tr>\n",
       "      <th>user_id</th>\n",
       "      <th></th>\n",
       "      <th></th>\n",
       "      <th></th>\n",
       "      <th></th>\n",
       "      <th></th>\n",
       "      <th></th>\n",
       "      <th></th>\n",
       "      <th></th>\n",
       "      <th></th>\n",
       "      <th></th>\n",
       "    </tr>\n",
       "  </thead>\n",
       "  <tbody>\n",
       "    <tr>\n",
       "      <th>20711445</th>\n",
       "      <td>Glinski, Nina</td>\n",
       "      <td>NaN</td>\n",
       "      <td>Freelance Reporter</td>\n",
       "      <td>F</td>\n",
       "      <td>963</td>\n",
       "      <td>507</td>\n",
       "      <td>909</td>\n",
       "      <td>Thu Feb 12 20:00:53 +0000 2009</td>\n",
       "      <td>False</td>\n",
       "      <td>False</td>\n",
       "    </tr>\n",
       "    <tr>\n",
       "      <th>258917371</th>\n",
       "      <td>Enders, David</td>\n",
       "      <td>NaN</td>\n",
       "      <td>Journalist</td>\n",
       "      <td>M</td>\n",
       "      <td>1444</td>\n",
       "      <td>484</td>\n",
       "      <td>6296</td>\n",
       "      <td>Mon Feb 28 19:52:03 +0000 2011</td>\n",
       "      <td>True</td>\n",
       "      <td>False</td>\n",
       "    </tr>\n",
       "    <tr>\n",
       "      <th>297046834</th>\n",
       "      <td>Barakat, Matthew</td>\n",
       "      <td>Associated Press</td>\n",
       "      <td>Northern Virginia Correspondent</td>\n",
       "      <td>M</td>\n",
       "      <td>759</td>\n",
       "      <td>352</td>\n",
       "      <td>631</td>\n",
       "      <td>Wed May 11 20:55:24 +0000 2011</td>\n",
       "      <td>True</td>\n",
       "      <td>False</td>\n",
       "    </tr>\n",
       "    <tr>\n",
       "      <th>455585786</th>\n",
       "      <td>Atkins, Kimberly</td>\n",
       "      <td>Boston Herald</td>\n",
       "      <td>Chief Washington Reporter/Columnist</td>\n",
       "      <td>F</td>\n",
       "      <td>2944</td>\n",
       "      <td>2691</td>\n",
       "      <td>6277</td>\n",
       "      <td>Thu Jan 05 08:26:46 +0000 2012</td>\n",
       "      <td>True</td>\n",
       "      <td>False</td>\n",
       "    </tr>\n",
       "    <tr>\n",
       "      <th>42584840</th>\n",
       "      <td>Vlahou, Toula</td>\n",
       "      <td>CQ Roll Call</td>\n",
       "      <td>Editor &amp; Podcast Producer</td>\n",
       "      <td>F</td>\n",
       "      <td>2703</td>\n",
       "      <td>201</td>\n",
       "      <td>6366</td>\n",
       "      <td>Tue May 26 07:41:38 +0000 2009</td>\n",
       "      <td>False</td>\n",
       "      <td>False</td>\n",
       "    </tr>\n",
       "  </tbody>\n",
       "</table>\n",
       "</div>"
      ],
      "text/plain": [
       "                       name      organization  \\\n",
       "user_id                                         \n",
       "20711445      Glinski, Nina               NaN   \n",
       "258917371     Enders, David               NaN   \n",
       "297046834  Barakat, Matthew  Associated Press   \n",
       "455585786  Atkins, Kimberly     Boston Herald   \n",
       "42584840      Vlahou, Toula      CQ Roll Call   \n",
       "\n",
       "                                      position gender  followers_count  \\\n",
       "user_id                                                                  \n",
       "20711445                    Freelance Reporter      F              963   \n",
       "258917371                           Journalist      M             1444   \n",
       "297046834      Northern Virginia Correspondent      M              759   \n",
       "455585786  Chief Washington Reporter/Columnist      F             2944   \n",
       "42584840             Editor & Podcast Producer      F             2703   \n",
       "\n",
       "           following_count  tweet_count                 user_created_at  \\\n",
       "user_id                                                                   \n",
       "20711445               507          909  Thu Feb 12 20:00:53 +0000 2009   \n",
       "258917371              484         6296  Mon Feb 28 19:52:03 +0000 2011   \n",
       "297046834              352          631  Wed May 11 20:55:24 +0000 2011   \n",
       "455585786             2691         6277  Thu Jan 05 08:26:46 +0000 2012   \n",
       "42584840               201         6366  Tue May 26 07:41:38 +0000 2009   \n",
       "\n",
       "           verified  protected  \n",
       "user_id                         \n",
       "20711445      False      False  \n",
       "258917371      True      False  \n",
       "297046834      True      False  \n",
       "455585786      True      False  \n",
       "42584840      False      False  "
      ]
     },
     "execution_count": 6,
     "metadata": {},
     "output_type": "execute_result"
    }
   ],
   "source": [
    "user_info_df.head()"
   ]
  },
  {
   "cell_type": "code",
   "execution_count": 7,
   "metadata": {},
   "outputs": [],
   "source": [
    "user_tweet_count_df = tweet_df[['user_id', 'tweet_type']].groupby(['user_id', 'tweet_type']).size().unstack()\n",
    "user_tweet_count_df.fillna(0, inplace=True)\n",
    "user_tweet_count_df['tweets_in_dataset'] = user_tweet_count_df.original + user_tweet_count_df.quote + user_tweet_count_df.reply + user_tweet_count_df.retweet"
   ]
  },
  {
   "cell_type": "code",
   "execution_count": 8,
   "metadata": {},
   "outputs": [
    {
     "data": {
      "text/plain": [
       "screen_name          2487\n",
       "name                 2487\n",
       "organization         2487\n",
       "position             2484\n",
       "gender               2486\n",
       "followers_count      2487\n",
       "following_count      2487\n",
       "tweet_count          2487\n",
       "user_created_at      2487\n",
       "verified             2487\n",
       "protected            2487\n",
       "original             2487\n",
       "quote                2487\n",
       "reply                2487\n",
       "retweet              2487\n",
       "tweets_in_dataset    2487\n",
       "dtype: int64"
      ]
     },
     "execution_count": 8,
     "metadata": {},
     "output_type": "execute_result"
    }
   ],
   "source": [
    "user_summary_df = user_lookup_df.join((user_info_df, user_tweet_count_df), how='left')\n",
    "# Fill Nans\n",
    "user_summary_df['organization'].fillna('', inplace=True)\n",
    "user_summary_df['original'].fillna(0, inplace=True)\n",
    "user_summary_df['quote'].fillna(0, inplace=True)\n",
    "user_summary_df['reply'].fillna(0, inplace=True)\n",
    "user_summary_df['retweet'].fillna(0, inplace=True)\n",
    "user_summary_df['tweets_in_dataset'].fillna(0, inplace=True)\n",
    "user_summary_df.count()"
   ]
  },
  {
   "cell_type": "code",
   "execution_count": 9,
   "metadata": {},
   "outputs": [
    {
     "data": {
      "text/html": [
       "<div>\n",
       "<style scoped>\n",
       "    .dataframe tbody tr th:only-of-type {\n",
       "        vertical-align: middle;\n",
       "    }\n",
       "\n",
       "    .dataframe tbody tr th {\n",
       "        vertical-align: top;\n",
       "    }\n",
       "\n",
       "    .dataframe thead th {\n",
       "        text-align: right;\n",
       "    }\n",
       "</style>\n",
       "<table border=\"1\" class=\"dataframe\">\n",
       "  <thead>\n",
       "    <tr style=\"text-align: right;\">\n",
       "      <th></th>\n",
       "      <th>screen_name</th>\n",
       "      <th>name</th>\n",
       "      <th>organization</th>\n",
       "      <th>position</th>\n",
       "      <th>gender</th>\n",
       "      <th>followers_count</th>\n",
       "      <th>following_count</th>\n",
       "      <th>tweet_count</th>\n",
       "      <th>user_created_at</th>\n",
       "      <th>verified</th>\n",
       "      <th>protected</th>\n",
       "      <th>original</th>\n",
       "      <th>quote</th>\n",
       "      <th>reply</th>\n",
       "      <th>retweet</th>\n",
       "      <th>tweets_in_dataset</th>\n",
       "    </tr>\n",
       "    <tr>\n",
       "      <th>user_id</th>\n",
       "      <th></th>\n",
       "      <th></th>\n",
       "      <th></th>\n",
       "      <th></th>\n",
       "      <th></th>\n",
       "      <th></th>\n",
       "      <th></th>\n",
       "      <th></th>\n",
       "      <th></th>\n",
       "      <th></th>\n",
       "      <th></th>\n",
       "      <th></th>\n",
       "      <th></th>\n",
       "      <th></th>\n",
       "      <th></th>\n",
       "      <th></th>\n",
       "    </tr>\n",
       "  </thead>\n",
       "  <tbody>\n",
       "    <tr>\n",
       "      <th>23455653</th>\n",
       "      <td>abettel</td>\n",
       "      <td>Bettelheim, Adriel</td>\n",
       "      <td>Politico</td>\n",
       "      <td>Health Care Editor</td>\n",
       "      <td>F</td>\n",
       "      <td>2664</td>\n",
       "      <td>1055</td>\n",
       "      <td>15990</td>\n",
       "      <td>Mon Mar 09 16:32:20 +0000 2009</td>\n",
       "      <td>True</td>\n",
       "      <td>False</td>\n",
       "      <td>289.00</td>\n",
       "      <td>12.00</td>\n",
       "      <td>6.00</td>\n",
       "      <td>52.00</td>\n",
       "      <td>359.00</td>\n",
       "    </tr>\n",
       "    <tr>\n",
       "      <th>33919343</th>\n",
       "      <td>AshleyRParker</td>\n",
       "      <td>Parker, Ashley</td>\n",
       "      <td>Washington Post</td>\n",
       "      <td>White House Reporter</td>\n",
       "      <td>F</td>\n",
       "      <td>122382</td>\n",
       "      <td>2342</td>\n",
       "      <td>12433</td>\n",
       "      <td>Tue Apr 21 14:28:57 +0000 2009</td>\n",
       "      <td>True</td>\n",
       "      <td>False</td>\n",
       "      <td>172.00</td>\n",
       "      <td>67.00</td>\n",
       "      <td>11.00</td>\n",
       "      <td>120.00</td>\n",
       "      <td>370.00</td>\n",
       "    </tr>\n",
       "    <tr>\n",
       "      <th>18580432</th>\n",
       "      <td>b_fung</td>\n",
       "      <td>Fung, Brian</td>\n",
       "      <td>Washington Post</td>\n",
       "      <td>Tech Reporter</td>\n",
       "      <td>M</td>\n",
       "      <td>16558</td>\n",
       "      <td>2062</td>\n",
       "      <td>44799</td>\n",
       "      <td>Sat Jan 03 15:15:57 +0000 2009</td>\n",
       "      <td>True</td>\n",
       "      <td>False</td>\n",
       "      <td>257.00</td>\n",
       "      <td>85.00</td>\n",
       "      <td>205.00</td>\n",
       "      <td>82.00</td>\n",
       "      <td>629.00</td>\n",
       "    </tr>\n",
       "    <tr>\n",
       "      <th>399225358</th>\n",
       "      <td>b_muzz</td>\n",
       "      <td>Murray, Brendan</td>\n",
       "      <td>Bloomberg News</td>\n",
       "      <td>Managing Editor, U.S. Economy</td>\n",
       "      <td>M</td>\n",
       "      <td>624</td>\n",
       "      <td>382</td>\n",
       "      <td>360</td>\n",
       "      <td>Thu Oct 27 05:34:05 +0000 2011</td>\n",
       "      <td>True</td>\n",
       "      <td>False</td>\n",
       "      <td>3.00</td>\n",
       "      <td>0.00</td>\n",
       "      <td>0.00</td>\n",
       "      <td>5.00</td>\n",
       "      <td>8.00</td>\n",
       "    </tr>\n",
       "    <tr>\n",
       "      <th>18834692</th>\n",
       "      <td>becca_milfeld</td>\n",
       "      <td>Milfeld, Becca</td>\n",
       "      <td>Agence France-Presse</td>\n",
       "      <td>English Desk Editor and Journalist</td>\n",
       "      <td>F</td>\n",
       "      <td>483</td>\n",
       "      <td>993</td>\n",
       "      <td>1484</td>\n",
       "      <td>Sat Jan 10 13:58:43 +0000 2009</td>\n",
       "      <td>False</td>\n",
       "      <td>False</td>\n",
       "      <td>3.00</td>\n",
       "      <td>14.00</td>\n",
       "      <td>0.00</td>\n",
       "      <td>7.00</td>\n",
       "      <td>24.00</td>\n",
       "    </tr>\n",
       "  </tbody>\n",
       "</table>\n",
       "</div>"
      ],
      "text/plain": [
       "             screen_name                name          organization  \\\n",
       "user_id                                                              \n",
       "23455653         abettel  Bettelheim, Adriel              Politico   \n",
       "33919343   AshleyRParker      Parker, Ashley       Washington Post   \n",
       "18580432          b_fung         Fung, Brian       Washington Post   \n",
       "399225358         b_muzz     Murray, Brendan        Bloomberg News   \n",
       "18834692   becca_milfeld      Milfeld, Becca  Agence France-Presse   \n",
       "\n",
       "                                     position gender  followers_count  \\\n",
       "user_id                                                                 \n",
       "23455653                   Health Care Editor      F             2664   \n",
       "33919343                 White House Reporter      F           122382   \n",
       "18580432                        Tech Reporter      M            16558   \n",
       "399225358       Managing Editor, U.S. Economy      M              624   \n",
       "18834692   English Desk Editor and Journalist      F              483   \n",
       "\n",
       "           following_count  tweet_count                 user_created_at  \\\n",
       "user_id                                                                   \n",
       "23455653              1055        15990  Mon Mar 09 16:32:20 +0000 2009   \n",
       "33919343              2342        12433  Tue Apr 21 14:28:57 +0000 2009   \n",
       "18580432              2062        44799  Sat Jan 03 15:15:57 +0000 2009   \n",
       "399225358              382          360  Thu Oct 27 05:34:05 +0000 2011   \n",
       "18834692               993         1484  Sat Jan 10 13:58:43 +0000 2009   \n",
       "\n",
       "           verified  protected             original                quote  \\\n",
       "user_id                                                                    \n",
       "23455653       True      False               289.00                12.00   \n",
       "33919343       True      False               172.00                67.00   \n",
       "18580432       True      False               257.00                85.00   \n",
       "399225358      True      False                 3.00                 0.00   \n",
       "18834692      False      False                 3.00                14.00   \n",
       "\n",
       "                         reply              retweet    tweets_in_dataset  \n",
       "user_id                                                                   \n",
       "23455653                  6.00                52.00               359.00  \n",
       "33919343                 11.00               120.00               370.00  \n",
       "18580432                205.00                82.00               629.00  \n",
       "399225358                 0.00                 5.00                 8.00  \n",
       "18834692                  0.00                 7.00                24.00  "
      ]
     },
     "execution_count": 9,
     "metadata": {},
     "output_type": "execute_result"
    }
   ],
   "source": [
    "user_summary_df.head()"
   ]
  },
  {
   "cell_type": "markdown",
   "metadata": {
    "collapsed": true
   },
   "source": [
    "### Remove users with no tweets in dataset"
   ]
  },
  {
   "cell_type": "code",
   "execution_count": 10,
   "metadata": {},
   "outputs": [
    {
     "data": {
      "text/plain": [
       "screen_name          195\n",
       "name                 195\n",
       "organization         195\n",
       "position             195\n",
       "gender               194\n",
       "followers_count      195\n",
       "following_count      195\n",
       "tweet_count          195\n",
       "user_created_at      195\n",
       "verified             195\n",
       "protected            195\n",
       "original             195\n",
       "quote                195\n",
       "reply                195\n",
       "retweet              195\n",
       "tweets_in_dataset    195\n",
       "dtype: int64"
      ]
     },
     "execution_count": 10,
     "metadata": {},
     "output_type": "execute_result"
    }
   ],
   "source": [
    "user_summary_df[user_summary_df.tweets_in_dataset == 0].count()"
   ]
  },
  {
   "cell_type": "code",
   "execution_count": 11,
   "metadata": {},
   "outputs": [
    {
     "data": {
      "text/plain": [
       "screen_name          2292\n",
       "name                 2292\n",
       "organization         2292\n",
       "position             2289\n",
       "gender               2292\n",
       "followers_count      2292\n",
       "following_count      2292\n",
       "tweet_count          2292\n",
       "user_created_at      2292\n",
       "verified             2292\n",
       "protected            2292\n",
       "original             2292\n",
       "quote                2292\n",
       "reply                2292\n",
       "retweet              2292\n",
       "tweets_in_dataset    2292\n",
       "dtype: int64"
      ]
     },
     "execution_count": 11,
     "metadata": {},
     "output_type": "execute_result"
    }
   ],
   "source": [
    "user_summary_df = user_summary_df[user_summary_df.tweets_in_dataset != 0]\n",
    "user_summary_df.count()"
   ]
  },
  {
   "cell_type": "markdown",
   "metadata": {},
   "source": [
    "### Gender"
   ]
  },
  {
   "cell_type": "code",
   "execution_count": 12,
   "metadata": {},
   "outputs": [
    {
     "data": {
      "text/html": [
       "<div>\n",
       "<style scoped>\n",
       "    .dataframe tbody tr th:only-of-type {\n",
       "        vertical-align: middle;\n",
       "    }\n",
       "\n",
       "    .dataframe tbody tr th {\n",
       "        vertical-align: top;\n",
       "    }\n",
       "\n",
       "    .dataframe thead th {\n",
       "        text-align: right;\n",
       "    }\n",
       "</style>\n",
       "<table border=\"1\" class=\"dataframe\">\n",
       "  <thead>\n",
       "    <tr style=\"text-align: right;\">\n",
       "      <th></th>\n",
       "      <th>count</th>\n",
       "      <th>percentage</th>\n",
       "    </tr>\n",
       "  </thead>\n",
       "  <tbody>\n",
       "    <tr>\n",
       "      <th>M</th>\n",
       "      <td>1299</td>\n",
       "      <td>56.7%</td>\n",
       "    </tr>\n",
       "    <tr>\n",
       "      <th>F</th>\n",
       "      <td>993</td>\n",
       "      <td>43.3%</td>\n",
       "    </tr>\n",
       "  </tbody>\n",
       "</table>\n",
       "</div>"
      ],
      "text/plain": [
       "   count percentage\n",
       "M   1299      56.7%\n",
       "F    993      43.3%"
      ]
     },
     "execution_count": 12,
     "metadata": {},
     "output_type": "execute_result"
    }
   ],
   "source": [
    "journalist_gender_summary_df = pd.DataFrame({'count':user_summary_df.gender.value_counts(), 'percentage':user_summary_df.gender.value_counts(normalize=True).mul(100).round(1).astype(str) + '%'})\n",
    "journalist_gender_summary_df"
   ]
  },
  {
   "cell_type": "markdown",
   "metadata": {},
   "source": [
    "## Hashtag data prep"
   ]
  },
  {
   "cell_type": "markdown",
   "metadata": {},
   "source": [
    "### Load hashtags from original tweets"
   ]
  },
  {
   "cell_type": "code",
   "execution_count": 13,
   "metadata": {},
   "outputs": [
    {
     "name": "stderr",
     "output_type": "stream",
     "text": [
      "INFO:root:Loading from tweets/642bf140607547cb9d4c6b1fc49772aa_001.json.gz\n",
      "DEBUG:root:Loaded 50000\n",
      "DEBUG:root:Loaded 100000\n",
      "DEBUG:root:Loaded 150000\n",
      "DEBUG:root:Loaded 200000\n",
      "DEBUG:root:Loaded 250000\n",
      "INFO:root:Loading from tweets/9f7ed17c16a1494c8690b4053609539d_001.json.gz\n",
      "DEBUG:root:Loaded 300000\n",
      "DEBUG:root:Loaded 350000\n",
      "DEBUG:root:Loaded 400000\n",
      "DEBUG:root:Loaded 450000\n",
      "DEBUG:root:Loaded 500000\n",
      "INFO:root:Loading from tweets/41feff28312c433ab004cd822212f4c2_001.json.gz\n",
      "DEBUG:root:Loaded 550000\n",
      "DEBUG:root:Loaded 600000\n",
      "DEBUG:root:Loaded 650000\n",
      "DEBUG:root:Loaded 700000\n",
      "DEBUG:root:Loaded 750000\n",
      "DEBUG:root:Loaded 800000\n"
     ]
    },
    {
     "data": {
      "text/plain": [
       "tweet_id            57083\n",
       "user_id             57083\n",
       "screen_name         57083\n",
       "hashtag             57083\n",
       "tweet_created_at    57083\n",
       "dtype: int64"
      ]
     },
     "execution_count": 13,
     "metadata": {},
     "output_type": "execute_result"
    }
   ],
   "source": [
    "# Simply the tweet on load\n",
    "def hashtag_transform(tweet):\n",
    "    hashtags = []\n",
    "    if tweet_type(tweet) == 'original':\n",
    "        for hashtag in tweet.get('entities', {}).get('hashtags', []):\n",
    "            hashtags.append({\n",
    "                'tweet_id': tweet['id_str'],\n",
    "                'user_id': tweet['user']['id_str'],\n",
    "                'screen_name': tweet['user']['screen_name'],\n",
    "                'hashtag': hashtag['text'],\n",
    "                'tweet_created_at': date_parse(tweet['created_at'])\n",
    "            })\n",
    "    return hashtags\n",
    "\n",
    "base_hashtags_df = load_tweet_df(hashtag_transform, ['tweet_id', 'user_id', 'screen_name', 'hashtag',\n",
    "                                           'tweet_created_at'], \n",
    "                           dedupe_columns=['tweet_id', 'hashtag'])\n",
    "base_hashtags_df.count()"
   ]
  },
  {
   "cell_type": "code",
   "execution_count": 14,
   "metadata": {},
   "outputs": [
    {
     "data": {
      "text/html": [
       "<div>\n",
       "<style scoped>\n",
       "    .dataframe tbody tr th:only-of-type {\n",
       "        vertical-align: middle;\n",
       "    }\n",
       "\n",
       "    .dataframe tbody tr th {\n",
       "        vertical-align: top;\n",
       "    }\n",
       "\n",
       "    .dataframe thead th {\n",
       "        text-align: right;\n",
       "    }\n",
       "</style>\n",
       "<table border=\"1\" class=\"dataframe\">\n",
       "  <thead>\n",
       "    <tr style=\"text-align: right;\">\n",
       "      <th></th>\n",
       "      <th>tweet_id</th>\n",
       "      <th>user_id</th>\n",
       "      <th>screen_name</th>\n",
       "      <th>hashtag</th>\n",
       "      <th>tweet_created_at</th>\n",
       "    </tr>\n",
       "  </thead>\n",
       "  <tbody>\n",
       "    <tr>\n",
       "      <th>0</th>\n",
       "      <td>872613048531529735</td>\n",
       "      <td>18482836</td>\n",
       "      <td>kristina_wong</td>\n",
       "      <td>Hooah</td>\n",
       "      <td>2017-06-08 00:35:37+00:00</td>\n",
       "    </tr>\n",
       "    <tr>\n",
       "      <th>1</th>\n",
       "      <td>872074947463663616</td>\n",
       "      <td>18482836</td>\n",
       "      <td>kristina_wong</td>\n",
       "      <td>SecState</td>\n",
       "      <td>2017-06-06 12:57:24+00:00</td>\n",
       "    </tr>\n",
       "    <tr>\n",
       "      <th>2</th>\n",
       "      <td>871531374741684224</td>\n",
       "      <td>18482836</td>\n",
       "      <td>kristina_wong</td>\n",
       "      <td>Manchester</td>\n",
       "      <td>2017-06-05 00:57:26+00:00</td>\n",
       "    </tr>\n",
       "    <tr>\n",
       "      <th>3</th>\n",
       "      <td>871403986276012032</td>\n",
       "      <td>18482836</td>\n",
       "      <td>kristina_wong</td>\n",
       "      <td>London</td>\n",
       "      <td>2017-06-04 16:31:14+00:00</td>\n",
       "    </tr>\n",
       "    <tr>\n",
       "      <th>4</th>\n",
       "      <td>871403986276012032</td>\n",
       "      <td>18482836</td>\n",
       "      <td>kristina_wong</td>\n",
       "      <td>LondonStrong</td>\n",
       "      <td>2017-06-04 16:31:14+00:00</td>\n",
       "    </tr>\n",
       "  </tbody>\n",
       "</table>\n",
       "</div>"
      ],
      "text/plain": [
       "             tweet_id   user_id    screen_name       hashtag  \\\n",
       "0  872613048531529735  18482836  kristina_wong         Hooah   \n",
       "1  872074947463663616  18482836  kristina_wong      SecState   \n",
       "2  871531374741684224  18482836  kristina_wong    Manchester   \n",
       "3  871403986276012032  18482836  kristina_wong        London   \n",
       "4  871403986276012032  18482836  kristina_wong  LondonStrong   \n",
       "\n",
       "           tweet_created_at  \n",
       "0 2017-06-08 00:35:37+00:00  \n",
       "1 2017-06-06 12:57:24+00:00  \n",
       "2 2017-06-05 00:57:26+00:00  \n",
       "3 2017-06-04 16:31:14+00:00  \n",
       "4 2017-06-04 16:31:14+00:00  "
      ]
     },
     "execution_count": 14,
     "metadata": {},
     "output_type": "execute_result"
    }
   ],
   "source": [
    "base_hashtags_df.head()"
   ]
  },
  {
   "cell_type": "markdown",
   "metadata": {},
   "source": [
    "### Add gender"
   ]
  },
  {
   "cell_type": "code",
   "execution_count": 15,
   "metadata": {},
   "outputs": [
    {
     "data": {
      "text/plain": [
       "tweet_id            57083\n",
       "user_id             57083\n",
       "screen_name         57083\n",
       "hashtag             57083\n",
       "tweet_created_at    57083\n",
       "gender              57083\n",
       "dtype: int64"
      ]
     },
     "execution_count": 15,
     "metadata": {},
     "output_type": "execute_result"
    }
   ],
   "source": [
    "hashtags_df = base_hashtags_df.join(user_summary_df['gender'], on='user_id')\n",
    "hashtags_df.count()"
   ]
  },
  {
   "cell_type": "markdown",
   "metadata": {},
   "source": [
    "## Analysis\n",
    "### Top hashtags"
   ]
  },
  {
   "cell_type": "code",
   "execution_count": 16,
   "metadata": {},
   "outputs": [
    {
     "data": {
      "text/plain": [
       "Comey                        808\n",
       "GA06                         793\n",
       "Trump                        785\n",
       "Obamacare                    760\n",
       "SCOTUS                       736\n",
       "Russia                       617\n",
       "FY18NDAA                     557\n",
       "Trumpcare                    485\n",
       "pharma                       474\n",
       "BCRA                         440\n",
       "ComeyHearing                 413\n",
       "BREAKING                     384\n",
       "ACA                          367\n",
       "ParisAgreement               322\n",
       "FDA                          307\n",
       "muniland                     304\n",
       "NBC4DC                       300\n",
       "TheLead                      299\n",
       "healthcare                   289\n",
       "ComeyDay                     281\n",
       "AHCA                         274\n",
       "ComeyTestimony               273\n",
       "CongressionalBaseballGame    271\n",
       "wmata                        265\n",
       "HealthcareBill               258\n",
       "Name: hashtag, dtype: int64"
      ]
     },
     "execution_count": 16,
     "metadata": {},
     "output_type": "execute_result"
    }
   ],
   "source": [
    "hashtags_df.hashtag.value_counts().head(25)"
   ]
  },
  {
   "cell_type": "markdown",
   "metadata": {},
   "source": [
    "### Top hashtags for female journalists"
   ]
  },
  {
   "cell_type": "code",
   "execution_count": 17,
   "metadata": {},
   "outputs": [
    {
     "data": {
      "text/plain": [
       "Obamacare                    637\n",
       "Comey                        511\n",
       "pharma                       474\n",
       "Trumpcare                    468\n",
       "Trump                        380\n",
       "BCRA                         362\n",
       "Russia                       358\n",
       "GA06                         351\n",
       "ACA                          325\n",
       "muniland                     304\n",
       "SCOTUS                       304\n",
       "FDA                          302\n",
       "biotech                      242\n",
       "AHCA                         223\n",
       "ComeyHearing                 204\n",
       "healthcare                   199\n",
       "ParisAgreement               190\n",
       "drugprices                   184\n",
       "BREAKING                     177\n",
       "ComeyTestimony               174\n",
       "ComeyDay                     164\n",
       "AMR                          159\n",
       "CongressionalBaseballGame    151\n",
       "wmata                        146\n",
       "NBC4DC                       142\n",
       "Name: hashtag, dtype: int64"
      ]
     },
     "execution_count": 17,
     "metadata": {},
     "output_type": "execute_result"
    }
   ],
   "source": [
    "hashtags_df[hashtags_df.gender == 'F'].hashtag.value_counts().head(25)"
   ]
  },
  {
   "cell_type": "markdown",
   "metadata": {},
   "source": [
    "### Top hashtags for male journalists"
   ]
  },
  {
   "cell_type": "code",
   "execution_count": 18,
   "metadata": {},
   "outputs": [
    {
     "data": {
      "text/plain": [
       "FY18NDAA                     531\n",
       "GA06                         442\n",
       "SCOTUS                       432\n",
       "Trump                        405\n",
       "TheLead                      297\n",
       "Comey                        297\n",
       "Russia                       259\n",
       "ComeyHearing                 209\n",
       "BREAKING                     207\n",
       "HealthcareBill               171\n",
       "Nats                         163\n",
       "NBC4DC                       158\n",
       "AspenSecurity                155\n",
       "ISIS                         133\n",
       "ParisAgreement               132\n",
       "G20                          127\n",
       "Obamacare                    123\n",
       "CongressionalBaseballGame    120\n",
       "wmata                        119\n",
       "ComeyDay                     117\n",
       "CNNsotu                      115\n",
       "NetNeutrality                110\n",
       "NorthKorea                   109\n",
       "AlexandriaShooting            99\n",
       "ComeyTestimony                99\n",
       "Name: hashtag, dtype: int64"
      ]
     },
     "execution_count": 18,
     "metadata": {},
     "output_type": "execute_result"
    }
   ],
   "source": [
    "hashtags_df[hashtags_df.gender == 'M'].hashtag.value_counts().head(25)"
   ]
  }
 ],
 "metadata": {
  "kernelspec": {
   "display_name": "Python 3",
   "language": "python",
   "name": "python3"
  },
  "language_info": {
   "codemirror_mode": {
    "name": "ipython",
    "version": 3
   },
   "file_extension": ".py",
   "mimetype": "text/x-python",
   "name": "python",
   "nbconvert_exporter": "python",
   "pygments_lexer": "ipython3",
   "version": "3.6.3"
  },
  "toc": {
   "nav_menu": {
    "height": "512px",
    "width": "252px"
   },
   "number_sections": true,
   "sideBar": true,
   "skip_h1_title": false,
   "toc_cell": true,
   "toc_position": {
    "height": "586px",
    "left": "0px",
    "right": "1088px",
    "top": "112px",
    "width": "343px"
   },
   "toc_section_display": "block",
   "toc_window_display": true
  }
 },
 "nbformat": 4,
 "nbformat_minor": 2
}
