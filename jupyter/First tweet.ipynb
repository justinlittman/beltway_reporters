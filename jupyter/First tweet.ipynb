{
 "cells": [
  {
   "cell_type": "markdown",
   "metadata": {},
   "source": [
    "# First tweet"
   ]
  },
  {
   "cell_type": "markdown",
   "metadata": {},
   "source": [
    "### Load the data and count."
   ]
  },
  {
   "cell_type": "code",
   "execution_count": 1,
   "metadata": {},
   "outputs": [
    {
     "name": "stderr",
     "output_type": "stream",
     "text": [
      "DEBUG:root:Loaded 0\n",
      "DEBUG:root:Loaded 50000\n",
      "DEBUG:root:Loaded 100000\n",
      "DEBUG:root:Loaded 150000\n",
      "DEBUG:root:Loaded 200000\n",
      "DEBUG:root:Loaded 250000\n",
      "DEBUG:root:Loaded 300000\n",
      "DEBUG:root:Loaded 350000\n",
      "DEBUG:root:Loaded 400000\n",
      "DEBUG:root:Loaded 450000\n",
      "DEBUG:root:Loaded 500000\n",
      "DEBUG:root:Loaded 550000\n",
      "DEBUG:root:Loaded 600000\n",
      "DEBUG:root:Loaded 650000\n",
      "DEBUG:root:Loaded 700000\n",
      "DEBUG:root:Loaded 750000\n",
      "DEBUG:root:Loaded 800000\n",
      "DEBUG:root:Loaded 850000\n",
      "DEBUG:root:Loaded 900000\n",
      "DEBUG:root:Loaded 950000\n",
      "DEBUG:root:Loaded 1000000\n",
      "DEBUG:root:Loaded 1050000\n",
      "DEBUG:root:Loaded 1100000\n",
      "DEBUG:root:Loaded 1150000\n",
      "DEBUG:root:Loaded 1200000\n",
      "DEBUG:root:Loaded 1250000\n",
      "DEBUG:root:Loaded 1300000\n",
      "DEBUG:root:Loaded 1350000\n",
      "DEBUG:root:Loaded 1400000\n",
      "DEBUG:root:Loaded 1450000\n",
      "DEBUG:root:Loaded 1500000\n",
      "DEBUG:root:Loaded 0\n",
      "DEBUG:root:Loaded 50000\n",
      "DEBUG:root:Loaded 100000\n",
      "DEBUG:root:Loaded 150000\n",
      "DEBUG:root:Loaded 200000\n",
      "DEBUG:root:Loaded 250000\n",
      "DEBUG:root:Loaded 300000\n",
      "DEBUG:root:Loaded 350000\n",
      "DEBUG:root:Loaded 400000\n",
      "DEBUG:root:Loaded 450000\n",
      "DEBUG:root:Loaded 500000\n",
      "DEBUG:root:Loaded 550000\n",
      "DEBUG:root:Loaded 600000\n",
      "DEBUG:root:Loaded 650000\n",
      "DEBUG:root:Loaded 700000\n",
      "DEBUG:root:Loaded 750000\n",
      "DEBUG:root:Loaded 800000\n",
      "DEBUG:root:Loaded 850000\n",
      "DEBUG:root:Loaded 900000\n",
      "DEBUG:root:Loaded 950000\n",
      "DEBUG:root:Loaded 1000000\n",
      "DEBUG:root:Loaded 1050000\n",
      "DEBUG:root:Loaded 1100000\n",
      "DEBUG:root:Loaded 1150000\n",
      "DEBUG:root:Loaded 1200000\n",
      "DEBUG:root:Loaded 1250000\n",
      "DEBUG:root:Loaded 1300000\n",
      "DEBUG:root:Loaded 1350000\n",
      "DEBUG:root:Loaded 1400000\n",
      "DEBUG:root:Loaded 1450000\n",
      "DEBUG:root:Loaded 1500000\n",
      "DEBUG:root:Loaded 1550000\n",
      "DEBUG:root:Loaded 1600000\n",
      "DEBUG:root:Loaded 1650000\n",
      "DEBUG:root:Loaded 1700000\n",
      "DEBUG:root:Loaded 1750000\n",
      "DEBUG:root:Loaded 1800000\n"
     ]
    },
    {
     "data": {
      "text/plain": [
       "tweet_id            3364440\n",
       "user_id             3364440\n",
       "screen_name         3364440\n",
       "tweet_created_at    3364440\n",
       "user_created_at     3364440\n",
       "tweets_to_date      3364440\n",
       "tweet_type          3364440\n",
       "dtype: int64"
      ]
     },
     "execution_count": 1,
     "metadata": {},
     "output_type": "execute_result"
    }
   ],
   "source": [
    "import pandas as pd\n",
    "import numpy as np\n",
    "import logging\n",
    "from dateutil.parser import parse as date_parse\n",
    "from utils import tweet_iter, tweet_type\n",
    "\n",
    "logger = logging.getLogger()\n",
    "logger.setLevel(logging.DEBUG)\n",
    "\n",
    "# Filepaths of the files to load.\n",
    "filepaths = ['d59d27e2f2ed4778881573df2ecf2fad_001.json.gz',\n",
    "            '25319652321b4bb498b250ffc53aa0f0_001.json.gz']\n",
    "\n",
    "def tweet_transform(tweet):\n",
    "    return {\n",
    "        'tweet_id': tweet['id_str'], \n",
    "        'tweet_created_at': date_parse(tweet['created_at']),\n",
    "        'user_id': tweet['user']['id_str'],\n",
    "        'screen_name': tweet['user']['screen_name'],\n",
    "        'user_created_at': date_parse(tweet['user']['created_at']),\n",
    "        'tweets_to_date': tweet['user']['statuses_count'],\n",
    "        'tweet_type': tweet_type(tweet)\n",
    "    }\n",
    "\n",
    "tweet_df = pd.DataFrame(tweet_iter(filepaths, tweet_transform_func=tweet_transform), \n",
    "                        columns=['tweet_id', 'user_id', 'screen_name', 'tweet_created_at', \n",
    "                                 'user_created_at', 'tweets_to_date', 'tweet_type'])\n",
    "tweet_df.count()"
   ]
  },
  {
   "cell_type": "markdown",
   "metadata": {},
   "source": [
    "### View the top of the data."
   ]
  },
  {
   "cell_type": "code",
   "execution_count": 2,
   "metadata": {
    "scrolled": true
   },
   "outputs": [
    {
     "data": {
      "text/html": [
       "<div>\n",
       "<table border=\"1\" class=\"dataframe\">\n",
       "  <thead>\n",
       "    <tr style=\"text-align: right;\">\n",
       "      <th></th>\n",
       "      <th>tweet_id</th>\n",
       "      <th>user_id</th>\n",
       "      <th>screen_name</th>\n",
       "      <th>tweet_created_at</th>\n",
       "      <th>user_created_at</th>\n",
       "      <th>tweets_to_date</th>\n",
       "      <th>tweet_type</th>\n",
       "    </tr>\n",
       "  </thead>\n",
       "  <tbody>\n",
       "    <tr>\n",
       "      <th>0</th>\n",
       "      <td>847821180832804864</td>\n",
       "      <td>1638925448</td>\n",
       "      <td>A_Childers_</td>\n",
       "      <td>2017-03-31 14:41:35+00:00</td>\n",
       "      <td>2013-08-01 21:44:28+00:00</td>\n",
       "      <td>6071</td>\n",
       "      <td>retweet</td>\n",
       "    </tr>\n",
       "    <tr>\n",
       "      <th>1</th>\n",
       "      <td>847814632643473411</td>\n",
       "      <td>1638925448</td>\n",
       "      <td>A_Childers_</td>\n",
       "      <td>2017-03-31 14:15:34+00:00</td>\n",
       "      <td>2013-08-01 21:44:28+00:00</td>\n",
       "      <td>6071</td>\n",
       "      <td>retweet</td>\n",
       "    </tr>\n",
       "    <tr>\n",
       "      <th>2</th>\n",
       "      <td>847627543142219776</td>\n",
       "      <td>1638925448</td>\n",
       "      <td>A_Childers_</td>\n",
       "      <td>2017-03-31 01:52:09+00:00</td>\n",
       "      <td>2013-08-01 21:44:28+00:00</td>\n",
       "      <td>6071</td>\n",
       "      <td>reply</td>\n",
       "    </tr>\n",
       "    <tr>\n",
       "      <th>3</th>\n",
       "      <td>847597404719267841</td>\n",
       "      <td>1638925448</td>\n",
       "      <td>A_Childers_</td>\n",
       "      <td>2017-03-30 23:52:23+00:00</td>\n",
       "      <td>2013-08-01 21:44:28+00:00</td>\n",
       "      <td>6071</td>\n",
       "      <td>reply</td>\n",
       "    </tr>\n",
       "    <tr>\n",
       "      <th>4</th>\n",
       "      <td>847593734896324608</td>\n",
       "      <td>1638925448</td>\n",
       "      <td>A_Childers_</td>\n",
       "      <td>2017-03-30 23:37:48+00:00</td>\n",
       "      <td>2013-08-01 21:44:28+00:00</td>\n",
       "      <td>6071</td>\n",
       "      <td>reply</td>\n",
       "    </tr>\n",
       "  </tbody>\n",
       "</table>\n",
       "</div>"
      ],
      "text/plain": [
       "             tweet_id     user_id  screen_name          tweet_created_at  \\\n",
       "0  847821180832804864  1638925448  A_Childers_ 2017-03-31 14:41:35+00:00   \n",
       "1  847814632643473411  1638925448  A_Childers_ 2017-03-31 14:15:34+00:00   \n",
       "2  847627543142219776  1638925448  A_Childers_ 2017-03-31 01:52:09+00:00   \n",
       "3  847597404719267841  1638925448  A_Childers_ 2017-03-30 23:52:23+00:00   \n",
       "4  847593734896324608  1638925448  A_Childers_ 2017-03-30 23:37:48+00:00   \n",
       "\n",
       "            user_created_at  tweets_to_date tweet_type  \n",
       "0 2013-08-01 21:44:28+00:00            6071    retweet  \n",
       "1 2013-08-01 21:44:28+00:00            6071    retweet  \n",
       "2 2013-08-01 21:44:28+00:00            6071      reply  \n",
       "3 2013-08-01 21:44:28+00:00            6071      reply  \n",
       "4 2013-08-01 21:44:28+00:00            6071      reply  "
      ]
     },
     "execution_count": 2,
     "metadata": {},
     "output_type": "execute_result"
    }
   ],
   "source": [
    "tweet_df.head()"
   ]
  },
  {
   "cell_type": "markdown",
   "metadata": {},
   "source": [
    "### Remove duplicates\n",
    "Dupes happen when collecting data from Twitter API."
   ]
  },
  {
   "cell_type": "code",
   "execution_count": 3,
   "metadata": {},
   "outputs": [
    {
     "data": {
      "text/plain": [
       "3335489"
      ]
     },
     "execution_count": 3,
     "metadata": {},
     "output_type": "execute_result"
    }
   ],
   "source": [
    "len(tweet_df['tweet_id'].unique())"
   ]
  },
  {
   "cell_type": "code",
   "execution_count": 4,
   "metadata": {},
   "outputs": [
    {
     "data": {
      "text/plain": [
       "3335489"
      ]
     },
     "execution_count": 4,
     "metadata": {},
     "output_type": "execute_result"
    }
   ],
   "source": [
    "dedupe_tweet_df = tweet_df.drop_duplicates(['tweet_id'], keep='last')\n",
    "len(dedupe_tweet_df)"
   ]
  },
  {
   "cell_type": "markdown",
   "metadata": {},
   "source": [
    "### Number of tweets in dataset for each user"
   ]
  },
  {
   "cell_type": "code",
   "execution_count": 5,
   "metadata": {},
   "outputs": [
    {
     "data": {
      "text/plain": [
       "tweets_in_dataset    1443\n",
       "dtype: int64"
      ]
     },
     "execution_count": 5,
     "metadata": {},
     "output_type": "execute_result"
    }
   ],
   "source": [
    "tweet_count_df = pd.DataFrame(dedupe_tweet_df['user_id'].value_counts()).rename(columns={'user_id': 'tweets_in_dataset'})\n",
    "tweet_count_df.index.name = 'user_id'\n",
    "tweet_count_df.count()"
   ]
  },
  {
   "cell_type": "code",
   "execution_count": 6,
   "metadata": {},
   "outputs": [
    {
     "data": {
      "text/html": [
       "<div>\n",
       "<table border=\"1\" class=\"dataframe\">\n",
       "  <thead>\n",
       "    <tr style=\"text-align: right;\">\n",
       "      <th></th>\n",
       "      <th>tweets_in_dataset</th>\n",
       "    </tr>\n",
       "    <tr>\n",
       "      <th>user_id</th>\n",
       "      <th></th>\n",
       "    </tr>\n",
       "  </thead>\n",
       "  <tbody>\n",
       "    <tr>\n",
       "      <th>3817401</th>\n",
       "      <td>5286</td>\n",
       "    </tr>\n",
       "    <tr>\n",
       "      <th>22891564</th>\n",
       "      <td>4321</td>\n",
       "    </tr>\n",
       "    <tr>\n",
       "      <th>456994513</th>\n",
       "      <td>4273</td>\n",
       "    </tr>\n",
       "    <tr>\n",
       "      <th>593813785</th>\n",
       "      <td>4110</td>\n",
       "    </tr>\n",
       "    <tr>\n",
       "      <th>15146659</th>\n",
       "      <td>3945</td>\n",
       "    </tr>\n",
       "  </tbody>\n",
       "</table>\n",
       "</div>"
      ],
      "text/plain": [
       "           tweets_in_dataset\n",
       "user_id                     \n",
       "3817401                 5286\n",
       "22891564                4321\n",
       "456994513               4273\n",
       "593813785               4110\n",
       "15146659                3945"
      ]
     },
     "execution_count": 6,
     "metadata": {},
     "output_type": "execute_result"
    }
   ],
   "source": [
    "tweet_count_df.head()"
   ]
  },
  {
   "cell_type": "code",
   "execution_count": 7,
   "metadata": {},
   "outputs": [
    {
     "data": {
      "text/plain": [
       "tweet_id            1443\n",
       "screen_name         1443\n",
       "tweet_created_at    1443\n",
       "user_created_at     1443\n",
       "tweets_to_date      1443\n",
       "tweet_type          1443\n",
       "dtype: int64"
      ]
     },
     "execution_count": 7,
     "metadata": {},
     "output_type": "execute_result"
    }
   ],
   "source": [
    "# Get the first tweet for each user\n",
    "first_tweet_df = dedupe_tweet_df.loc[dedupe_tweet_df.groupby('user_id')['tweet_created_at'].idxmin()].set_index(['user_id'])\n",
    "first_tweet_df.count()"
   ]
  },
  {
   "cell_type": "code",
   "execution_count": 8,
   "metadata": {},
   "outputs": [
    {
     "data": {
      "text/html": [
       "<div>\n",
       "<table border=\"1\" class=\"dataframe\">\n",
       "  <thead>\n",
       "    <tr style=\"text-align: right;\">\n",
       "      <th></th>\n",
       "      <th>tweet_id</th>\n",
       "      <th>screen_name</th>\n",
       "      <th>tweet_created_at</th>\n",
       "      <th>user_created_at</th>\n",
       "      <th>tweets_to_date</th>\n",
       "      <th>tweet_type</th>\n",
       "    </tr>\n",
       "    <tr>\n",
       "      <th>user_id</th>\n",
       "      <th></th>\n",
       "      <th></th>\n",
       "      <th></th>\n",
       "      <th></th>\n",
       "      <th></th>\n",
       "      <th></th>\n",
       "    </tr>\n",
       "  </thead>\n",
       "  <tbody>\n",
       "    <tr>\n",
       "      <th>100165378</th>\n",
       "      <td>619906732052074496</td>\n",
       "      <td>ChristineSisto</td>\n",
       "      <td>2015-07-11 16:30:56+00:00</td>\n",
       "      <td>2009-12-29 07:27:27+00:00</td>\n",
       "      <td>8646</td>\n",
       "      <td>retweet</td>\n",
       "    </tr>\n",
       "    <tr>\n",
       "      <th>1001991865</th>\n",
       "      <td>289090058148012033</td>\n",
       "      <td>FredSchulte</td>\n",
       "      <td>2013-01-09 19:23:35+00:00</td>\n",
       "      <td>2012-12-10 16:16:10+00:00</td>\n",
       "      <td>888</td>\n",
       "      <td>reply</td>\n",
       "    </tr>\n",
       "    <tr>\n",
       "      <th>1002229862</th>\n",
       "      <td>425802092465623040</td>\n",
       "      <td>HMRothmandc</td>\n",
       "      <td>2014-01-22 01:28:24+00:00</td>\n",
       "      <td>2012-12-10 18:37:13+00:00</td>\n",
       "      <td>1777</td>\n",
       "      <td>reply</td>\n",
       "    </tr>\n",
       "    <tr>\n",
       "      <th>100270054</th>\n",
       "      <td>740945974143635464</td>\n",
       "      <td>Laubarth</td>\n",
       "      <td>2016-06-09 16:37:41+00:00</td>\n",
       "      <td>2009-12-29 17:02:01+00:00</td>\n",
       "      <td>6</td>\n",
       "      <td>original</td>\n",
       "    </tr>\n",
       "    <tr>\n",
       "      <th>100802089</th>\n",
       "      <td>7240989598</td>\n",
       "      <td>ayesharascoe</td>\n",
       "      <td>2009-12-31 17:27:25+00:00</td>\n",
       "      <td>2009-12-31 16:48:11+00:00</td>\n",
       "      <td>491</td>\n",
       "      <td>original</td>\n",
       "    </tr>\n",
       "  </tbody>\n",
       "</table>\n",
       "</div>"
      ],
      "text/plain": [
       "                      tweet_id     screen_name          tweet_created_at  \\\n",
       "user_id                                                                    \n",
       "100165378   619906732052074496  ChristineSisto 2015-07-11 16:30:56+00:00   \n",
       "1001991865  289090058148012033     FredSchulte 2013-01-09 19:23:35+00:00   \n",
       "1002229862  425802092465623040     HMRothmandc 2014-01-22 01:28:24+00:00   \n",
       "100270054   740945974143635464        Laubarth 2016-06-09 16:37:41+00:00   \n",
       "100802089           7240989598    ayesharascoe 2009-12-31 17:27:25+00:00   \n",
       "\n",
       "                     user_created_at  tweets_to_date tweet_type  \n",
       "user_id                                                          \n",
       "100165378  2009-12-29 07:27:27+00:00            8646    retweet  \n",
       "1001991865 2012-12-10 16:16:10+00:00             888      reply  \n",
       "1002229862 2012-12-10 18:37:13+00:00            1777      reply  \n",
       "100270054  2009-12-29 17:02:01+00:00               6   original  \n",
       "100802089  2009-12-31 16:48:11+00:00             491   original  "
      ]
     },
     "execution_count": 8,
     "metadata": {},
     "output_type": "execute_result"
    }
   ],
   "source": [
    "first_tweet_df.head()"
   ]
  },
  {
   "cell_type": "code",
   "execution_count": 9,
   "metadata": {},
   "outputs": [
    {
     "data": {
      "text/plain": [
       "screen_name          1443\n",
       "tweet_created_at     1443\n",
       "user_created_at      1443\n",
       "tweets_to_date       1443\n",
       "tweets_in_dataset    1443\n",
       "dtype: int64"
      ]
     },
     "execution_count": 9,
     "metadata": {},
     "output_type": "execute_result"
    }
   ],
   "source": [
    "# Merge with number of tweets in dataset for each user\n",
    "first_tweet_merge_df = first_tweet_df.join(tweet_count_df).drop(['tweet_id', 'tweet_type'], axis=1)\n",
    "first_tweet_merge_df.count()"
   ]
  },
  {
   "cell_type": "markdown",
   "metadata": {},
   "source": [
    "## First tweet for each user  <----------\n",
    "For each user, the date of the first tweet in the dataset, the date the account was created, the number of tweets to date (roughly), and the tweets in the dataset.\n",
    "\n",
    "If the user_created_at and tweet_created_at are close, then this is probably a new account.\n",
    "If the user_created_at and tweet_created_at are not close, but there is a small number of tweets then this user probably started tweeting recently (like a new account).\n",
    "If the user_created_at and tweet_created_at are not close and there is a large number of tweets then this is probably a prolific tweeter. Note that not all tweets for this user were probably collected."
   ]
  },
  {
   "cell_type": "code",
   "execution_count": 10,
   "metadata": {},
   "outputs": [
    {
     "data": {
      "text/html": [
       "<div>\n",
       "<table border=\"1\" class=\"dataframe\">\n",
       "  <thead>\n",
       "    <tr style=\"text-align: right;\">\n",
       "      <th></th>\n",
       "      <th>screen_name</th>\n",
       "      <th>tweet_created_at</th>\n",
       "      <th>user_created_at</th>\n",
       "      <th>tweets_to_date</th>\n",
       "      <th>tweets_in_dataset</th>\n",
       "    </tr>\n",
       "    <tr>\n",
       "      <th>user_id</th>\n",
       "      <th></th>\n",
       "      <th></th>\n",
       "      <th></th>\n",
       "      <th></th>\n",
       "      <th></th>\n",
       "    </tr>\n",
       "  </thead>\n",
       "  <tbody>\n",
       "    <tr>\n",
       "      <th>76696176</th>\n",
       "      <td>sklee_ca</td>\n",
       "      <td>2017-03-31 17:07:58+00:00</td>\n",
       "      <td>2009-09-23 17:09:53+00:00</td>\n",
       "      <td>2</td>\n",
       "      <td>2</td>\n",
       "    </tr>\n",
       "    <tr>\n",
       "      <th>66768858</th>\n",
       "      <td>emmaroller</td>\n",
       "      <td>2017-03-27 13:25:07+00:00</td>\n",
       "      <td>2009-08-18 19:10:55+00:00</td>\n",
       "      <td>223</td>\n",
       "      <td>210</td>\n",
       "    </tr>\n",
       "    <tr>\n",
       "      <th>842787331224584192</th>\n",
       "      <td>RebeccaEHoffman</td>\n",
       "      <td>2017-03-17 17:27:58+00:00</td>\n",
       "      <td>2017-03-17 17:18:52+00:00</td>\n",
       "      <td>9</td>\n",
       "      <td>9</td>\n",
       "    </tr>\n",
       "    <tr>\n",
       "      <th>831972200014045191</th>\n",
       "      <td>ErinMcManus15</td>\n",
       "      <td>2017-03-15 14:16:31+00:00</td>\n",
       "      <td>2017-02-15 21:03:24+00:00</td>\n",
       "      <td>1</td>\n",
       "      <td>1</td>\n",
       "    </tr>\n",
       "    <tr>\n",
       "      <th>20281013</th>\n",
       "      <td>EvanMcS</td>\n",
       "      <td>2017-03-10 16:33:43+00:00</td>\n",
       "      <td>2009-02-06 23:09:59+00:00</td>\n",
       "      <td>146</td>\n",
       "      <td>196</td>\n",
       "    </tr>\n",
       "    <tr>\n",
       "      <th>18825339</th>\n",
       "      <td>CahnEmily</td>\n",
       "      <td>2017-03-10 13:43:41+00:00</td>\n",
       "      <td>2009-01-10 03:19:50+00:00</td>\n",
       "      <td>86548</td>\n",
       "      <td>3205</td>\n",
       "    </tr>\n",
       "    <tr>\n",
       "      <th>30176025</th>\n",
       "      <td>LaurenFCarroll</td>\n",
       "      <td>2017-03-08 20:33:21+00:00</td>\n",
       "      <td>2009-04-10 06:29:32+00:00</td>\n",
       "      <td>34</td>\n",
       "      <td>49</td>\n",
       "    </tr>\n",
       "    <tr>\n",
       "      <th>3817401</th>\n",
       "      <td>ericgeller</td>\n",
       "      <td>2017-03-07 16:38:59+00:00</td>\n",
       "      <td>2007-04-08 20:27:11+00:00</td>\n",
       "      <td>186181</td>\n",
       "      <td>5286</td>\n",
       "    </tr>\n",
       "    <tr>\n",
       "      <th>21612122</th>\n",
       "      <td>HotlineJosh</td>\n",
       "      <td>2017-03-03 22:00:52+00:00</td>\n",
       "      <td>2009-02-22 23:45:46+00:00</td>\n",
       "      <td>143393</td>\n",
       "      <td>3227</td>\n",
       "    </tr>\n",
       "    <tr>\n",
       "      <th>22891564</th>\n",
       "      <td>chrisgeidner</td>\n",
       "      <td>2017-03-02 16:35:58+00:00</td>\n",
       "      <td>2009-03-05 06:48:00+00:00</td>\n",
       "      <td>193071</td>\n",
       "      <td>4321</td>\n",
       "    </tr>\n",
       "    <tr>\n",
       "      <th>836643030161625089</th>\n",
       "      <td>BeddingfieldMJ</td>\n",
       "      <td>2017-02-28 19:00:31+00:00</td>\n",
       "      <td>2017-02-28 18:23:37+00:00</td>\n",
       "      <td>5</td>\n",
       "      <td>5</td>\n",
       "    </tr>\n",
       "    <tr>\n",
       "      <th>103016675</th>\n",
       "      <td>AaronMehta</td>\n",
       "      <td>2017-02-16 19:05:49+00:00</td>\n",
       "      <td>2010-01-08 15:53:25+00:00</td>\n",
       "      <td>37425</td>\n",
       "      <td>3242</td>\n",
       "    </tr>\n",
       "    <tr>\n",
       "      <th>275207082</th>\n",
       "      <td>AlexParkerDC</td>\n",
       "      <td>2017-02-15 14:48:35+00:00</td>\n",
       "      <td>2011-03-31 20:53:10+00:00</td>\n",
       "      <td>135230</td>\n",
       "      <td>3206</td>\n",
       "    </tr>\n",
       "    <tr>\n",
       "      <th>456994513</th>\n",
       "      <td>maria_e_recio</td>\n",
       "      <td>2017-02-12 15:54:14+00:00</td>\n",
       "      <td>2012-01-06 22:22:40+00:00</td>\n",
       "      <td>31774</td>\n",
       "      <td>4273</td>\n",
       "    </tr>\n",
       "    <tr>\n",
       "      <th>13524182</th>\n",
       "      <td>daveweigel</td>\n",
       "      <td>2017-02-09 21:56:58+00:00</td>\n",
       "      <td>2008-02-15 17:58:23+00:00</td>\n",
       "      <td>160812</td>\n",
       "      <td>3846</td>\n",
       "    </tr>\n",
       "    <tr>\n",
       "      <th>827605131109793792</th>\n",
       "      <td>OSHAReporter</td>\n",
       "      <td>2017-02-08 21:50:54+00:00</td>\n",
       "      <td>2017-02-03 19:50:14+00:00</td>\n",
       "      <td>99</td>\n",
       "      <td>114</td>\n",
       "    </tr>\n",
       "    <tr>\n",
       "      <th>21810329</th>\n",
       "      <td>sdonnan</td>\n",
       "      <td>2017-02-08 13:44:00+00:00</td>\n",
       "      <td>2009-02-24 23:10:17+00:00</td>\n",
       "      <td>69845</td>\n",
       "      <td>3780</td>\n",
       "    </tr>\n",
       "    <tr>\n",
       "      <th>21696279</th>\n",
       "      <td>brianbeutler</td>\n",
       "      <td>2017-02-03 20:46:05+00:00</td>\n",
       "      <td>2009-02-23 21:31:16+00:00</td>\n",
       "      <td>90303</td>\n",
       "      <td>3765</td>\n",
       "    </tr>\n",
       "    <tr>\n",
       "      <th>15146659</th>\n",
       "      <td>JSwiftTWS</td>\n",
       "      <td>2017-02-03 01:33:02+00:00</td>\n",
       "      <td>2008-06-17 15:19:03+00:00</td>\n",
       "      <td>77924</td>\n",
       "      <td>3945</td>\n",
       "    </tr>\n",
       "    <tr>\n",
       "      <th>16459325</th>\n",
       "      <td>ryanbeckwith</td>\n",
       "      <td>2017-02-02 15:57:24+00:00</td>\n",
       "      <td>2008-09-25 22:43:36+00:00</td>\n",
       "      <td>83228</td>\n",
       "      <td>3223</td>\n",
       "    </tr>\n",
       "  </tbody>\n",
       "</table>\n",
       "</div>"
      ],
      "text/plain": [
       "                        screen_name          tweet_created_at  \\\n",
       "user_id                                                         \n",
       "76696176                   sklee_ca 2017-03-31 17:07:58+00:00   \n",
       "66768858                 emmaroller 2017-03-27 13:25:07+00:00   \n",
       "842787331224584192  RebeccaEHoffman 2017-03-17 17:27:58+00:00   \n",
       "831972200014045191    ErinMcManus15 2017-03-15 14:16:31+00:00   \n",
       "20281013                    EvanMcS 2017-03-10 16:33:43+00:00   \n",
       "18825339                  CahnEmily 2017-03-10 13:43:41+00:00   \n",
       "30176025             LaurenFCarroll 2017-03-08 20:33:21+00:00   \n",
       "3817401                  ericgeller 2017-03-07 16:38:59+00:00   \n",
       "21612122                HotlineJosh 2017-03-03 22:00:52+00:00   \n",
       "22891564               chrisgeidner 2017-03-02 16:35:58+00:00   \n",
       "836643030161625089   BeddingfieldMJ 2017-02-28 19:00:31+00:00   \n",
       "103016675                AaronMehta 2017-02-16 19:05:49+00:00   \n",
       "275207082              AlexParkerDC 2017-02-15 14:48:35+00:00   \n",
       "456994513             maria_e_recio 2017-02-12 15:54:14+00:00   \n",
       "13524182                 daveweigel 2017-02-09 21:56:58+00:00   \n",
       "827605131109793792     OSHAReporter 2017-02-08 21:50:54+00:00   \n",
       "21810329                    sdonnan 2017-02-08 13:44:00+00:00   \n",
       "21696279               brianbeutler 2017-02-03 20:46:05+00:00   \n",
       "15146659                  JSwiftTWS 2017-02-03 01:33:02+00:00   \n",
       "16459325               ryanbeckwith 2017-02-02 15:57:24+00:00   \n",
       "\n",
       "                             user_created_at  tweets_to_date  \\\n",
       "user_id                                                        \n",
       "76696176           2009-09-23 17:09:53+00:00               2   \n",
       "66768858           2009-08-18 19:10:55+00:00             223   \n",
       "842787331224584192 2017-03-17 17:18:52+00:00               9   \n",
       "831972200014045191 2017-02-15 21:03:24+00:00               1   \n",
       "20281013           2009-02-06 23:09:59+00:00             146   \n",
       "18825339           2009-01-10 03:19:50+00:00           86548   \n",
       "30176025           2009-04-10 06:29:32+00:00              34   \n",
       "3817401            2007-04-08 20:27:11+00:00          186181   \n",
       "21612122           2009-02-22 23:45:46+00:00          143393   \n",
       "22891564           2009-03-05 06:48:00+00:00          193071   \n",
       "836643030161625089 2017-02-28 18:23:37+00:00               5   \n",
       "103016675          2010-01-08 15:53:25+00:00           37425   \n",
       "275207082          2011-03-31 20:53:10+00:00          135230   \n",
       "456994513          2012-01-06 22:22:40+00:00           31774   \n",
       "13524182           2008-02-15 17:58:23+00:00          160812   \n",
       "827605131109793792 2017-02-03 19:50:14+00:00              99   \n",
       "21810329           2009-02-24 23:10:17+00:00           69845   \n",
       "21696279           2009-02-23 21:31:16+00:00           90303   \n",
       "15146659           2008-06-17 15:19:03+00:00           77924   \n",
       "16459325           2008-09-25 22:43:36+00:00           83228   \n",
       "\n",
       "                    tweets_in_dataset  \n",
       "user_id                                \n",
       "76696176                            2  \n",
       "66768858                          210  \n",
       "842787331224584192                  9  \n",
       "831972200014045191                  1  \n",
       "20281013                          196  \n",
       "18825339                         3205  \n",
       "30176025                           49  \n",
       "3817401                          5286  \n",
       "21612122                         3227  \n",
       "22891564                         4321  \n",
       "836643030161625089                  5  \n",
       "103016675                        3242  \n",
       "275207082                        3206  \n",
       "456994513                        4273  \n",
       "13524182                         3846  \n",
       "827605131109793792                114  \n",
       "21810329                         3780  \n",
       "21696279                         3765  \n",
       "15146659                         3945  \n",
       "16459325                         3223  "
      ]
     },
     "execution_count": 10,
     "metadata": {},
     "output_type": "execute_result"
    }
   ],
   "source": [
    "first_tweet_merge_df.sort_values('tweet_created_at', ascending=False).head(20)"
   ]
  },
  {
   "cell_type": "markdown",
   "metadata": {},
   "source": [
    "## Types of tweets <----------\n",
    "While all the tweets are loaded, summarize the types of tweets."
   ]
  },
  {
   "cell_type": "code",
   "execution_count": 11,
   "metadata": {},
   "outputs": [
    {
     "data": {
      "text/plain": [
       "original    1593541\n",
       "retweet     1094028\n",
       "reply        396287\n",
       "quote        251633\n",
       "Name: tweet_type, dtype: int64"
      ]
     },
     "execution_count": 11,
     "metadata": {},
     "output_type": "execute_result"
    }
   ],
   "source": [
    "dedupe_tweet_df['tweet_type'].value_counts()"
   ]
  }
 ],
 "metadata": {
  "kernelspec": {
   "display_name": "Python 3",
   "language": "python",
   "name": "python3"
  },
  "language_info": {
   "codemirror_mode": {
    "name": "ipython",
    "version": 3
   },
   "file_extension": ".py",
   "mimetype": "text/x-python",
   "name": "python",
   "nbconvert_exporter": "python",
   "pygments_lexer": "ipython3",
   "version": "3.6.0"
  }
 },
 "nbformat": 4,
 "nbformat_minor": 2
}
