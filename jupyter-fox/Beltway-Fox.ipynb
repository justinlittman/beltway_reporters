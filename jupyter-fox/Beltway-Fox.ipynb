{
 "cells": [
  {
   "cell_type": "markdown",
   "metadata": {},
   "source": [
    "## Setup"
   ]
  },
  {
   "cell_type": "code",
   "execution_count": 1,
   "metadata": {},
   "outputs": [
    {
     "name": "stdout",
     "output_type": "stream",
     "text": [
      "Requirement already satisfied: elasticsearch-dsl in /opt/conda/lib/python3.6/site-packages\n",
      "Requirement already satisfied: ipaddress in /opt/conda/lib/python3.6/site-packages (from elasticsearch-dsl)\n",
      "Requirement already satisfied: six in /opt/conda/lib/python3.6/site-packages (from elasticsearch-dsl)\n",
      "Requirement already satisfied: python-dateutil in /opt/conda/lib/python3.6/site-packages (from elasticsearch-dsl)\n",
      "Requirement already satisfied: elasticsearch<7.0.0,>=6.0.0 in /opt/conda/lib/python3.6/site-packages (from elasticsearch-dsl)\n",
      "Requirement already satisfied: urllib3<1.23,>=1.21.1 in /opt/conda/lib/python3.6/site-packages (from elasticsearch<7.0.0,>=6.0.0->elasticsearch-dsl)\n",
      "\u001b[33mYou are using pip version 9.0.1, however version 10.0.1 is available.\n",
      "You should consider upgrading via the 'pip install --upgrade pip' command.\u001b[0m\n"
     ]
    }
   ],
   "source": [
    "!pip install elasticsearch-dsl"
   ]
  },
  {
   "cell_type": "code",
   "execution_count": 2,
   "metadata": {},
   "outputs": [],
   "source": [
    "import os\n",
    "import pyspark\n",
    "from pyspark.sql import SQLContext\n",
    "\n",
    "# Add the elasticsearch-hadoop jar\n",
    "os.environ['PYSPARK_SUBMIT_ARGS'] = '--jars /home/jovyan/elasticsearch-hadoop-6.2.2.jar pyspark-shell'\n",
    "conf = pyspark.SparkConf()\n",
    "\n",
    "# Point to the master.\n",
    "conf.setMaster(\"spark://tweetsets.library.gwu.edu:7101\")\n",
    "import os\n",
    "import pyspark\n",
    "\n",
    "# Add the elasticsearch-hadoop jar\n",
    "os.environ['PYSPARK_SUBMIT_ARGS'] = '--jars /home/jovyan/elasticsearch-hadoop-6.2.2.jar pyspark-shell'\n",
    "conf = pyspark.SparkConf()\n",
    "\n",
    "# Point to the master.\n",
    "conf.setMaster(\"spark://tweetsets.library.gwu.edu:7101\")\n",
    "conf.setAppName(\"beltway-fox\")\n",
    "conf.set(\"spark.driver.bindAddress\", \"0.0.0.0\")\n",
    "# Don't hog all of the cores.\n",
    "conf.set(\"spark.cores.max\", \"3\")\n",
    "# Specify a port for the block manager (which runs as part of the worker). The range 7003-7028 is set \n",
    "# to be open in the Spark worker container.\n",
    "conf.set(\"spark.blockManager.port\", \"7003\")\n",
    "\n",
    "# create the context\n",
    "sc = pyspark.SparkContext(conf=conf)\n",
    "sqlContext = SQLContext(sc)\n",
    "\n",
    "# Configure for ElasticSearch cluster and index.\n",
    "es_conf = {\"es.nodes\": \"tweetsets.library.gwu.edu\",\n",
    "           \"es.port\": \"9200\",\n",
    "           \"es.resource\": \"tweets-c2c0c8/doc\",\n",
    "           \"es.read.field.as.array.include\": \"hashtags,text,urls,mention_screen_names\"}"
   ]
  },
  {
   "cell_type": "markdown",
   "metadata": {},
   "source": [
    "## Screen names, phrases, and terms"
   ]
  },
  {
   "cell_type": "code",
   "execution_count": 3,
   "metadata": {},
   "outputs": [],
   "source": [
    "# Mentions any of these accounts\n",
    "screen_names = (\"FoxNews\",\n",
    "                \"foxandfriends\",\n",
    "                \"IngrahamAngle\",\n",
    "                \"Shepnewsteam\",\n",
    "                \"TeamCavuto\",\n",
    "                \"DanaPerino\",\n",
    "                \"FoxNewsSunday\",\n",
    "                \"HeatherChilders\",\n",
    "                \"AmericaNewsroom\",\n",
    "                \"JillianMele\",\n",
    "                \"SchmittNYC\",\n",
    "                \"OutnumberedFNC\",\n",
    "                \"ainsleyearhardt\",\n",
    "                \"kilmeade\",\n",
    "                \"SteveDoocy\",\n",
    "                \"BillHemmer\",\n",
    "                \"SandraSmithFox\",\n",
    "                \"JonScottFNC\",\n",
    "                \"HARRISFAULKNER\",\n",
    "                \"TheFive\",\n",
    "                \"dailybriefing\",\n",
    "                \"GregGutfeldShow\",\n",
    "                \"SpecialReport\",\n",
    "                \"BretBaier\",\n",
    "                \"JesseBWatters\",\n",
    "                \"TheJuanWilliams\",\n",
    "                \"kimguilfoyle\",\n",
    "                \"TheStoryFNC\",\n",
    "                \"marthamaccallum\",\n",
    "                \"TuckerCarlson\",\n",
    "                \"seanhannity\",\n",
    "                \"FoxNewsTonight\",\n",
    "                \"foxnewspolitics\",\n",
    "                \"foxnewsnight\",\n",
    "                \"ShannonBream\",\n",
    "                \"HowardKurtz\",\n",
    "                \"HuntsmanAbby\",\n",
    "                \"ffweekend\",\n",
    "                \"FoxNewsSunday\",\n",
    "                \"MediaBuzzFNC\",\n",
    "                \"SundayFutures\",\n",
    "                \"mariabartiromo\",\n",
    "                \"WattersWorld\")\n",
    "\n",
    "# or uses any of these phrases\n",
    "phrases = (\"Fox News\",\n",
    "           \"Fox and Friends\",\n",
    "           \"Fox Friends\",\n",
    "           \"Heather Childers\",\n",
    "           \"Jillian Mele\",\n",
    "           \"Ainsley Earhardt\",\n",
    "           \"Steve Doocy\",\n",
    "           \"Bill Hemmer\",\n",
    "           \"Sandra Smith\",\n",
    "           \"Jon Scott\",\n",
    "           \"Harris Faulkner\",\n",
    "           \"Greg Gutfeld\",\n",
    "           \"Bret Baier\",\n",
    "           \"Jesse Watters\",\n",
    "           \"Juan Williams\",\n",
    "           \"Kim Guilfoyle\",\n",
    "           \"Tucker Carlson\"\n",
    "           \"Shannon Bream\",\n",
    "           \"Howard Kurtz\",\n",
    "           \"Abby Huntsman\",\n",
    "           \"Media Buzz\",\n",
    "           \"Sunday Futures\",\n",
    "           \"Maria Bartiromo\"\n",
    "           \n",
    ")\n",
    "\n",
    "# or any of these terms.\n",
    "terms = (\"Ingraham\",\n",
    "         \"Cavuto\",\n",
    "         \"Perino\",\n",
    "         \"Hannity\")"
   ]
  },
  {
   "cell_type": "markdown",
   "metadata": {},
   "source": [
    "## Query"
   ]
  },
  {
   "cell_type": "code",
   "execution_count": 4,
   "metadata": {},
   "outputs": [
    {
     "data": {
      "text/plain": [
       "33745"
      ]
     },
     "execution_count": 4,
     "metadata": {},
     "output_type": "execute_result"
    }
   ],
   "source": [
    "from elasticsearch_dsl import Search\n",
    "from elasticsearch_dsl.query import Q\n",
    "import json\n",
    "\n",
    "s = Search()\n",
    "q = Q('terms', mention_screen_names=screen_names)\n",
    "for term in terms:\n",
    "    q = q | Q(\"match\", text=term)\n",
    "for phrase in phrases:\n",
    "    q = q | Q(\"match_phrase\", text=phrase)\n",
    "# After June 1, 2017\n",
    "q = q & Q(\"range\", created_at={\"gte\": \"2017-06-01\", \"lt\":\"now\", \"format\": \"yyyy-MM-dd\"})\n",
    "\n",
    "s = s.filter(q)\n",
    "es_conf['es.query'] = json.dumps(s.query.to_dict())\n",
    "\n",
    "tweets_df = sqlContext.read.format(\"org.elasticsearch.spark.sql\").options(**es_conf).load()\n",
    "tweets_df.count()"
   ]
  },
  {
   "cell_type": "markdown",
   "metadata": {},
   "source": [
    "## Export"
   ]
  },
  {
   "cell_type": "code",
   "execution_count": 5,
   "metadata": {},
   "outputs": [],
   "source": [
    "import csv\n",
    "from pyspark.sql.functions import udf\n",
    "from pyspark.sql.types import StringType\n",
    "\n",
    "def clean_text(text):\n",
    "    return (' '.join(text)).replace('\\n', ' ')\n",
    " \n",
    "clean_text_udf=udf(clean_text, StringType())\n",
    "\n",
    "csv_df = tweets_df.select(\"tweet_id\", \"user_screen_name\", \"created_at\", \"tweet_type\", clean_text_udf('text').alias('text'))\n",
    "csv_df.toPandas().to_csv('fox_tweets.csv', quoting=csv.QUOTE_NONNUMERIC, index=False, header=True)"
   ]
  }
 ],
 "metadata": {
  "kernelspec": {
   "display_name": "Python 3",
   "language": "python",
   "name": "python3"
  },
  "language_info": {
   "codemirror_mode": {
    "name": "ipython",
    "version": 3
   },
   "file_extension": ".py",
   "mimetype": "text/x-python",
   "name": "python",
   "nbconvert_exporter": "python",
   "pygments_lexer": "ipython3",
   "version": "3.6.2"
  }
 },
 "nbformat": 4,
 "nbformat_minor": 2
}
